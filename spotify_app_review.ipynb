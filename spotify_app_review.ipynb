{
 "cells": [
  {
   "cell_type": "markdown",
   "metadata": {},
   "source": [
    "# SET UP"
   ]
  },
  {
   "cell_type": "code",
   "execution_count": 1,
   "metadata": {},
   "outputs": [],
   "source": [
    "### Import libraries\n",
    "import os\n",
    "import numpy as np\n",
    "import pandas as pd\n",
    "import matplotlib.pyplot as plt\n",
    "import seaborn as sns\n",
    "import contractions\n",
    "import emoji\n",
    "import spacy\n",
    "from spacytextblob.spacytextblob import SpacyTextBlob\n",
    "from sklearn.model_selection import train_test_split\n",
    "from sklearn.pipeline import Pipeline\n",
    "from sklearn.model_selection import KFold, RandomizedSearchCV\n",
    "from sklearn.feature_extraction.text import TfidfVectorizer\n",
    "from sklearn.linear_model import LogisticRegressionCV\n",
    "from sklearn.naive_bayes import MultinomialNB\n",
    "from lightgbm import LGBMClassifier\n",
    "from sklearn.metrics import classification_report\n",
    "from joblib import dump, load\n",
    "\n",
    "pd.options.display.float_format = \"{:.1f}\".format\n",
    "sns.set_theme(style = \"darkgrid\", rc = {\"figure.figsize\": (14, 6)})"
   ]
  },
  {
   "cell_type": "code",
   "execution_count": 2,
   "metadata": {},
   "outputs": [
    {
     "data": {
      "text/plain": [
       "<spacytextblob.spacytextblob.SpacyTextBlob at 0x14913b64850>"
      ]
     },
     "execution_count": 2,
     "metadata": {},
     "output_type": "execute_result"
    }
   ],
   "source": [
    "### Load pipeline\n",
    "nlp = spacy.load(\"en_core_web_sm\", disable = [\"tok2vec\", \"parser\", \"ner\"])\n",
    "nlp.add_pipe(\"spacytextblob\")"
   ]
  },
  {
   "cell_type": "markdown",
   "metadata": {},
   "source": [
    "# LOAD DATA"
   ]
  },
  {
   "cell_type": "code",
   "execution_count": 3,
   "metadata": {},
   "outputs": [
    {
     "name": "stdout",
     "output_type": "stream",
     "text": [
      "<class 'pandas.core.frame.DataFrame'>\n",
      "RangeIndex: 61594 entries, 0 to 61593\n",
      "Data columns (total 5 columns):\n",
      " #   Column       Non-Null Count  Dtype \n",
      "---  ------       --------------  ----- \n",
      " 0   Review_Time  61594 non-null  object\n",
      " 1   Review       61594 non-null  object\n",
      " 2   Rating       61594 non-null  int64 \n",
      " 3   Thumbs_Up    61594 non-null  int64 \n",
      " 4   Reply        216 non-null    object\n",
      "dtypes: int64(2), object(3)\n",
      "memory usage: 2.3+ MB\n",
      "None\n"
     ]
    }
   ],
   "source": [
    "### Import Spotify app reviews dataset\n",
    "df = pd.read_csv(\"./Data/Reviews.csv\", header = 0, names = [\"Review_Time\", \"Review\", \"Rating\", \"Thumbs_Up\", \"Reply\"])\n",
    "print(df.info())"
   ]
  },
  {
   "cell_type": "code",
   "execution_count": 4,
   "metadata": {},
   "outputs": [
    {
     "data": {
      "text/html": [
       "<div>\n",
       "<style scoped>\n",
       "    .dataframe tbody tr th:only-of-type {\n",
       "        vertical-align: middle;\n",
       "    }\n",
       "\n",
       "    .dataframe tbody tr th {\n",
       "        vertical-align: top;\n",
       "    }\n",
       "\n",
       "    .dataframe thead th {\n",
       "        text-align: right;\n",
       "    }\n",
       "</style>\n",
       "<table border=\"1\" class=\"dataframe\">\n",
       "  <thead>\n",
       "    <tr style=\"text-align: right;\">\n",
       "      <th></th>\n",
       "      <th>Review_Time</th>\n",
       "      <th>Review</th>\n",
       "      <th>Rating</th>\n",
       "      <th>Thumbs_Up</th>\n",
       "      <th>Reply</th>\n",
       "    </tr>\n",
       "  </thead>\n",
       "  <tbody>\n",
       "    <tr>\n",
       "      <th>0</th>\n",
       "      <td>2022-07-09 15:00:00</td>\n",
       "      <td>Great music service, the audio is high quality...</td>\n",
       "      <td>5</td>\n",
       "      <td>2</td>\n",
       "      <td>NaN</td>\n",
       "    </tr>\n",
       "    <tr>\n",
       "      <th>1</th>\n",
       "      <td>2022-07-09 14:21:22</td>\n",
       "      <td>Please ignore previous negative rating. This a...</td>\n",
       "      <td>5</td>\n",
       "      <td>1</td>\n",
       "      <td>NaN</td>\n",
       "    </tr>\n",
       "    <tr>\n",
       "      <th>2</th>\n",
       "      <td>2022-07-09 13:27:32</td>\n",
       "      <td>This pop-up \"Get the best Spotify experience o...</td>\n",
       "      <td>4</td>\n",
       "      <td>0</td>\n",
       "      <td>NaN</td>\n",
       "    </tr>\n",
       "    <tr>\n",
       "      <th>3</th>\n",
       "      <td>2022-07-09 13:26:45</td>\n",
       "      <td>Really buggy and terrible to use as of recently</td>\n",
       "      <td>1</td>\n",
       "      <td>1</td>\n",
       "      <td>NaN</td>\n",
       "    </tr>\n",
       "    <tr>\n",
       "      <th>4</th>\n",
       "      <td>2022-07-09 13:20:49</td>\n",
       "      <td>Dear Spotify why do I get songs that I didn't ...</td>\n",
       "      <td>1</td>\n",
       "      <td>1</td>\n",
       "      <td>NaN</td>\n",
       "    </tr>\n",
       "  </tbody>\n",
       "</table>\n",
       "</div>"
      ],
      "text/plain": [
       "           Review_Time                                             Review  \\\n",
       "0  2022-07-09 15:00:00  Great music service, the audio is high quality...   \n",
       "1  2022-07-09 14:21:22  Please ignore previous negative rating. This a...   \n",
       "2  2022-07-09 13:27:32  This pop-up \"Get the best Spotify experience o...   \n",
       "3  2022-07-09 13:26:45    Really buggy and terrible to use as of recently   \n",
       "4  2022-07-09 13:20:49  Dear Spotify why do I get songs that I didn't ...   \n",
       "\n",
       "   Rating  Thumbs_Up Reply  \n",
       "0       5          2   NaN  \n",
       "1       5          1   NaN  \n",
       "2       4          0   NaN  \n",
       "3       1          1   NaN  \n",
       "4       1          1   NaN  "
      ]
     },
     "execution_count": 4,
     "metadata": {},
     "output_type": "execute_result"
    }
   ],
   "source": [
    "### Glimpse of data\n",
    "df.head()"
   ]
  },
  {
   "cell_type": "markdown",
   "metadata": {},
   "source": [
    "# TRANSFORM"
   ]
  },
  {
   "cell_type": "code",
   "execution_count": 5,
   "metadata": {},
   "outputs": [
    {
     "name": "stdout",
     "output_type": "stream",
     "text": [
      "<class 'pandas.core.frame.DataFrame'>\n",
      "RangeIndex: 61594 entries, 0 to 61593\n",
      "Data columns (total 5 columns):\n",
      " #   Column       Non-Null Count  Dtype         \n",
      "---  ------       --------------  -----         \n",
      " 0   Review_Time  61594 non-null  datetime64[ns]\n",
      " 1   Review       61594 non-null  object        \n",
      " 2   Rating       61594 non-null  int64         \n",
      " 3   Thumbs_Up    61594 non-null  int64         \n",
      " 4   Reply        216 non-null    object        \n",
      "dtypes: datetime64[ns](1), int64(2), object(2)\n",
      "memory usage: 2.3+ MB\n",
      "None\n"
     ]
    }
   ],
   "source": [
    "### Change data type\n",
    "df[\"Review_Time\"] = pd.to_datetime(df[\"Review_Time\"], format = \"%Y-%m-%d %H:%M:%S\")\n",
    "print(df.info())"
   ]
  },
  {
   "cell_type": "code",
   "execution_count": 6,
   "metadata": {},
   "outputs": [],
   "source": [
    "### Drop duplicate reviews\n",
    "df.drop_duplicates(subset = [\"Review\"], inplace = True)"
   ]
  },
  {
   "cell_type": "code",
   "execution_count": 7,
   "metadata": {},
   "outputs": [],
   "source": [
    "### Add review date and month\n",
    "df[\"Review_Date\"] = df[\"Review_Time\"].dt.date\n",
    "df[\"Review_Date\"] = pd.to_datetime(df[\"Review_Date\"], format = \"%Y-%m-%d\")\n",
    "df[\"Review_Month\"] = df[\"Review_Date\"].dt.month"
   ]
  },
  {
   "cell_type": "code",
   "execution_count": 8,
   "metadata": {},
   "outputs": [
    {
     "data": {
      "text/html": [
       "<div>\n",
       "<style scoped>\n",
       "    .dataframe tbody tr th:only-of-type {\n",
       "        vertical-align: middle;\n",
       "    }\n",
       "\n",
       "    .dataframe tbody tr th {\n",
       "        vertical-align: top;\n",
       "    }\n",
       "\n",
       "    .dataframe thead th {\n",
       "        text-align: right;\n",
       "    }\n",
       "</style>\n",
       "<table border=\"1\" class=\"dataframe\">\n",
       "  <thead>\n",
       "    <tr style=\"text-align: right;\">\n",
       "      <th></th>\n",
       "      <th>Review_Time</th>\n",
       "      <th>Rating</th>\n",
       "      <th>Thumbs_Up</th>\n",
       "      <th>Review_Date</th>\n",
       "      <th>Review_Month</th>\n",
       "    </tr>\n",
       "  </thead>\n",
       "  <tbody>\n",
       "    <tr>\n",
       "      <th>count</th>\n",
       "      <td>61356</td>\n",
       "      <td>61356.0</td>\n",
       "      <td>61356.0</td>\n",
       "      <td>61356</td>\n",
       "      <td>61356.0</td>\n",
       "    </tr>\n",
       "    <tr>\n",
       "      <th>mean</th>\n",
       "      <td>2022-04-20 10:25:45.314280448</td>\n",
       "      <td>3.2</td>\n",
       "      <td>7.7</td>\n",
       "      <td>2022-04-19 21:47:26.626246912</td>\n",
       "      <td>4.1</td>\n",
       "    </tr>\n",
       "    <tr>\n",
       "      <th>min</th>\n",
       "      <td>2022-01-01 00:19:09</td>\n",
       "      <td>1.0</td>\n",
       "      <td>0.0</td>\n",
       "      <td>2022-01-01 00:00:00</td>\n",
       "      <td>1.0</td>\n",
       "    </tr>\n",
       "    <tr>\n",
       "      <th>25%</th>\n",
       "      <td>2022-03-08 19:27:30</td>\n",
       "      <td>1.0</td>\n",
       "      <td>0.0</td>\n",
       "      <td>2022-03-08 00:00:00</td>\n",
       "      <td>3.0</td>\n",
       "    </tr>\n",
       "    <tr>\n",
       "      <th>50%</th>\n",
       "      <td>2022-04-21 21:52:55.500000</td>\n",
       "      <td>3.0</td>\n",
       "      <td>0.0</td>\n",
       "      <td>2022-04-21 00:00:00</td>\n",
       "      <td>4.0</td>\n",
       "    </tr>\n",
       "    <tr>\n",
       "      <th>75%</th>\n",
       "      <td>2022-06-03 07:30:47.750000128</td>\n",
       "      <td>5.0</td>\n",
       "      <td>1.0</td>\n",
       "      <td>2022-06-03 00:00:00</td>\n",
       "      <td>6.0</td>\n",
       "    </tr>\n",
       "    <tr>\n",
       "      <th>max</th>\n",
       "      <td>2022-07-09 15:00:00</td>\n",
       "      <td>5.0</td>\n",
       "      <td>8195.0</td>\n",
       "      <td>2022-07-09 00:00:00</td>\n",
       "      <td>7.0</td>\n",
       "    </tr>\n",
       "    <tr>\n",
       "      <th>std</th>\n",
       "      <td>NaN</td>\n",
       "      <td>1.7</td>\n",
       "      <td>89.5</td>\n",
       "      <td>NaN</td>\n",
       "      <td>1.7</td>\n",
       "    </tr>\n",
       "  </tbody>\n",
       "</table>\n",
       "</div>"
      ],
      "text/plain": [
       "                         Review_Time  Rating  Thumbs_Up  \\\n",
       "count                          61356 61356.0    61356.0   \n",
       "mean   2022-04-20 10:25:45.314280448     3.2        7.7   \n",
       "min              2022-01-01 00:19:09     1.0        0.0   \n",
       "25%              2022-03-08 19:27:30     1.0        0.0   \n",
       "50%       2022-04-21 21:52:55.500000     3.0        0.0   \n",
       "75%    2022-06-03 07:30:47.750000128     5.0        1.0   \n",
       "max              2022-07-09 15:00:00     5.0     8195.0   \n",
       "std                              NaN     1.7       89.5   \n",
       "\n",
       "                         Review_Date  Review_Month  \n",
       "count                          61356       61356.0  \n",
       "mean   2022-04-19 21:47:26.626246912           4.1  \n",
       "min              2022-01-01 00:00:00           1.0  \n",
       "25%              2022-03-08 00:00:00           3.0  \n",
       "50%              2022-04-21 00:00:00           4.0  \n",
       "75%              2022-06-03 00:00:00           6.0  \n",
       "max              2022-07-09 00:00:00           7.0  \n",
       "std                              NaN           1.7  "
      ]
     },
     "execution_count": 8,
     "metadata": {},
     "output_type": "execute_result"
    }
   ],
   "source": [
    "### View summary statistics\n",
    "df.describe(datetime_is_numeric = True)"
   ]
  },
  {
   "cell_type": "code",
   "execution_count": 9,
   "metadata": {},
   "outputs": [],
   "source": [
    "def clean_text(df, text_column):\n",
    "    \"\"\"Returns cleaned versions of the input column\"\"\"\n",
    "    stop_words = list(spacy.lang.en.stop_words.STOP_WORDS)\n",
    "\n",
    "    new_column = str(text_column) + \"_Cleaned\"\n",
    "    new_column2 = str(text_column) + \"_Cleaned_2\"\n",
    "\n",
    "    df[new_column] = df[text_column].apply(lambda x: contractions.fix(x))\n",
    "    df[new_column] = df[new_column].apply(lambda x: emoji.demojize(x))\n",
    "    df[new_column] = df[new_column].str.replace(\"[^a-zA-Z0-9]+\", \" \", regex = True)\n",
    "    df[new_column] = df[new_column].str.replace(\"\\d\", \"\", regex = True)\n",
    "    df[new_column] = df[new_column].apply(lambda x: \" \".join(x.split()))\n",
    "    df[new_column] = df[new_column].str.lower()\n",
    "    df[new_column] = df[new_column].apply(lambda x: \" \".join([t.lemma_ for t in nlp(x)]))\n",
    "\n",
    "    df[new_column2] = df[new_column].apply(lambda x: \" \".join(x for x in x.split() if x not in stop_words))"
   ]
  },
  {
   "cell_type": "code",
   "execution_count": 10,
   "metadata": {},
   "outputs": [],
   "source": [
    "clean_text(df, \"Review\")"
   ]
  },
  {
   "cell_type": "code",
   "execution_count": 11,
   "metadata": {},
   "outputs": [],
   "source": [
    "def get_length(df, text_column):\n",
    "    \"\"\"Returns the length of the input column\"\"\"\n",
    "    new_column = str(text_column) + \"_Length\"\n",
    "\n",
    "    df[new_column] = df[text_column].str.len()"
   ]
  },
  {
   "cell_type": "code",
   "execution_count": 12,
   "metadata": {},
   "outputs": [],
   "source": [
    "get_length(df, \"Review_Cleaned\")"
   ]
  },
  {
   "cell_type": "code",
   "execution_count": 13,
   "metadata": {},
   "outputs": [],
   "source": [
    "def get_polarity(df, rating_column):\n",
    "    \"\"\"Returns the sentiment of the input column\"\"\"\n",
    "    conds = [(df[rating_column] == 1) | (df[rating_column] == 2),\n",
    "            df[rating_column] == 3,\n",
    "            (df[rating_column] == 4) | (df[rating_column] == 5)]\n",
    "    choices = [\"Negative\", \"Neutral\", \"Positive\"]\n",
    "    df[\"Multi_Sentiment\"] = np.select(conds, choices, default = \"TBD\")\n",
    "\n",
    "    df[\"Binary_Sentiment\"] = np.where(df[rating_column] >= 4, \"Positive\", \"Negative\")"
   ]
  },
  {
   "cell_type": "code",
   "execution_count": 14,
   "metadata": {},
   "outputs": [],
   "source": [
    "get_polarity(df, \"Rating\")"
   ]
  },
  {
   "cell_type": "code",
   "execution_count": 15,
   "metadata": {},
   "outputs": [],
   "source": [
    "def get_subjectivity(df, text_column):\n",
    "    \"Returns the subjectivity of the input column\"\n",
    "    score_column = \"Subjectivity_Score\"\n",
    "    subjective_column = \"Subjective\"\n",
    "    df[score_column] = df[text_column].apply(lambda x: nlp(x)._.blob.subjectivity) \n",
    "    df[subjective_column] = np.where(df[score_column] > 0, 1, 0)"
   ]
  },
  {
   "cell_type": "code",
   "execution_count": 16,
   "metadata": {},
   "outputs": [],
   "source": [
    "get_subjectivity(df, \"Review_Cleaned\")"
   ]
  },
  {
   "cell_type": "code",
   "execution_count": 17,
   "metadata": {},
   "outputs": [
    {
     "data": {
      "text/html": [
       "<div>\n",
       "<style scoped>\n",
       "    .dataframe tbody tr th:only-of-type {\n",
       "        vertical-align: middle;\n",
       "    }\n",
       "\n",
       "    .dataframe tbody tr th {\n",
       "        vertical-align: top;\n",
       "    }\n",
       "\n",
       "    .dataframe thead th {\n",
       "        text-align: right;\n",
       "    }\n",
       "</style>\n",
       "<table border=\"1\" class=\"dataframe\">\n",
       "  <thead>\n",
       "    <tr style=\"text-align: right;\">\n",
       "      <th></th>\n",
       "      <th>Review_Time</th>\n",
       "      <th>Review</th>\n",
       "      <th>Rating</th>\n",
       "      <th>Thumbs_Up</th>\n",
       "      <th>Reply</th>\n",
       "      <th>Review_Date</th>\n",
       "      <th>Review_Month</th>\n",
       "      <th>Review_Cleaned</th>\n",
       "      <th>Review_Cleaned_2</th>\n",
       "      <th>Review_Cleaned_Length</th>\n",
       "      <th>Multi_Sentiment</th>\n",
       "      <th>Binary_Sentiment</th>\n",
       "      <th>Subjectivity_Score</th>\n",
       "      <th>Subjective</th>\n",
       "    </tr>\n",
       "  </thead>\n",
       "  <tbody>\n",
       "    <tr>\n",
       "      <th>0</th>\n",
       "      <td>2022-07-09 15:00:00</td>\n",
       "      <td>Great music service, the audio is high quality...</td>\n",
       "      <td>5</td>\n",
       "      <td>2</td>\n",
       "      <td>NaN</td>\n",
       "      <td>2022-07-09</td>\n",
       "      <td>7</td>\n",
       "      <td>great music service the audio is high quality ...</td>\n",
       "      <td>great music service audio high quality app eas...</td>\n",
       "      <td>109</td>\n",
       "      <td>Positive</td>\n",
       "      <td>Positive</td>\n",
       "      <td>0.7</td>\n",
       "      <td>1</td>\n",
       "    </tr>\n",
       "    <tr>\n",
       "      <th>1</th>\n",
       "      <td>2022-07-09 14:21:22</td>\n",
       "      <td>Please ignore previous negative rating. This a...</td>\n",
       "      <td>5</td>\n",
       "      <td>1</td>\n",
       "      <td>NaN</td>\n",
       "      <td>2022-07-09</td>\n",
       "      <td>7</td>\n",
       "      <td>please ignore previous negative rating this ap...</td>\n",
       "      <td>ignore previous negative rating app super grea...</td>\n",
       "      <td>83</td>\n",
       "      <td>Positive</td>\n",
       "      <td>Positive</td>\n",
       "      <td>0.5</td>\n",
       "      <td>1</td>\n",
       "    </tr>\n",
       "    <tr>\n",
       "      <th>2</th>\n",
       "      <td>2022-07-09 13:27:32</td>\n",
       "      <td>This pop-up \"Get the best Spotify experience o...</td>\n",
       "      <td>4</td>\n",
       "      <td>0</td>\n",
       "      <td>NaN</td>\n",
       "      <td>2022-07-09</td>\n",
       "      <td>7</td>\n",
       "      <td>this pop up get the best spotify experience on...</td>\n",
       "      <td>pop best spotify experience android annoying l...</td>\n",
       "      <td>100</td>\n",
       "      <td>Positive</td>\n",
       "      <td>Positive</td>\n",
       "      <td>0.6</td>\n",
       "      <td>1</td>\n",
       "    </tr>\n",
       "    <tr>\n",
       "      <th>3</th>\n",
       "      <td>2022-07-09 13:26:45</td>\n",
       "      <td>Really buggy and terrible to use as of recently</td>\n",
       "      <td>1</td>\n",
       "      <td>1</td>\n",
       "      <td>NaN</td>\n",
       "      <td>2022-07-09</td>\n",
       "      <td>7</td>\n",
       "      <td>really buggy and terrible to use as of recently</td>\n",
       "      <td>buggy terrible use recently</td>\n",
       "      <td>47</td>\n",
       "      <td>Negative</td>\n",
       "      <td>Negative</td>\n",
       "      <td>0.5</td>\n",
       "      <td>1</td>\n",
       "    </tr>\n",
       "    <tr>\n",
       "      <th>4</th>\n",
       "      <td>2022-07-09 13:20:49</td>\n",
       "      <td>Dear Spotify why do I get songs that I didn't ...</td>\n",
       "      <td>1</td>\n",
       "      <td>1</td>\n",
       "      <td>NaN</td>\n",
       "      <td>2022-07-09</td>\n",
       "      <td>7</td>\n",
       "      <td>dear spotify why do i get songs that i did not...</td>\n",
       "      <td>dear spotify songs playlist shuffle play</td>\n",
       "      <td>97</td>\n",
       "      <td>Negative</td>\n",
       "      <td>Negative</td>\n",
       "      <td>0.0</td>\n",
       "      <td>0</td>\n",
       "    </tr>\n",
       "  </tbody>\n",
       "</table>\n",
       "</div>"
      ],
      "text/plain": [
       "          Review_Time                                             Review  \\\n",
       "0 2022-07-09 15:00:00  Great music service, the audio is high quality...   \n",
       "1 2022-07-09 14:21:22  Please ignore previous negative rating. This a...   \n",
       "2 2022-07-09 13:27:32  This pop-up \"Get the best Spotify experience o...   \n",
       "3 2022-07-09 13:26:45    Really buggy and terrible to use as of recently   \n",
       "4 2022-07-09 13:20:49  Dear Spotify why do I get songs that I didn't ...   \n",
       "\n",
       "   Rating  Thumbs_Up Reply Review_Date  Review_Month  \\\n",
       "0       5          2   NaN  2022-07-09             7   \n",
       "1       5          1   NaN  2022-07-09             7   \n",
       "2       4          0   NaN  2022-07-09             7   \n",
       "3       1          1   NaN  2022-07-09             7   \n",
       "4       1          1   NaN  2022-07-09             7   \n",
       "\n",
       "                                      Review_Cleaned  \\\n",
       "0  great music service the audio is high quality ...   \n",
       "1  please ignore previous negative rating this ap...   \n",
       "2  this pop up get the best spotify experience on...   \n",
       "3    really buggy and terrible to use as of recently   \n",
       "4  dear spotify why do i get songs that i did not...   \n",
       "\n",
       "                                    Review_Cleaned_2  Review_Cleaned_Length  \\\n",
       "0  great music service audio high quality app eas...                    109   \n",
       "1  ignore previous negative rating app super grea...                     83   \n",
       "2  pop best spotify experience android annoying l...                    100   \n",
       "3                        buggy terrible use recently                     47   \n",
       "4           dear spotify songs playlist shuffle play                     97   \n",
       "\n",
       "  Multi_Sentiment Binary_Sentiment  Subjectivity_Score  Subjective  \n",
       "0        Positive         Positive                 0.7           1  \n",
       "1        Positive         Positive                 0.5           1  \n",
       "2        Positive         Positive                 0.6           1  \n",
       "3        Negative         Negative                 0.5           1  \n",
       "4        Negative         Negative                 0.0           0  "
      ]
     },
     "execution_count": 17,
     "metadata": {},
     "output_type": "execute_result"
    }
   ],
   "source": [
    "### Glimpse of data\n",
    "df.head()"
   ]
  },
  {
   "cell_type": "markdown",
   "metadata": {},
   "source": [
    "# EDA"
   ]
  },
  {
   "cell_type": "code",
   "execution_count": 22,
   "metadata": {},
   "outputs": [
    {
     "data": {
      "text/html": [
       "<div>\n",
       "<style scoped>\n",
       "    .dataframe tbody tr th:only-of-type {\n",
       "        vertical-align: middle;\n",
       "    }\n",
       "\n",
       "    .dataframe tbody tr th {\n",
       "        vertical-align: top;\n",
       "    }\n",
       "\n",
       "    .dataframe thead th {\n",
       "        text-align: right;\n",
       "    }\n",
       "</style>\n",
       "<table border=\"1\" class=\"dataframe\">\n",
       "  <thead>\n",
       "    <tr style=\"text-align: right;\">\n",
       "      <th></th>\n",
       "      <th>Review_Time</th>\n",
       "      <th>Rating</th>\n",
       "      <th>Thumbs_Up</th>\n",
       "      <th>Review_Date</th>\n",
       "      <th>Review_Month</th>\n",
       "      <th>Review_Cleaned_Length</th>\n",
       "      <th>Subjectivity_Score</th>\n",
       "      <th>Subjective</th>\n",
       "    </tr>\n",
       "  </thead>\n",
       "  <tbody>\n",
       "    <tr>\n",
       "      <th>count</th>\n",
       "      <td>61346</td>\n",
       "      <td>61346.0</td>\n",
       "      <td>61346.0</td>\n",
       "      <td>61346</td>\n",
       "      <td>61346.0</td>\n",
       "      <td>61346.0</td>\n",
       "      <td>61346.0</td>\n",
       "      <td>61346.0</td>\n",
       "    </tr>\n",
       "    <tr>\n",
       "      <th>mean</th>\n",
       "      <td>2022-04-20 10:16:10.327323648</td>\n",
       "      <td>3.2</td>\n",
       "      <td>7.7</td>\n",
       "      <td>2022-04-19 21:38:18.868711680</td>\n",
       "      <td>4.1</td>\n",
       "      <td>164.3</td>\n",
       "      <td>0.5</td>\n",
       "      <td>0.9</td>\n",
       "    </tr>\n",
       "    <tr>\n",
       "      <th>min</th>\n",
       "      <td>2022-01-01 00:19:00</td>\n",
       "      <td>1.0</td>\n",
       "      <td>0.0</td>\n",
       "      <td>2022-01-01 00:00:00</td>\n",
       "      <td>1.0</td>\n",
       "      <td>7.0</td>\n",
       "      <td>0.0</td>\n",
       "      <td>0.0</td>\n",
       "    </tr>\n",
       "    <tr>\n",
       "      <th>25%</th>\n",
       "      <td>2022-03-08 19:26:15</td>\n",
       "      <td>1.0</td>\n",
       "      <td>0.0</td>\n",
       "      <td>2022-03-08 00:00:00</td>\n",
       "      <td>3.0</td>\n",
       "      <td>74.0</td>\n",
       "      <td>0.4</td>\n",
       "      <td>1.0</td>\n",
       "    </tr>\n",
       "    <tr>\n",
       "      <th>50%</th>\n",
       "      <td>2022-04-21 21:51:00</td>\n",
       "      <td>3.0</td>\n",
       "      <td>0.0</td>\n",
       "      <td>2022-04-21 00:00:00</td>\n",
       "      <td>4.0</td>\n",
       "      <td>131.0</td>\n",
       "      <td>0.5</td>\n",
       "      <td>1.0</td>\n",
       "    </tr>\n",
       "    <tr>\n",
       "      <th>75%</th>\n",
       "      <td>2022-06-03 07:18:15</td>\n",
       "      <td>5.0</td>\n",
       "      <td>1.0</td>\n",
       "      <td>2022-06-03 00:00:00</td>\n",
       "      <td>6.0</td>\n",
       "      <td>221.0</td>\n",
       "      <td>0.7</td>\n",
       "      <td>1.0</td>\n",
       "    </tr>\n",
       "    <tr>\n",
       "      <th>max</th>\n",
       "      <td>2022-07-09 15:00:00</td>\n",
       "      <td>5.0</td>\n",
       "      <td>8195.0</td>\n",
       "      <td>2022-07-09 00:00:00</td>\n",
       "      <td>7.0</td>\n",
       "      <td>3939.0</td>\n",
       "      <td>1.0</td>\n",
       "      <td>1.0</td>\n",
       "    </tr>\n",
       "    <tr>\n",
       "      <th>std</th>\n",
       "      <td>NaN</td>\n",
       "      <td>1.7</td>\n",
       "      <td>89.5</td>\n",
       "      <td>NaN</td>\n",
       "      <td>1.7</td>\n",
       "      <td>121.6</td>\n",
       "      <td>0.2</td>\n",
       "      <td>0.3</td>\n",
       "    </tr>\n",
       "  </tbody>\n",
       "</table>\n",
       "</div>"
      ],
      "text/plain": [
       "                         Review_Time  Rating  Thumbs_Up  \\\n",
       "count                          61346 61346.0    61346.0   \n",
       "mean   2022-04-20 10:16:10.327323648     3.2        7.7   \n",
       "min              2022-01-01 00:19:00     1.0        0.0   \n",
       "25%              2022-03-08 19:26:15     1.0        0.0   \n",
       "50%              2022-04-21 21:51:00     3.0        0.0   \n",
       "75%              2022-06-03 07:18:15     5.0        1.0   \n",
       "max              2022-07-09 15:00:00     5.0     8195.0   \n",
       "std                              NaN     1.7       89.5   \n",
       "\n",
       "                         Review_Date  Review_Month  Review_Cleaned_Length  \\\n",
       "count                          61346       61346.0                61346.0   \n",
       "mean   2022-04-19 21:38:18.868711680           4.1                  164.3   \n",
       "min              2022-01-01 00:00:00           1.0                    7.0   \n",
       "25%              2022-03-08 00:00:00           3.0                   74.0   \n",
       "50%              2022-04-21 00:00:00           4.0                  131.0   \n",
       "75%              2022-06-03 00:00:00           6.0                  221.0   \n",
       "max              2022-07-09 00:00:00           7.0                 3939.0   \n",
       "std                              NaN           1.7                  121.6   \n",
       "\n",
       "       Subjectivity_Score  Subjective  \n",
       "count             61346.0     61346.0  \n",
       "mean                  0.5         0.9  \n",
       "min                   0.0         0.0  \n",
       "25%                   0.4         1.0  \n",
       "50%                   0.5         1.0  \n",
       "75%                   0.7         1.0  \n",
       "max                   1.0         1.0  \n",
       "std                   0.2         0.3  "
      ]
     },
     "execution_count": 22,
     "metadata": {},
     "output_type": "execute_result"
    }
   ],
   "source": [
    "### View summary statistics\n",
    "df.describe(datetime_is_numeric = True)"
   ]
  },
  {
   "cell_type": "code",
   "execution_count": 23,
   "metadata": {},
   "outputs": [
    {
     "data": {
      "text/plain": [
       "['great music service the audio is high quality and the app is easy to use also very quick and friendly support',\n",
       " 'please ignore previous negative rating this app is super great i give it five stars',\n",
       " 'this pop up get the best spotify experience on android is too annoying please let us get rid of this',\n",
       " 'really buggy and terrible to use as of recently',\n",
       " 'dear spotify why do i get songs that i did not put on my playlist and why do we have shuffle play',\n",
       " 'the player controls sometimes disappear for no reason app restart forgets what i was playing but fixes the issue']"
      ]
     },
     "execution_count": 23,
     "metadata": {},
     "output_type": "execute_result"
    }
   ],
   "source": [
    "### Print out a few reviews\n",
    "df.loc[0:5, \"Review_Cleaned\"].tolist()"
   ]
  },
  {
   "cell_type": "code",
   "execution_count": 25,
   "metadata": {},
   "outputs": [
    {
     "data": {
      "image/png": "[encoded data removed]",
      "text/plain": [
       "<Figure size 1008x432 with 1 Axes>"
      ]
     },
     "metadata": {},
     "output_type": "display_data"
    }
   ],
   "source": [
    "### Distribution of overall sentiment\n",
    "sns.countplot(data = df, x = \"Multi_Sentiment\", order = [\"Negative\", \"Neutral\", \"Positive\"])\n",
    "plt.title(\"Distribution of Sentiment\")\n",
    "plt.show()"
   ]
  },
  {
   "cell_type": "code",
   "execution_count": 27,
   "metadata": {},
   "outputs": [
    {
     "data": {
      "text/html": [
       "<div>\n",
       "<style scoped>\n",
       "    .dataframe tbody tr th:only-of-type {\n",
       "        vertical-align: middle;\n",
       "    }\n",
       "\n",
       "    .dataframe tbody tr th {\n",
       "        vertical-align: top;\n",
       "    }\n",
       "\n",
       "    .dataframe thead th {\n",
       "        text-align: right;\n",
       "    }\n",
       "</style>\n",
       "<table border=\"1\" class=\"dataframe\">\n",
       "  <thead>\n",
       "    <tr style=\"text-align: right;\">\n",
       "      <th></th>\n",
       "      <th>Multi_Sentiment</th>\n",
       "      <th>Count</th>\n",
       "      <th>Percent</th>\n",
       "    </tr>\n",
       "  </thead>\n",
       "  <tbody>\n",
       "    <tr>\n",
       "      <th>0</th>\n",
       "      <td>Negative</td>\n",
       "      <td>24716</td>\n",
       "      <td>40.3</td>\n",
       "    </tr>\n",
       "    <tr>\n",
       "      <th>1</th>\n",
       "      <td>Neutral</td>\n",
       "      <td>6876</td>\n",
       "      <td>11.2</td>\n",
       "    </tr>\n",
       "    <tr>\n",
       "      <th>2</th>\n",
       "      <td>Positive</td>\n",
       "      <td>29754</td>\n",
       "      <td>48.5</td>\n",
       "    </tr>\n",
       "  </tbody>\n",
       "</table>\n",
       "</div>"
      ],
      "text/plain": [
       "  Multi_Sentiment  Count  Percent\n",
       "0        Negative  24716     40.3\n",
       "1         Neutral   6876     11.2\n",
       "2        Positive  29754     48.5"
      ]
     },
     "execution_count": 27,
     "metadata": {},
     "output_type": "execute_result"
    }
   ],
   "source": [
    "agg_sentiment_df = df.groupby([\"Multi_Sentiment\"])[[\"Review_Time\"]].agg(Count = (\"Review_Time\", \"count\")).reset_index()\n",
    "agg_sentiment_df[\"Percent\"] = agg_sentiment_df.groupby(\"Multi_Sentiment\")[\"Count\"].transform(\"sum\") / agg_sentiment_df[\"Count\"].sum() * 100\n",
    "agg_sentiment_df"
   ]
  },
  {
   "cell_type": "markdown",
   "metadata": {},
   "source": [
    "48.5% of the reviews are positive"
   ]
  },
  {
   "cell_type": "code",
   "execution_count": 28,
   "metadata": {},
   "outputs": [
    {
     "data": {
      "image/png": "[encoded data removed]",
      "text/plain": [
       "<Figure size 1008x432 with 1 Axes>"
      ]
     },
     "metadata": {},
     "output_type": "display_data"
    }
   ],
   "source": [
    "### Distribution of sentiment by month\n",
    "agg_sentiment_month_df = df.groupby([\"Review_Month\", \"Multi_Sentiment\"])[[\"Review_Time\"]].agg(Count = (\"Review_Time\", \"count\")).reset_index()\n",
    "\n",
    "sns.barplot(data = agg_sentiment_month_df, x = \"Review_Month\", y = \"Count\", hue = \"Multi_Sentiment\",\n",
    "            estimator = np.sum, ci = None)\n",
    "plt.title(\"Distribution of Sentiment by Month\")\n",
    "plt.show()"
   ]
  },
  {
   "cell_type": "code",
   "execution_count": 29,
   "metadata": {},
   "outputs": [
    {
     "data": {
      "text/html": [
       "<div>\n",
       "<style scoped>\n",
       "    .dataframe tbody tr th:only-of-type {\n",
       "        vertical-align: middle;\n",
       "    }\n",
       "\n",
       "    .dataframe tbody tr th {\n",
       "        vertical-align: top;\n",
       "    }\n",
       "\n",
       "    .dataframe thead th {\n",
       "        text-align: right;\n",
       "    }\n",
       "</style>\n",
       "<table border=\"1\" class=\"dataframe\">\n",
       "  <thead>\n",
       "    <tr style=\"text-align: right;\">\n",
       "      <th></th>\n",
       "      <th>Review_Month</th>\n",
       "      <th>Multi_Sentiment</th>\n",
       "      <th>Count</th>\n",
       "      <th>Percent</th>\n",
       "    </tr>\n",
       "  </thead>\n",
       "  <tbody>\n",
       "    <tr>\n",
       "      <th>0</th>\n",
       "      <td>1</td>\n",
       "      <td>Negative</td>\n",
       "      <td>2151</td>\n",
       "      <td>41.1</td>\n",
       "    </tr>\n",
       "    <tr>\n",
       "      <th>1</th>\n",
       "      <td>1</td>\n",
       "      <td>Neutral</td>\n",
       "      <td>600</td>\n",
       "      <td>11.5</td>\n",
       "    </tr>\n",
       "    <tr>\n",
       "      <th>2</th>\n",
       "      <td>1</td>\n",
       "      <td>Positive</td>\n",
       "      <td>2477</td>\n",
       "      <td>47.4</td>\n",
       "    </tr>\n",
       "    <tr>\n",
       "      <th>3</th>\n",
       "      <td>2</td>\n",
       "      <td>Negative</td>\n",
       "      <td>2827</td>\n",
       "      <td>37.9</td>\n",
       "    </tr>\n",
       "    <tr>\n",
       "      <th>4</th>\n",
       "      <td>2</td>\n",
       "      <td>Neutral</td>\n",
       "      <td>817</td>\n",
       "      <td>11.0</td>\n",
       "    </tr>\n",
       "    <tr>\n",
       "      <th>5</th>\n",
       "      <td>2</td>\n",
       "      <td>Positive</td>\n",
       "      <td>3812</td>\n",
       "      <td>51.1</td>\n",
       "    </tr>\n",
       "    <tr>\n",
       "      <th>6</th>\n",
       "      <td>3</td>\n",
       "      <td>Negative</td>\n",
       "      <td>3440</td>\n",
       "      <td>42.9</td>\n",
       "    </tr>\n",
       "    <tr>\n",
       "      <th>7</th>\n",
       "      <td>3</td>\n",
       "      <td>Neutral</td>\n",
       "      <td>871</td>\n",
       "      <td>10.9</td>\n",
       "    </tr>\n",
       "    <tr>\n",
       "      <th>8</th>\n",
       "      <td>3</td>\n",
       "      <td>Positive</td>\n",
       "      <td>3711</td>\n",
       "      <td>46.3</td>\n",
       "    </tr>\n",
       "    <tr>\n",
       "      <th>9</th>\n",
       "      <td>4</td>\n",
       "      <td>Negative</td>\n",
       "      <td>6723</td>\n",
       "      <td>48.9</td>\n",
       "    </tr>\n",
       "    <tr>\n",
       "      <th>10</th>\n",
       "      <td>4</td>\n",
       "      <td>Neutral</td>\n",
       "      <td>1805</td>\n",
       "      <td>13.1</td>\n",
       "    </tr>\n",
       "    <tr>\n",
       "      <th>11</th>\n",
       "      <td>4</td>\n",
       "      <td>Positive</td>\n",
       "      <td>5218</td>\n",
       "      <td>38.0</td>\n",
       "    </tr>\n",
       "    <tr>\n",
       "      <th>12</th>\n",
       "      <td>5</td>\n",
       "      <td>Negative</td>\n",
       "      <td>3990</td>\n",
       "      <td>36.8</td>\n",
       "    </tr>\n",
       "    <tr>\n",
       "      <th>13</th>\n",
       "      <td>5</td>\n",
       "      <td>Neutral</td>\n",
       "      <td>1134</td>\n",
       "      <td>10.5</td>\n",
       "    </tr>\n",
       "    <tr>\n",
       "      <th>14</th>\n",
       "      <td>5</td>\n",
       "      <td>Positive</td>\n",
       "      <td>5711</td>\n",
       "      <td>52.7</td>\n",
       "    </tr>\n",
       "    <tr>\n",
       "      <th>15</th>\n",
       "      <td>6</td>\n",
       "      <td>Negative</td>\n",
       "      <td>4142</td>\n",
       "      <td>34.0</td>\n",
       "    </tr>\n",
       "    <tr>\n",
       "      <th>16</th>\n",
       "      <td>6</td>\n",
       "      <td>Neutral</td>\n",
       "      <td>1239</td>\n",
       "      <td>10.2</td>\n",
       "    </tr>\n",
       "    <tr>\n",
       "      <th>17</th>\n",
       "      <td>6</td>\n",
       "      <td>Positive</td>\n",
       "      <td>6787</td>\n",
       "      <td>55.8</td>\n",
       "    </tr>\n",
       "    <tr>\n",
       "      <th>18</th>\n",
       "      <td>7</td>\n",
       "      <td>Negative</td>\n",
       "      <td>1443</td>\n",
       "      <td>37.1</td>\n",
       "    </tr>\n",
       "    <tr>\n",
       "      <th>19</th>\n",
       "      <td>7</td>\n",
       "      <td>Neutral</td>\n",
       "      <td>410</td>\n",
       "      <td>10.5</td>\n",
       "    </tr>\n",
       "    <tr>\n",
       "      <th>20</th>\n",
       "      <td>7</td>\n",
       "      <td>Positive</td>\n",
       "      <td>2038</td>\n",
       "      <td>52.4</td>\n",
       "    </tr>\n",
       "  </tbody>\n",
       "</table>\n",
       "</div>"
      ],
      "text/plain": [
       "    Review_Month Multi_Sentiment  Count  Percent\n",
       "0              1        Negative   2151     41.1\n",
       "1              1         Neutral    600     11.5\n",
       "2              1        Positive   2477     47.4\n",
       "3              2        Negative   2827     37.9\n",
       "4              2         Neutral    817     11.0\n",
       "5              2        Positive   3812     51.1\n",
       "6              3        Negative   3440     42.9\n",
       "7              3         Neutral    871     10.9\n",
       "8              3        Positive   3711     46.3\n",
       "9              4        Negative   6723     48.9\n",
       "10             4         Neutral   1805     13.1\n",
       "11             4        Positive   5218     38.0\n",
       "12             5        Negative   3990     36.8\n",
       "13             5         Neutral   1134     10.5\n",
       "14             5        Positive   5711     52.7\n",
       "15             6        Negative   4142     34.0\n",
       "16             6         Neutral   1239     10.2\n",
       "17             6        Positive   6787     55.8\n",
       "18             7        Negative   1443     37.1\n",
       "19             7         Neutral    410     10.5\n",
       "20             7        Positive   2038     52.4"
      ]
     },
     "execution_count": 29,
     "metadata": {},
     "output_type": "execute_result"
    }
   ],
   "source": [
    "agg_sentiment_month_df[\"Percent\"] = agg_sentiment_month_df.groupby([\"Review_Month\", \"Multi_Sentiment\"])[\"Count\"].transform(\"sum\") / agg_sentiment_month_df.groupby(\"Review_Month\")[\"Count\"].transform(\"sum\") * 100\n",
    "agg_sentiment_month_df"
   ]
  },
  {
   "attachments": {},
   "cell_type": "markdown",
   "metadata": {},
   "source": [
    "April seems like a pivotal month. First, it has the highest percentage of negative reviews. Second, the following months, May and June, have more positive reviews than neutral and negative reviews combined"
   ]
  },
  {
   "cell_type": "code",
   "execution_count": 30,
   "metadata": {},
   "outputs": [
    {
     "data": {
      "image/png": "[encoded data removed]",
      "text/plain": [
       "<Figure size 1008x432 with 1 Axes>"
      ]
     },
     "metadata": {},
     "output_type": "display_data"
    }
   ],
   "source": [
    "### Distribution of sentiment over time\n",
    "agg_sentiment_date_df = df.groupby([\"Review_Date\", \"Multi_Sentiment\"])[[\"Review_Time\"]].agg(Count = (\"Review_Time\", \"count\")).reset_index()\n",
    "\n",
    "sns.lineplot(data = agg_sentiment_date_df, x = \"Review_Date\", y = \"Count\", hue = \"Multi_Sentiment\",\n",
    "                marker = \"o\", estimator = np.sum, ci = None)\n",
    "plt.title(\"Distribution of Sentiment Over Time\")\n",
    "plt.show()"
   ]
  },
  {
   "attachments": {},
   "cell_type": "markdown",
   "metadata": {},
   "source": [
    "The increase in positive reviews around mid-April is noticeable. In addition, there are two negative review spikes that are very prominent - lets look into them"
   ]
  },
  {
   "cell_type": "code",
   "execution_count": 31,
   "metadata": {},
   "outputs": [
    {
     "data": {
      "text/html": [
       "<div>\n",
       "<style scoped>\n",
       "    .dataframe tbody tr th:only-of-type {\n",
       "        vertical-align: middle;\n",
       "    }\n",
       "\n",
       "    .dataframe tbody tr th {\n",
       "        vertical-align: top;\n",
       "    }\n",
       "\n",
       "    .dataframe thead th {\n",
       "        text-align: right;\n",
       "    }\n",
       "</style>\n",
       "<table border=\"1\" class=\"dataframe\">\n",
       "  <thead>\n",
       "    <tr style=\"text-align: right;\">\n",
       "      <th></th>\n",
       "      <th>Review_Date</th>\n",
       "      <th>Count</th>\n",
       "    </tr>\n",
       "  </thead>\n",
       "  <tbody>\n",
       "    <tr>\n",
       "      <th>7</th>\n",
       "      <td>2022-03-08</td>\n",
       "      <td>938</td>\n",
       "    </tr>\n",
       "    <tr>\n",
       "      <th>8</th>\n",
       "      <td>2022-03-09</td>\n",
       "      <td>102</td>\n",
       "    </tr>\n",
       "    <tr>\n",
       "      <th>1</th>\n",
       "      <td>2022-03-02</td>\n",
       "      <td>100</td>\n",
       "    </tr>\n",
       "    <tr>\n",
       "      <th>23</th>\n",
       "      <td>2022-03-24</td>\n",
       "      <td>95</td>\n",
       "    </tr>\n",
       "    <tr>\n",
       "      <th>30</th>\n",
       "      <td>2022-03-31</td>\n",
       "      <td>95</td>\n",
       "    </tr>\n",
       "    <tr>\n",
       "      <th>3</th>\n",
       "      <td>2022-03-04</td>\n",
       "      <td>95</td>\n",
       "    </tr>\n",
       "    <tr>\n",
       "      <th>21</th>\n",
       "      <td>2022-03-22</td>\n",
       "      <td>94</td>\n",
       "    </tr>\n",
       "    <tr>\n",
       "      <th>14</th>\n",
       "      <td>2022-03-15</td>\n",
       "      <td>94</td>\n",
       "    </tr>\n",
       "    <tr>\n",
       "      <th>29</th>\n",
       "      <td>2022-03-30</td>\n",
       "      <td>89</td>\n",
       "    </tr>\n",
       "    <tr>\n",
       "      <th>2</th>\n",
       "      <td>2022-03-03</td>\n",
       "      <td>89</td>\n",
       "    </tr>\n",
       "  </tbody>\n",
       "</table>\n",
       "</div>"
      ],
      "text/plain": [
       "   Review_Date  Count\n",
       "7   2022-03-08    938\n",
       "8   2022-03-09    102\n",
       "1   2022-03-02    100\n",
       "23  2022-03-24     95\n",
       "30  2022-03-31     95\n",
       "3   2022-03-04     95\n",
       "21  2022-03-22     94\n",
       "14  2022-03-15     94\n",
       "29  2022-03-30     89\n",
       "2   2022-03-03     89"
      ]
     },
     "execution_count": 31,
     "metadata": {},
     "output_type": "execute_result"
    }
   ],
   "source": [
    "### Negative reviews in March\n",
    "df[(df[\"Review_Month\"] == 3) & (df[\"Multi_Sentiment\"] == \"Negative\")].groupby([\"Review_Date\"])[[\"Review_Time\"]].agg(Count = (\"Review_Time\", \"count\")).reset_index().sort_values(\"Count\", ascending = False).head(10)"
   ]
  },
  {
   "cell_type": "code",
   "execution_count": 32,
   "metadata": {},
   "outputs": [
    {
     "data": {
      "text/plain": [
       "['my music is on shuffle when i did not turned it on and i do not even have a shuffle button',\n",
       " 'half of playlists inaccessible because spotify thinks it is offline no fix',\n",
       " 'spotify keeps failing when i really need it',\n",
       " 'i go to spotify to listen to music now it treats me like i am a completely new user i have had premium for years now i have lost everything i put in my email and password and it tells me the email and password do not match which is the problem though help',\n",
       " 'the bar accross the bottom continually disappears meaning i can not access the player to play pause next previous etc have to restart the app constantly which is a pain when listening to podcasts also it will just stop by itself randomly']"
      ]
     },
     "execution_count": 32,
     "metadata": {},
     "output_type": "execute_result"
    }
   ],
   "source": [
    "### Slither of negative reviews on March 8th\n",
    "df[(df[\"Review_Date\"] == \"2022-03-08\") & (df[\"Multi_Sentiment\"] == \"Negative\")].iloc[10:15, 7].tolist()"
   ]
  },
  {
   "cell_type": "code",
   "execution_count": 34,
   "metadata": {},
   "outputs": [
    {
     "data": {
      "text/html": [
       "<div>\n",
       "<style scoped>\n",
       "    .dataframe tbody tr th:only-of-type {\n",
       "        vertical-align: middle;\n",
       "    }\n",
       "\n",
       "    .dataframe tbody tr th {\n",
       "        vertical-align: top;\n",
       "    }\n",
       "\n",
       "    .dataframe thead th {\n",
       "        text-align: right;\n",
       "    }\n",
       "</style>\n",
       "<table border=\"1\" class=\"dataframe\">\n",
       "  <thead>\n",
       "    <tr style=\"text-align: right;\">\n",
       "      <th></th>\n",
       "      <th>Review_Date</th>\n",
       "      <th>Count</th>\n",
       "    </tr>\n",
       "  </thead>\n",
       "  <tbody>\n",
       "    <tr>\n",
       "      <th>12</th>\n",
       "      <td>2022-04-13</td>\n",
       "      <td>684</td>\n",
       "    </tr>\n",
       "    <tr>\n",
       "      <th>13</th>\n",
       "      <td>2022-04-14</td>\n",
       "      <td>674</td>\n",
       "    </tr>\n",
       "    <tr>\n",
       "      <th>11</th>\n",
       "      <td>2022-04-12</td>\n",
       "      <td>574</td>\n",
       "    </tr>\n",
       "    <tr>\n",
       "      <th>14</th>\n",
       "      <td>2022-04-15</td>\n",
       "      <td>430</td>\n",
       "    </tr>\n",
       "    <tr>\n",
       "      <th>19</th>\n",
       "      <td>2022-04-20</td>\n",
       "      <td>398</td>\n",
       "    </tr>\n",
       "    <tr>\n",
       "      <th>20</th>\n",
       "      <td>2022-04-21</td>\n",
       "      <td>346</td>\n",
       "    </tr>\n",
       "    <tr>\n",
       "      <th>10</th>\n",
       "      <td>2022-04-11</td>\n",
       "      <td>322</td>\n",
       "    </tr>\n",
       "    <tr>\n",
       "      <th>18</th>\n",
       "      <td>2022-04-19</td>\n",
       "      <td>277</td>\n",
       "    </tr>\n",
       "    <tr>\n",
       "      <th>15</th>\n",
       "      <td>2022-04-16</td>\n",
       "      <td>261</td>\n",
       "    </tr>\n",
       "    <tr>\n",
       "      <th>25</th>\n",
       "      <td>2022-04-26</td>\n",
       "      <td>233</td>\n",
       "    </tr>\n",
       "  </tbody>\n",
       "</table>\n",
       "</div>"
      ],
      "text/plain": [
       "   Review_Date  Count\n",
       "12  2022-04-13    684\n",
       "13  2022-04-14    674\n",
       "11  2022-04-12    574\n",
       "14  2022-04-15    430\n",
       "19  2022-04-20    398\n",
       "20  2022-04-21    346\n",
       "10  2022-04-11    322\n",
       "18  2022-04-19    277\n",
       "15  2022-04-16    261\n",
       "25  2022-04-26    233"
      ]
     },
     "execution_count": 34,
     "metadata": {},
     "output_type": "execute_result"
    }
   ],
   "source": [
    "### Negative reviews in April\n",
    "df[(df[\"Review_Month\"] == 4) & (df[\"Multi_Sentiment\"] == \"Negative\")].groupby([\"Review_Date\"])[[\"Review_Time\"]].agg(Count = (\"Review_Time\", \"count\")).reset_index().sort_values(\"Count\", ascending = False).head(10)"
   ]
  },
  {
   "cell_type": "code",
   "execution_count": 35,
   "metadata": {},
   "outputs": [
    {
     "data": {
      "text/plain": [
       "['since the new update the player keeps cutting out randomly not impressed i have tried resetting and the error keeps happening before that i would give it stars i love the service but you need to fix the app',\n",
       " 'i want to give stars but lately i have been clicking songs and they play but the playlist playing now controller does not show up galaxy s also add third party uploads i constantly have to switch to youtube for live shows',\n",
       " 'i do not know why but recently i am not able to find any podcasts on the app even the ones i listened to before i used to love this app but now i am just annoyed by it fix the podcast problem and why do you add songs onto playlists when we shuffle play it it is annoying',\n",
       " 'just so everyone knows spotify free is more than just ads they actively slow your device down and speed it back up when you give them money which sounds like extortion but i move on on the free version shuffle is not the same algorithm as premium mode shuffle how because they have a preselected list of songs they repeat on free spotify to get you convinced that you need to spend money to hear new music that it was blocking you from before very sneaky ill give you that',\n",
       " 'bugs can not listen normal song fix it']"
      ]
     },
     "execution_count": 35,
     "metadata": {},
     "output_type": "execute_result"
    }
   ],
   "source": [
    "### Slither of negative reviews on April 13th\n",
    "df[(df[\"Review_Date\"] == \"2022-04-13\") & (df[\"Multi_Sentiment\"] == \"Negative\")].iloc[10:15, 7].tolist()"
   ]
  },
  {
   "attachments": {},
   "cell_type": "markdown",
   "metadata": {},
   "source": [
    "\n",
    "In March, specifically on the 8th, Spotify encountered [technical problems](https://nypost.com/2022/03/08/spotify-hit-by-widespread-technical-problems/) in which users reported access issues. In April, around the week of the 10th, Spotify incorporated [Spotify Live](https://newsroom.spotify.com/2022-04-12/spotify-greenroom-is-getting-a-new-name-spotify-live-and-a-new-home/) into the app and users reported bugs after the new update\n"
   ]
  },
  {
   "cell_type": "code",
   "execution_count": 36,
   "metadata": {},
   "outputs": [
    {
     "data": {
      "image/png": "[encoded data removed]",
      "text/plain": [
       "<Figure size 1008x432 with 1 Axes>"
      ]
     },
     "metadata": {},
     "output_type": "display_data"
    }
   ],
   "source": [
    "### Distribution of subjectivity\n",
    "sns.countplot(data = df, x = \"Subjective\", hue = \"Multi_Sentiment\", hue_order = [\"Negative\", \"Neutral\", \"Positive\"])\n",
    "plt.title(\"Distribution of Subjectivitiy by Sentiment\")\n",
    "plt.show()"
   ]
  },
  {
   "cell_type": "code",
   "execution_count": 37,
   "metadata": {},
   "outputs": [
    {
     "data": {
      "text/html": [
       "<div>\n",
       "<style scoped>\n",
       "    .dataframe tbody tr th:only-of-type {\n",
       "        vertical-align: middle;\n",
       "    }\n",
       "\n",
       "    .dataframe tbody tr th {\n",
       "        vertical-align: top;\n",
       "    }\n",
       "\n",
       "    .dataframe thead th {\n",
       "        text-align: right;\n",
       "    }\n",
       "</style>\n",
       "<table border=\"1\" class=\"dataframe\">\n",
       "  <thead>\n",
       "    <tr style=\"text-align: right;\">\n",
       "      <th></th>\n",
       "      <th>Subjective</th>\n",
       "      <th>Count</th>\n",
       "      <th>Percent</th>\n",
       "    </tr>\n",
       "  </thead>\n",
       "  <tbody>\n",
       "    <tr>\n",
       "      <th>0</th>\n",
       "      <td>0</td>\n",
       "      <td>4254</td>\n",
       "      <td>6.9</td>\n",
       "    </tr>\n",
       "    <tr>\n",
       "      <th>1</th>\n",
       "      <td>1</td>\n",
       "      <td>57092</td>\n",
       "      <td>93.1</td>\n",
       "    </tr>\n",
       "  </tbody>\n",
       "</table>\n",
       "</div>"
      ],
      "text/plain": [
       "   Subjective  Count  Percent\n",
       "0           0   4254      6.9\n",
       "1           1  57092     93.1"
      ]
     },
     "execution_count": 37,
     "metadata": {},
     "output_type": "execute_result"
    }
   ],
   "source": [
    "agg_subjective_df = df.groupby([\"Subjective\"])[[\"Review_Time\"]].agg(Count = (\"Review_Time\", \"count\")).reset_index()\n",
    "agg_subjective_df[\"Percent\"] = agg_subjective_df.groupby(\"Subjective\")[\"Count\"].transform(\"sum\") / agg_subjective_df[\"Count\"].sum() * 100\n",
    "agg_subjective_df"
   ]
  },
  {
   "attachments": {},
   "cell_type": "markdown",
   "metadata": {},
   "source": [
    "93.1% of the reviews are subjective"
   ]
  },
  {
   "cell_type": "code",
   "execution_count": 38,
   "metadata": {},
   "outputs": [
    {
     "data": {
      "image/png": "[encoded data removed]",
      "text/plain": [
       "<Figure size 1008x432 with 2 Axes>"
      ]
     },
     "metadata": {},
     "output_type": "display_data"
    }
   ],
   "source": [
    "### Correlation matrix\n",
    "sns.heatmap(data= df[[\"Subjectivity_Score\", \"Review_Cleaned_Length\", \"Rating\"]].corr(), annot = True, cmap = \"crest\")\n",
    "plt.yticks(rotation = 360)\n",
    "plt.title(\"Correlation Matrix\")\n",
    "plt.show()"
   ]
  },
  {
   "attachments": {},
   "cell_type": "markdown",
   "metadata": {},
   "source": [
    "The subjectivity and length of the reviews have a weak correlation with the app rating: (1) the higher the subjectivity, the higher the rating and (2) the longer the review, the lower the rating"
   ]
  },
  {
   "attachments": {},
   "cell_type": "markdown",
   "metadata": {},
   "source": [
    "# MULTI-CLASSIFICATION"
   ]
  },
  {
   "cell_type": "code",
   "execution_count": 39,
   "metadata": {},
   "outputs": [],
   "source": [
    "### Set up modeling parameters\n",
    "cv = KFold(5)\n",
    "rng = np.random.RandomState(123)"
   ]
  },
  {
   "cell_type": "markdown",
   "metadata": {},
   "source": [
    "### TRAIN/TEST SETS"
   ]
  },
  {
   "cell_type": "code",
   "execution_count": 40,
   "metadata": {},
   "outputs": [
    {
     "name": "stdout",
     "output_type": "stream",
     "text": [
      "Positive    22315\n",
      "Negative    18537\n",
      "Neutral      5157\n",
      "Name: Multi_Sentiment, dtype: int64\n",
      "Positive    7439\n",
      "Negative    6179\n",
      "Neutral     1719\n",
      "Name: Multi_Sentiment, dtype: int64\n"
     ]
    }
   ],
   "source": [
    "### Determine a representative distribution of the three classes\n",
    "X_train, X_test, Y_train, Y_test = train_test_split(df[\"Review_Cleaned\"], df[\"Multi_Sentiment\"], train_size = 0.75, stratify = df[\"Multi_Sentiment\"])\n",
    "print(Y_train.value_counts())\n",
    "print(Y_test.value_counts())"
   ]
  },
  {
   "cell_type": "code",
   "execution_count": 41,
   "metadata": {},
   "outputs": [
    {
     "name": "stdout",
     "output_type": "stream",
     "text": [
      "(45287,) (45287,)\n",
      "Positive    20929\n",
      "Negative    19131\n",
      "Neutral      5227\n",
      "Name: Multi_Sentiment, dtype: int64\n"
     ]
    }
   ],
   "source": [
    "### Create train set\n",
    "X_train = df[df[\"Review_Date\"] < \"06-01-2022\"][\"Review_Cleaned\"]\n",
    "Y_train = df[df[\"Review_Date\"] < \"06-01-2022\"][\"Multi_Sentiment\"]\n",
    "print(X_train.shape, Y_train.shape)\n",
    "print(Y_train.value_counts())"
   ]
  },
  {
   "cell_type": "code",
   "execution_count": 43,
   "metadata": {},
   "outputs": [
    {
     "name": "stdout",
     "output_type": "stream",
     "text": [
      "(16059,) (16059,)\n",
      "Positive    8825\n",
      "Negative    5585\n",
      "Neutral     1649\n",
      "Name: Multi_Sentiment, dtype: int64\n"
     ]
    }
   ],
   "source": [
    "### Create test set\n",
    "X_test = df[(df[\"Review_Date\"] >= \"06-01-2022\")][\"Review_Cleaned\"]\n",
    "Y_test = df[(df[\"Review_Date\"] >= \"06-01-2022\")][\"Multi_Sentiment\"]\n",
    "print(X_test.shape, Y_test.shape)\n",
    "print(Y_test.value_counts())"
   ]
  },
  {
   "attachments": {},
   "cell_type": "markdown",
   "metadata": {},
   "source": [
    "The amount of neutral reviews is very small. Curious to see if the algorithms will overlook this and solely predict a review as positive or negative"
   ]
  },
  {
   "cell_type": "markdown",
   "metadata": {},
   "source": [
    "### NAIVE BAYES"
   ]
  },
  {
   "cell_type": "code",
   "execution_count": 80,
   "metadata": {},
   "outputs": [],
   "source": [
    "### Create pipeline\n",
    "mnb_pipeline = Pipeline([(\"tfidf\", TfidfVectorizer()), (\"mnb\", MultinomialNB())])"
   ]
  },
  {
   "cell_type": "code",
   "execution_count": 81,
   "metadata": {},
   "outputs": [],
   "source": [
    "### Create search space\n",
    "mnb_parameters = {\"tfidf__max_features\": [None, 1000, 1500],\n",
    "                    \"tfidf__ngram_range\": [(1, 1), (1, 2)],\n",
    "                    \"tfidf__norm\": [\"l1\", \"l2\"]}"
   ]
  },
  {
   "cell_type": "code",
   "execution_count": 82,
   "metadata": {},
   "outputs": [
    {
     "name": "stdout",
     "output_type": "stream",
     "text": [
      "Fitting 5 folds for each of 10 candidates, totalling 50 fits\n",
      "[CV] END tfidf__max_features=1000, tfidf__ngram_range=(1, 2), tfidf__norm=l1; total time=  17.7s\n",
      "[CV] END tfidf__max_features=1000, tfidf__ngram_range=(1, 2), tfidf__norm=l1; total time=   7.4s\n",
      "[CV] END tfidf__max_features=1000, tfidf__ngram_range=(1, 2), tfidf__norm=l1; total time=   5.9s\n",
      "[CV] END tfidf__max_features=1000, tfidf__ngram_range=(1, 2), tfidf__norm=l1; total time=   7.2s\n",
      "[CV] END tfidf__max_features=1000, tfidf__ngram_range=(1, 2), tfidf__norm=l1; total time=   7.6s\n",
      "[CV] END tfidf__max_features=1000, tfidf__ngram_range=(1, 1), tfidf__norm=l1; total time=   2.8s\n",
      "[CV] END tfidf__max_features=1000, tfidf__ngram_range=(1, 1), tfidf__norm=l1; total time=   2.8s\n",
      "[CV] END tfidf__max_features=1000, tfidf__ngram_range=(1, 1), tfidf__norm=l1; total time=   2.7s\n",
      "[CV] END tfidf__max_features=1000, tfidf__ngram_range=(1, 1), tfidf__norm=l1; total time=   2.8s\n",
      "[CV] END tfidf__max_features=1000, tfidf__ngram_range=(1, 1), tfidf__norm=l1; total time=   2.6s\n",
      "[CV] END tfidf__max_features=1500, tfidf__ngram_range=(1, 1), tfidf__norm=l2; total time=   2.8s\n",
      "[CV] END tfidf__max_features=1500, tfidf__ngram_range=(1, 1), tfidf__norm=l2; total time=   2.7s\n",
      "[CV] END tfidf__max_features=1500, tfidf__ngram_range=(1, 1), tfidf__norm=l2; total time=   3.3s\n",
      "[CV] END tfidf__max_features=1500, tfidf__ngram_range=(1, 1), tfidf__norm=l2; total time=   5.0s\n",
      "[CV] END tfidf__max_features=1500, tfidf__ngram_range=(1, 1), tfidf__norm=l2; total time=   6.5s\n",
      "[CV] END tfidf__max_features=1000, tfidf__ngram_range=(1, 1), tfidf__norm=l2; total time=   3.9s\n",
      "[CV] END tfidf__max_features=1000, tfidf__ngram_range=(1, 1), tfidf__norm=l2; total time=   3.5s\n",
      "[CV] END tfidf__max_features=1000, tfidf__ngram_range=(1, 1), tfidf__norm=l2; total time=   3.7s\n",
      "[CV] END tfidf__max_features=1000, tfidf__ngram_range=(1, 1), tfidf__norm=l2; total time=   2.9s\n",
      "[CV] END tfidf__max_features=1000, tfidf__ngram_range=(1, 1), tfidf__norm=l2; total time=   2.8s\n",
      "[CV] END tfidf__max_features=None, tfidf__ngram_range=(1, 2), tfidf__norm=l2; total time=   6.4s\n",
      "[CV] END tfidf__max_features=None, tfidf__ngram_range=(1, 2), tfidf__norm=l2; total time=   6.7s\n",
      "[CV] END tfidf__max_features=None, tfidf__ngram_range=(1, 2), tfidf__norm=l2; total time=   6.0s\n",
      "[CV] END tfidf__max_features=None, tfidf__ngram_range=(1, 2), tfidf__norm=l2; total time=   6.7s\n",
      "[CV] END tfidf__max_features=None, tfidf__ngram_range=(1, 2), tfidf__norm=l2; total time=   7.4s\n",
      "[CV] END tfidf__max_features=1500, tfidf__ngram_range=(1, 1), tfidf__norm=l1; total time=   2.6s\n",
      "[CV] END tfidf__max_features=1500, tfidf__ngram_range=(1, 1), tfidf__norm=l1; total time=   2.6s\n",
      "[CV] END tfidf__max_features=1500, tfidf__ngram_range=(1, 1), tfidf__norm=l1; total time=   2.6s\n",
      "[CV] END tfidf__max_features=1500, tfidf__ngram_range=(1, 1), tfidf__norm=l1; total time=   2.7s\n",
      "[CV] END tfidf__max_features=1500, tfidf__ngram_range=(1, 1), tfidf__norm=l1; total time=   2.4s\n",
      "[CV] END tfidf__max_features=1500, tfidf__ngram_range=(1, 2), tfidf__norm=l1; total time=   5.9s\n",
      "[CV] END tfidf__max_features=1500, tfidf__ngram_range=(1, 2), tfidf__norm=l1; total time=   6.0s\n",
      "[CV] END tfidf__max_features=1500, tfidf__ngram_range=(1, 2), tfidf__norm=l1; total time=   5.9s\n",
      "[CV] END tfidf__max_features=1500, tfidf__ngram_range=(1, 2), tfidf__norm=l1; total time=   5.9s\n",
      "[CV] END tfidf__max_features=1500, tfidf__ngram_range=(1, 2), tfidf__norm=l1; total time=   6.7s\n",
      "[CV] END tfidf__max_features=None, tfidf__ngram_range=(1, 2), tfidf__norm=l1; total time=   6.2s\n",
      "[CV] END tfidf__max_features=None, tfidf__ngram_range=(1, 2), tfidf__norm=l1; total time=   6.1s\n",
      "[CV] END tfidf__max_features=None, tfidf__ngram_range=(1, 2), tfidf__norm=l1; total time=   6.3s\n",
      "[CV] END tfidf__max_features=None, tfidf__ngram_range=(1, 2), tfidf__norm=l1; total time=   6.1s\n",
      "[CV] END tfidf__max_features=None, tfidf__ngram_range=(1, 2), tfidf__norm=l1; total time=   6.1s\n",
      "[CV] END tfidf__max_features=1000, tfidf__ngram_range=(1, 2), tfidf__norm=l2; total time=   5.8s\n",
      "[CV] END tfidf__max_features=1000, tfidf__ngram_range=(1, 2), tfidf__norm=l2; total time=   6.1s\n",
      "[CV] END tfidf__max_features=1000, tfidf__ngram_range=(1, 2), tfidf__norm=l2; total time=   6.3s\n",
      "[CV] END tfidf__max_features=1000, tfidf__ngram_range=(1, 2), tfidf__norm=l2; total time=   6.2s\n",
      "[CV] END tfidf__max_features=1000, tfidf__ngram_range=(1, 2), tfidf__norm=l2; total time=  12.5s\n",
      "[CV] END tfidf__max_features=1500, tfidf__ngram_range=(1, 2), tfidf__norm=l2; total time=  15.8s\n",
      "[CV] END tfidf__max_features=1500, tfidf__ngram_range=(1, 2), tfidf__norm=l2; total time=  11.6s\n",
      "[CV] END tfidf__max_features=1500, tfidf__ngram_range=(1, 2), tfidf__norm=l2; total time=  11.8s\n",
      "[CV] END tfidf__max_features=1500, tfidf__ngram_range=(1, 2), tfidf__norm=l2; total time=  10.5s\n",
      "[CV] END tfidf__max_features=1500, tfidf__ngram_range=(1, 2), tfidf__norm=l2; total time=  13.0s\n"
     ]
    },
    {
     "data": {
      "text/html": [
       "<style>#sk-container-id-3 {color: black;background-color: white;}#sk-container-id-3 pre{padding: 0;}#sk-container-id-3 div.sk-toggleable {background-color: white;}#sk-container-id-3 label.sk-toggleable__label {cursor: pointer;display: block;width: 100%;margin-bottom: 0;padding: 0.3em;box-sizing: border-box;text-align: center;}#sk-container-id-3 label.sk-toggleable__label-arrow:before {content: \"▸\";float: left;margin-right: 0.25em;color: #696969;}#sk-container-id-3 label.sk-toggleable__label-arrow:hover:before {color: black;}#sk-container-id-3 div.sk-estimator:hover label.sk-toggleable__label-arrow:before {color: black;}#sk-container-id-3 div.sk-toggleable__content {max-height: 0;max-width: 0;overflow: hidden;text-align: left;background-color: #f0f8ff;}#sk-container-id-3 div.sk-toggleable__content pre {margin: 0.2em;color: black;border-radius: 0.25em;background-color: #f0f8ff;}#sk-container-id-3 input.sk-toggleable__control:checked~div.sk-toggleable__content {max-height: 200px;max-width: 100%;overflow: auto;}#sk-container-id-3 input.sk-toggleable__control:checked~label.sk-toggleable__label-arrow:before {content: \"▾\";}#sk-container-id-3 div.sk-estimator input.sk-toggleable__control:checked~label.sk-toggleable__label {background-color: #d4ebff;}#sk-container-id-3 div.sk-label input.sk-toggleable__control:checked~label.sk-toggleable__label {background-color: #d4ebff;}#sk-container-id-3 input.sk-hidden--visually {border: 0;clip: rect(1px 1px 1px 1px);clip: rect(1px, 1px, 1px, 1px);height: 1px;margin: -1px;overflow: hidden;padding: 0;position: absolute;width: 1px;}#sk-container-id-3 div.sk-estimator {font-family: monospace;background-color: #f0f8ff;border: 1px dotted black;border-radius: 0.25em;box-sizing: border-box;margin-bottom: 0.5em;}#sk-container-id-3 div.sk-estimator:hover {background-color: #d4ebff;}#sk-container-id-3 div.sk-parallel-item::after {content: \"\";width: 100%;border-bottom: 1px solid gray;flex-grow: 1;}#sk-container-id-3 div.sk-label:hover label.sk-toggleable__label {background-color: #d4ebff;}#sk-container-id-3 div.sk-serial::before {content: \"\";position: absolute;border-left: 1px solid gray;box-sizing: border-box;top: 0;bottom: 0;left: 50%;z-index: 0;}#sk-container-id-3 div.sk-serial {display: flex;flex-direction: column;align-items: center;background-color: white;padding-right: 0.2em;padding-left: 0.2em;position: relative;}#sk-container-id-3 div.sk-item {position: relative;z-index: 1;}#sk-container-id-3 div.sk-parallel {display: flex;align-items: stretch;justify-content: center;background-color: white;position: relative;}#sk-container-id-3 div.sk-item::before, #sk-container-id-3 div.sk-parallel-item::before {content: \"\";position: absolute;border-left: 1px solid gray;box-sizing: border-box;top: 0;bottom: 0;left: 50%;z-index: -1;}#sk-container-id-3 div.sk-parallel-item {display: flex;flex-direction: column;z-index: 1;position: relative;background-color: white;}#sk-container-id-3 div.sk-parallel-item:first-child::after {align-self: flex-end;width: 50%;}#sk-container-id-3 div.sk-parallel-item:last-child::after {align-self: flex-start;width: 50%;}#sk-container-id-3 div.sk-parallel-item:only-child::after {width: 0;}#sk-container-id-3 div.sk-dashed-wrapped {border: 1px dashed gray;margin: 0 0.4em 0.5em 0.4em;box-sizing: border-box;padding-bottom: 0.4em;background-color: white;}#sk-container-id-3 div.sk-label label {font-family: monospace;font-weight: bold;display: inline-block;line-height: 1.2em;}#sk-container-id-3 div.sk-label-container {text-align: center;}#sk-container-id-3 div.sk-container {/* jupyter's `normalize.less` sets `[hidden] { display: none; }` but bootstrap.min.css set `[hidden] { display: none !important; }` so we also need the `!important` here to be able to override the default hidden behavior on the sphinx rendered scikit-learn.org. See: https://github.com/scikit-learn/scikit-learn/issues/21755 */display: inline-block !important;position: relative;}#sk-container-id-3 div.sk-text-repr-fallback {display: none;}</style><div id=\"sk-container-id-3\" class=\"sk-top-container\"><div class=\"sk-text-repr-fallback\"><pre>RandomizedSearchCV(cv=KFold(n_splits=5, random_state=None, shuffle=False),\n",
       "                   estimator=Pipeline(steps=[(&#x27;tfidf&#x27;, TfidfVectorizer()),\n",
       "                                             (&#x27;mnb&#x27;, MultinomialNB())]),\n",
       "                   param_distributions={&#x27;tfidf__max_features&#x27;: [None, 1000,\n",
       "                                                                1500],\n",
       "                                        &#x27;tfidf__ngram_range&#x27;: [(1, 1), (1, 2)],\n",
       "                                        &#x27;tfidf__norm&#x27;: [&#x27;l1&#x27;, &#x27;l2&#x27;]},\n",
       "                   verbose=2)</pre><b>In a Jupyter environment, please rerun this cell to show the HTML representation or trust the notebook. <br />On GitHub, the HTML representation is unable to render, please try loading this page with nbviewer.org.</b></div><div class=\"sk-container\" hidden><div class=\"sk-item sk-dashed-wrapped\"><div class=\"sk-label-container\"><div class=\"sk-label sk-toggleable\"><input class=\"sk-toggleable__control sk-hidden--visually\" id=\"sk-estimator-id-8\" type=\"checkbox\" ><label for=\"sk-estimator-id-8\" class=\"sk-toggleable__label sk-toggleable__label-arrow\">RandomizedSearchCV</label><div class=\"sk-toggleable__content\"><pre>RandomizedSearchCV(cv=KFold(n_splits=5, random_state=None, shuffle=False),\n",
       "                   estimator=Pipeline(steps=[(&#x27;tfidf&#x27;, TfidfVectorizer()),\n",
       "                                             (&#x27;mnb&#x27;, MultinomialNB())]),\n",
       "                   param_distributions={&#x27;tfidf__max_features&#x27;: [None, 1000,\n",
       "                                                                1500],\n",
       "                                        &#x27;tfidf__ngram_range&#x27;: [(1, 1), (1, 2)],\n",
       "                                        &#x27;tfidf__norm&#x27;: [&#x27;l1&#x27;, &#x27;l2&#x27;]},\n",
       "                   verbose=2)</pre></div></div></div><div class=\"sk-parallel\"><div class=\"sk-parallel-item\"><div class=\"sk-item\"><div class=\"sk-label-container\"><div class=\"sk-label sk-toggleable\"><input class=\"sk-toggleable__control sk-hidden--visually\" id=\"sk-estimator-id-9\" type=\"checkbox\" ><label for=\"sk-estimator-id-9\" class=\"sk-toggleable__label sk-toggleable__label-arrow\">estimator: Pipeline</label><div class=\"sk-toggleable__content\"><pre>Pipeline(steps=[(&#x27;tfidf&#x27;, TfidfVectorizer()), (&#x27;mnb&#x27;, MultinomialNB())])</pre></div></div></div><div class=\"sk-serial\"><div class=\"sk-item\"><div class=\"sk-serial\"><div class=\"sk-item\"><div class=\"sk-estimator sk-toggleable\"><input class=\"sk-toggleable__control sk-hidden--visually\" id=\"sk-estimator-id-10\" type=\"checkbox\" ><label for=\"sk-estimator-id-10\" class=\"sk-toggleable__label sk-toggleable__label-arrow\">TfidfVectorizer</label><div class=\"sk-toggleable__content\"><pre>TfidfVectorizer()</pre></div></div></div><div class=\"sk-item\"><div class=\"sk-estimator sk-toggleable\"><input class=\"sk-toggleable__control sk-hidden--visually\" id=\"sk-estimator-id-11\" type=\"checkbox\" ><label for=\"sk-estimator-id-11\" class=\"sk-toggleable__label sk-toggleable__label-arrow\">MultinomialNB</label><div class=\"sk-toggleable__content\"><pre>MultinomialNB()</pre></div></div></div></div></div></div></div></div></div></div></div></div>"
      ],
      "text/plain": [
       "RandomizedSearchCV(cv=KFold(n_splits=5, random_state=None, shuffle=False),\n",
       "                   estimator=Pipeline(steps=[('tfidf', TfidfVectorizer()),\n",
       "                                             ('mnb', MultinomialNB())]),\n",
       "                   param_distributions={'tfidf__max_features': [None, 1000,\n",
       "                                                                1500],\n",
       "                                        'tfidf__ngram_range': [(1, 1), (1, 2)],\n",
       "                                        'tfidf__norm': ['l1', 'l2']},\n",
       "                   verbose=2)"
      ]
     },
     "execution_count": 82,
     "metadata": {},
     "output_type": "execute_result"
    }
   ],
   "source": [
    "### Perform search\n",
    "mnb_grid = RandomizedSearchCV(mnb_pipeline, mnb_parameters, n_iter = 10, cv = cv, verbose = 2)\n",
    "mnb_grid.fit(X_train, Y_train)"
   ]
  },
  {
   "cell_type": "code",
   "execution_count": 83,
   "metadata": {},
   "outputs": [
    {
     "data": {
      "text/html": [
       "<style>#sk-container-id-4 {color: black;background-color: white;}#sk-container-id-4 pre{padding: 0;}#sk-container-id-4 div.sk-toggleable {background-color: white;}#sk-container-id-4 label.sk-toggleable__label {cursor: pointer;display: block;width: 100%;margin-bottom: 0;padding: 0.3em;box-sizing: border-box;text-align: center;}#sk-container-id-4 label.sk-toggleable__label-arrow:before {content: \"▸\";float: left;margin-right: 0.25em;color: #696969;}#sk-container-id-4 label.sk-toggleable__label-arrow:hover:before {color: black;}#sk-container-id-4 div.sk-estimator:hover label.sk-toggleable__label-arrow:before {color: black;}#sk-container-id-4 div.sk-toggleable__content {max-height: 0;max-width: 0;overflow: hidden;text-align: left;background-color: #f0f8ff;}#sk-container-id-4 div.sk-toggleable__content pre {margin: 0.2em;color: black;border-radius: 0.25em;background-color: #f0f8ff;}#sk-container-id-4 input.sk-toggleable__control:checked~div.sk-toggleable__content {max-height: 200px;max-width: 100%;overflow: auto;}#sk-container-id-4 input.sk-toggleable__control:checked~label.sk-toggleable__label-arrow:before {content: \"▾\";}#sk-container-id-4 div.sk-estimator input.sk-toggleable__control:checked~label.sk-toggleable__label {background-color: #d4ebff;}#sk-container-id-4 div.sk-label input.sk-toggleable__control:checked~label.sk-toggleable__label {background-color: #d4ebff;}#sk-container-id-4 input.sk-hidden--visually {border: 0;clip: rect(1px 1px 1px 1px);clip: rect(1px, 1px, 1px, 1px);height: 1px;margin: -1px;overflow: hidden;padding: 0;position: absolute;width: 1px;}#sk-container-id-4 div.sk-estimator {font-family: monospace;background-color: #f0f8ff;border: 1px dotted black;border-radius: 0.25em;box-sizing: border-box;margin-bottom: 0.5em;}#sk-container-id-4 div.sk-estimator:hover {background-color: #d4ebff;}#sk-container-id-4 div.sk-parallel-item::after {content: \"\";width: 100%;border-bottom: 1px solid gray;flex-grow: 1;}#sk-container-id-4 div.sk-label:hover label.sk-toggleable__label {background-color: #d4ebff;}#sk-container-id-4 div.sk-serial::before {content: \"\";position: absolute;border-left: 1px solid gray;box-sizing: border-box;top: 0;bottom: 0;left: 50%;z-index: 0;}#sk-container-id-4 div.sk-serial {display: flex;flex-direction: column;align-items: center;background-color: white;padding-right: 0.2em;padding-left: 0.2em;position: relative;}#sk-container-id-4 div.sk-item {position: relative;z-index: 1;}#sk-container-id-4 div.sk-parallel {display: flex;align-items: stretch;justify-content: center;background-color: white;position: relative;}#sk-container-id-4 div.sk-item::before, #sk-container-id-4 div.sk-parallel-item::before {content: \"\";position: absolute;border-left: 1px solid gray;box-sizing: border-box;top: 0;bottom: 0;left: 50%;z-index: -1;}#sk-container-id-4 div.sk-parallel-item {display: flex;flex-direction: column;z-index: 1;position: relative;background-color: white;}#sk-container-id-4 div.sk-parallel-item:first-child::after {align-self: flex-end;width: 50%;}#sk-container-id-4 div.sk-parallel-item:last-child::after {align-self: flex-start;width: 50%;}#sk-container-id-4 div.sk-parallel-item:only-child::after {width: 0;}#sk-container-id-4 div.sk-dashed-wrapped {border: 1px dashed gray;margin: 0 0.4em 0.5em 0.4em;box-sizing: border-box;padding-bottom: 0.4em;background-color: white;}#sk-container-id-4 div.sk-label label {font-family: monospace;font-weight: bold;display: inline-block;line-height: 1.2em;}#sk-container-id-4 div.sk-label-container {text-align: center;}#sk-container-id-4 div.sk-container {/* jupyter's `normalize.less` sets `[hidden] { display: none; }` but bootstrap.min.css set `[hidden] { display: none !important; }` so we also need the `!important` here to be able to override the default hidden behavior on the sphinx rendered scikit-learn.org. See: https://github.com/scikit-learn/scikit-learn/issues/21755 */display: inline-block !important;position: relative;}#sk-container-id-4 div.sk-text-repr-fallback {display: none;}</style><div id=\"sk-container-id-4\" class=\"sk-top-container\"><div class=\"sk-text-repr-fallback\"><pre>Pipeline(steps=[(&#x27;tfidf&#x27;, TfidfVectorizer(ngram_range=(1, 2))),\n",
       "                (&#x27;mnb&#x27;, MultinomialNB())])</pre><b>In a Jupyter environment, please rerun this cell to show the HTML representation or trust the notebook. <br />On GitHub, the HTML representation is unable to render, please try loading this page with nbviewer.org.</b></div><div class=\"sk-container\" hidden><div class=\"sk-item sk-dashed-wrapped\"><div class=\"sk-label-container\"><div class=\"sk-label sk-toggleable\"><input class=\"sk-toggleable__control sk-hidden--visually\" id=\"sk-estimator-id-12\" type=\"checkbox\" ><label for=\"sk-estimator-id-12\" class=\"sk-toggleable__label sk-toggleable__label-arrow\">Pipeline</label><div class=\"sk-toggleable__content\"><pre>Pipeline(steps=[(&#x27;tfidf&#x27;, TfidfVectorizer(ngram_range=(1, 2))),\n",
       "                (&#x27;mnb&#x27;, MultinomialNB())])</pre></div></div></div><div class=\"sk-serial\"><div class=\"sk-item\"><div class=\"sk-estimator sk-toggleable\"><input class=\"sk-toggleable__control sk-hidden--visually\" id=\"sk-estimator-id-13\" type=\"checkbox\" ><label for=\"sk-estimator-id-13\" class=\"sk-toggleable__label sk-toggleable__label-arrow\">TfidfVectorizer</label><div class=\"sk-toggleable__content\"><pre>TfidfVectorizer(ngram_range=(1, 2))</pre></div></div></div><div class=\"sk-item\"><div class=\"sk-estimator sk-toggleable\"><input class=\"sk-toggleable__control sk-hidden--visually\" id=\"sk-estimator-id-14\" type=\"checkbox\" ><label for=\"sk-estimator-id-14\" class=\"sk-toggleable__label sk-toggleable__label-arrow\">MultinomialNB</label><div class=\"sk-toggleable__content\"><pre>MultinomialNB()</pre></div></div></div></div></div></div></div>"
      ],
      "text/plain": [
       "Pipeline(steps=[('tfidf', TfidfVectorizer(ngram_range=(1, 2))),\n",
       "                ('mnb', MultinomialNB())])"
      ]
     },
     "execution_count": 83,
     "metadata": {},
     "output_type": "execute_result"
    }
   ],
   "source": [
    "### View best model\n",
    "mnb_grid.best_estimator_"
   ]
  },
  {
   "cell_type": "code",
   "execution_count": 84,
   "metadata": {},
   "outputs": [
    {
     "data": {
      "text/plain": [
       "{'tfidf__norm': 'l2',\n",
       " 'tfidf__ngram_range': (1, 2),\n",
       " 'tfidf__max_features': None}"
      ]
     },
     "execution_count": 84,
     "metadata": {},
     "output_type": "execute_result"
    }
   ],
   "source": [
    "### View best model's parameters\n",
    "mnb_grid.best_params_"
   ]
  },
  {
   "cell_type": "code",
   "execution_count": 85,
   "metadata": {},
   "outputs": [],
   "source": [
    "### Predict\n",
    "yhat = mnb_grid.predict(X_test)"
   ]
  },
  {
   "cell_type": "code",
   "execution_count": 87,
   "metadata": {},
   "outputs": [
    {
     "name": "stderr",
     "output_type": "stream",
     "text": [
      "c:\\Users\\Judy\\anaconda3\\envs\\nlp_env\\lib\\site-packages\\sklearn\\metrics\\_classification.py:1327: UndefinedMetricWarning: Precision and F-score are ill-defined and being set to 0.0 in labels with no predicted samples. Use `zero_division` parameter to control this behavior.\n",
      "  _warn_prf(average, modifier, msg_start, len(result))\n",
      "c:\\Users\\Judy\\anaconda3\\envs\\nlp_env\\lib\\site-packages\\sklearn\\metrics\\_classification.py:1327: UndefinedMetricWarning: Precision and F-score are ill-defined and being set to 0.0 in labels with no predicted samples. Use `zero_division` parameter to control this behavior.\n",
      "  _warn_prf(average, modifier, msg_start, len(result))\n"
     ]
    },
    {
     "name": "stdout",
     "output_type": "stream",
     "text": [
      "              precision    recall  f1-score   support\n",
      "\n",
      "    Negative       0.68      0.91      0.78      5585\n",
      "     Neutral       0.00      0.00      0.00      1649\n",
      "    Positive       0.89      0.87      0.88      8826\n",
      "\n",
      "    accuracy                           0.79     16060\n",
      "   macro avg       0.52      0.59      0.55     16060\n",
      "weighted avg       0.73      0.79      0.75     16060\n",
      "\n"
     ]
    },
    {
     "name": "stderr",
     "output_type": "stream",
     "text": [
      "c:\\Users\\Judy\\anaconda3\\envs\\nlp_env\\lib\\site-packages\\sklearn\\metrics\\_classification.py:1327: UndefinedMetricWarning: Precision and F-score are ill-defined and being set to 0.0 in labels with no predicted samples. Use `zero_division` parameter to control this behavior.\n",
      "  _warn_prf(average, modifier, msg_start, len(result))\n"
     ]
    }
   ],
   "source": [
    "### Evaluate model\n",
    "print(classification_report(Y_test, yhat))"
   ]
  },
  {
   "cell_type": "code",
   "execution_count": 89,
   "metadata": {},
   "outputs": [
    {
     "data": {
      "text/plain": [
       "['./Models/mnb.joblib']"
      ]
     },
     "execution_count": 89,
     "metadata": {},
     "output_type": "execute_result"
    }
   ],
   "source": [
    "### Save model\n",
    "dump(mnb_grid.best_estimator_, \"./Models/mnb-multi.joblib\")"
   ]
  },
  {
   "cell_type": "markdown",
   "metadata": {},
   "source": [
    "### LIGHTGBM"
   ]
  },
  {
   "cell_type": "code",
   "execution_count": 65,
   "metadata": {},
   "outputs": [],
   "source": [
    "### Create pipeline\n",
    "lgbm_pipeline = Pipeline([(\"tfidf\", TfidfVectorizer()), (\"lgbm\", LGBMClassifier(objective = \"multiclass\", boosting_type = \"goss\", random_state = rng))])"
   ]
  },
  {
   "cell_type": "code",
   "execution_count": 66,
   "metadata": {},
   "outputs": [],
   "source": [
    "### Create search space\n",
    "lgbm_parameters = {\"tfidf__max_features\": [None, 1000, 1500],\n",
    "                    \"tfidf__ngram_range\": [(1, 1), (1, 2)],\n",
    "                    \"tfidf__norm\": [\"l1\", \"l2\"],\n",
    "                    \"lgbm__n_estimators\": [250, 500, 750],\n",
    "                    \"lgbm__max_depth\": [6, 8, 10],\n",
    "                    \"lgbm__reg_alpha\": [0, 0.5, 1],\n",
    "                    \"lgbm__reg_lambda\": [0, 0.5, 1]}"
   ]
  },
  {
   "cell_type": "code",
   "execution_count": 67,
   "metadata": {},
   "outputs": [
    {
     "name": "stdout",
     "output_type": "stream",
     "text": [
      "Fitting 5 folds for each of 10 candidates, totalling 50 fits\n",
      "[CV] END lgbm__max_depth=10, lgbm__n_estimators=250, lgbm__reg_alpha=1, lgbm__reg_lambda=1, tfidf__max_features=1500, tfidf__ngram_range=(1, 1), tfidf__norm=l2; total time= 1.3min\n",
      "[CV] END lgbm__max_depth=10, lgbm__n_estimators=250, lgbm__reg_alpha=1, lgbm__reg_lambda=1, tfidf__max_features=1500, tfidf__ngram_range=(1, 1), tfidf__norm=l2; total time= 1.4min\n",
      "[CV] END lgbm__max_depth=10, lgbm__n_estimators=250, lgbm__reg_alpha=1, lgbm__reg_lambda=1, tfidf__max_features=1500, tfidf__ngram_range=(1, 1), tfidf__norm=l2; total time=  59.1s\n",
      "[CV] END lgbm__max_depth=10, lgbm__n_estimators=250, lgbm__reg_alpha=1, lgbm__reg_lambda=1, tfidf__max_features=1500, tfidf__ngram_range=(1, 1), tfidf__norm=l2; total time= 1.1min\n",
      "[CV] END lgbm__max_depth=10, lgbm__n_estimators=250, lgbm__reg_alpha=1, lgbm__reg_lambda=1, tfidf__max_features=1500, tfidf__ngram_range=(1, 1), tfidf__norm=l2; total time=  44.3s\n",
      "[CV] END lgbm__max_depth=10, lgbm__n_estimators=750, lgbm__reg_alpha=1, lgbm__reg_lambda=0.5, tfidf__max_features=None, tfidf__ngram_range=(1, 2), tfidf__norm=l2; total time= 6.4min\n",
      "[CV] END lgbm__max_depth=10, lgbm__n_estimators=750, lgbm__reg_alpha=1, lgbm__reg_lambda=0.5, tfidf__max_features=None, tfidf__ngram_range=(1, 2), tfidf__norm=l2; total time= 6.2min\n",
      "[CV] END lgbm__max_depth=10, lgbm__n_estimators=750, lgbm__reg_alpha=1, lgbm__reg_lambda=0.5, tfidf__max_features=None, tfidf__ngram_range=(1, 2), tfidf__norm=l2; total time= 6.1min\n",
      "[CV] END lgbm__max_depth=10, lgbm__n_estimators=750, lgbm__reg_alpha=1, lgbm__reg_lambda=0.5, tfidf__max_features=None, tfidf__ngram_range=(1, 2), tfidf__norm=l2; total time= 6.3min\n",
      "[CV] END lgbm__max_depth=10, lgbm__n_estimators=750, lgbm__reg_alpha=1, lgbm__reg_lambda=0.5, tfidf__max_features=None, tfidf__ngram_range=(1, 2), tfidf__norm=l2; total time= 5.9min\n",
      "[CV] END lgbm__max_depth=6, lgbm__n_estimators=250, lgbm__reg_alpha=1, lgbm__reg_lambda=1, tfidf__max_features=1000, tfidf__ngram_range=(1, 2), tfidf__norm=l1; total time=  46.1s\n",
      "[CV] END lgbm__max_depth=6, lgbm__n_estimators=250, lgbm__reg_alpha=1, lgbm__reg_lambda=1, tfidf__max_features=1000, tfidf__ngram_range=(1, 2), tfidf__norm=l1; total time= 1.1min\n",
      "[CV] END lgbm__max_depth=6, lgbm__n_estimators=250, lgbm__reg_alpha=1, lgbm__reg_lambda=1, tfidf__max_features=1000, tfidf__ngram_range=(1, 2), tfidf__norm=l1; total time=  41.4s\n",
      "[CV] END lgbm__max_depth=6, lgbm__n_estimators=250, lgbm__reg_alpha=1, lgbm__reg_lambda=1, tfidf__max_features=1000, tfidf__ngram_range=(1, 2), tfidf__norm=l1; total time=  37.8s\n",
      "[CV] END lgbm__max_depth=6, lgbm__n_estimators=250, lgbm__reg_alpha=1, lgbm__reg_lambda=1, tfidf__max_features=1000, tfidf__ngram_range=(1, 2), tfidf__norm=l1; total time=  37.6s\n",
      "[CV] END lgbm__max_depth=6, lgbm__n_estimators=250, lgbm__reg_alpha=0.5, lgbm__reg_lambda=0, tfidf__max_features=1500, tfidf__ngram_range=(1, 2), tfidf__norm=l1; total time=  44.9s\n",
      "[CV] END lgbm__max_depth=6, lgbm__n_estimators=250, lgbm__reg_alpha=0.5, lgbm__reg_lambda=0, tfidf__max_features=1500, tfidf__ngram_range=(1, 2), tfidf__norm=l1; total time=  44.5s\n",
      "[CV] END lgbm__max_depth=6, lgbm__n_estimators=250, lgbm__reg_alpha=0.5, lgbm__reg_lambda=0, tfidf__max_features=1500, tfidf__ngram_range=(1, 2), tfidf__norm=l1; total time=  44.4s\n",
      "[CV] END lgbm__max_depth=6, lgbm__n_estimators=250, lgbm__reg_alpha=0.5, lgbm__reg_lambda=0, tfidf__max_features=1500, tfidf__ngram_range=(1, 2), tfidf__norm=l1; total time=  43.3s\n",
      "[CV] END lgbm__max_depth=6, lgbm__n_estimators=250, lgbm__reg_alpha=0.5, lgbm__reg_lambda=0, tfidf__max_features=1500, tfidf__ngram_range=(1, 2), tfidf__norm=l1; total time=  43.8s\n",
      "[CV] END lgbm__max_depth=10, lgbm__n_estimators=750, lgbm__reg_alpha=1, lgbm__reg_lambda=1, tfidf__max_features=None, tfidf__ngram_range=(1, 2), tfidf__norm=l2; total time= 5.9min\n",
      "[CV] END lgbm__max_depth=10, lgbm__n_estimators=750, lgbm__reg_alpha=1, lgbm__reg_lambda=1, tfidf__max_features=None, tfidf__ngram_range=(1, 2), tfidf__norm=l2; total time= 5.8min\n",
      "[CV] END lgbm__max_depth=10, lgbm__n_estimators=750, lgbm__reg_alpha=1, lgbm__reg_lambda=1, tfidf__max_features=None, tfidf__ngram_range=(1, 2), tfidf__norm=l2; total time= 7.0min\n",
      "[CV] END lgbm__max_depth=10, lgbm__n_estimators=750, lgbm__reg_alpha=1, lgbm__reg_lambda=1, tfidf__max_features=None, tfidf__ngram_range=(1, 2), tfidf__norm=l2; total time= 6.5min\n",
      "[CV] END lgbm__max_depth=10, lgbm__n_estimators=750, lgbm__reg_alpha=1, lgbm__reg_lambda=1, tfidf__max_features=None, tfidf__ngram_range=(1, 2), tfidf__norm=l2; total time= 6.4min\n",
      "[CV] END lgbm__max_depth=6, lgbm__n_estimators=750, lgbm__reg_alpha=0.5, lgbm__reg_lambda=0, tfidf__max_features=1500, tfidf__ngram_range=(1, 2), tfidf__norm=l1; total time= 2.4min\n",
      "[CV] END lgbm__max_depth=6, lgbm__n_estimators=750, lgbm__reg_alpha=0.5, lgbm__reg_lambda=0, tfidf__max_features=1500, tfidf__ngram_range=(1, 2), tfidf__norm=l1; total time= 6.6min\n",
      "[CV] END lgbm__max_depth=6, lgbm__n_estimators=750, lgbm__reg_alpha=0.5, lgbm__reg_lambda=0, tfidf__max_features=1500, tfidf__ngram_range=(1, 2), tfidf__norm=l1; total time= 3.9min\n",
      "[CV] END lgbm__max_depth=6, lgbm__n_estimators=750, lgbm__reg_alpha=0.5, lgbm__reg_lambda=0, tfidf__max_features=1500, tfidf__ngram_range=(1, 2), tfidf__norm=l1; total time= 3.8min\n",
      "[CV] END lgbm__max_depth=6, lgbm__n_estimators=750, lgbm__reg_alpha=0.5, lgbm__reg_lambda=0, tfidf__max_features=1500, tfidf__ngram_range=(1, 2), tfidf__norm=l1; total time= 2.5min\n",
      "[CV] END lgbm__max_depth=10, lgbm__n_estimators=500, lgbm__reg_alpha=0.5, lgbm__reg_lambda=1, tfidf__max_features=None, tfidf__ngram_range=(1, 1), tfidf__norm=l1; total time= 2.6min\n",
      "[CV] END lgbm__max_depth=10, lgbm__n_estimators=500, lgbm__reg_alpha=0.5, lgbm__reg_lambda=1, tfidf__max_features=None, tfidf__ngram_range=(1, 1), tfidf__norm=l1; total time= 2.7min\n",
      "[CV] END lgbm__max_depth=10, lgbm__n_estimators=500, lgbm__reg_alpha=0.5, lgbm__reg_lambda=1, tfidf__max_features=None, tfidf__ngram_range=(1, 1), tfidf__norm=l1; total time= 2.5min\n",
      "[CV] END lgbm__max_depth=10, lgbm__n_estimators=500, lgbm__reg_alpha=0.5, lgbm__reg_lambda=1, tfidf__max_features=None, tfidf__ngram_range=(1, 1), tfidf__norm=l1; total time= 2.7min\n",
      "[CV] END lgbm__max_depth=10, lgbm__n_estimators=500, lgbm__reg_alpha=0.5, lgbm__reg_lambda=1, tfidf__max_features=None, tfidf__ngram_range=(1, 1), tfidf__norm=l1; total time= 2.2min\n",
      "[CV] END lgbm__max_depth=8, lgbm__n_estimators=250, lgbm__reg_alpha=0.5, lgbm__reg_lambda=0.5, tfidf__max_features=1500, tfidf__ngram_range=(1, 2), tfidf__norm=l2; total time= 1.7min\n",
      "[CV] END lgbm__max_depth=8, lgbm__n_estimators=250, lgbm__reg_alpha=0.5, lgbm__reg_lambda=0.5, tfidf__max_features=1500, tfidf__ngram_range=(1, 2), tfidf__norm=l2; total time= 1.3min\n",
      "[CV] END lgbm__max_depth=8, lgbm__n_estimators=250, lgbm__reg_alpha=0.5, lgbm__reg_lambda=0.5, tfidf__max_features=1500, tfidf__ngram_range=(1, 2), tfidf__norm=l2; total time= 1.1min\n",
      "[CV] END lgbm__max_depth=8, lgbm__n_estimators=250, lgbm__reg_alpha=0.5, lgbm__reg_lambda=0.5, tfidf__max_features=1500, tfidf__ngram_range=(1, 2), tfidf__norm=l2; total time= 1.4min\n",
      "[CV] END lgbm__max_depth=8, lgbm__n_estimators=250, lgbm__reg_alpha=0.5, lgbm__reg_lambda=0.5, tfidf__max_features=1500, tfidf__ngram_range=(1, 2), tfidf__norm=l2; total time= 1.5min\n",
      "[CV] END lgbm__max_depth=10, lgbm__n_estimators=250, lgbm__reg_alpha=0, lgbm__reg_lambda=0, tfidf__max_features=None, tfidf__ngram_range=(1, 1), tfidf__norm=l2; total time= 1.1min\n",
      "[CV] END lgbm__max_depth=10, lgbm__n_estimators=250, lgbm__reg_alpha=0, lgbm__reg_lambda=0, tfidf__max_features=None, tfidf__ngram_range=(1, 1), tfidf__norm=l2; total time=  54.2s\n",
      "[CV] END lgbm__max_depth=10, lgbm__n_estimators=250, lgbm__reg_alpha=0, lgbm__reg_lambda=0, tfidf__max_features=None, tfidf__ngram_range=(1, 1), tfidf__norm=l2; total time=  41.1s\n",
      "[CV] END lgbm__max_depth=10, lgbm__n_estimators=250, lgbm__reg_alpha=0, lgbm__reg_lambda=0, tfidf__max_features=None, tfidf__ngram_range=(1, 1), tfidf__norm=l2; total time=  40.6s\n",
      "[CV] END lgbm__max_depth=10, lgbm__n_estimators=250, lgbm__reg_alpha=0, lgbm__reg_lambda=0, tfidf__max_features=None, tfidf__ngram_range=(1, 1), tfidf__norm=l2; total time=  40.9s\n",
      "[CV] END lgbm__max_depth=8, lgbm__n_estimators=250, lgbm__reg_alpha=0.5, lgbm__reg_lambda=1, tfidf__max_features=1000, tfidf__ngram_range=(1, 1), tfidf__norm=l1; total time=  40.9s\n",
      "[CV] END lgbm__max_depth=8, lgbm__n_estimators=250, lgbm__reg_alpha=0.5, lgbm__reg_lambda=1, tfidf__max_features=1000, tfidf__ngram_range=(1, 1), tfidf__norm=l1; total time=  42.2s\n",
      "[CV] END lgbm__max_depth=8, lgbm__n_estimators=250, lgbm__reg_alpha=0.5, lgbm__reg_lambda=1, tfidf__max_features=1000, tfidf__ngram_range=(1, 1), tfidf__norm=l1; total time=  41.5s\n",
      "[CV] END lgbm__max_depth=8, lgbm__n_estimators=250, lgbm__reg_alpha=0.5, lgbm__reg_lambda=1, tfidf__max_features=1000, tfidf__ngram_range=(1, 1), tfidf__norm=l1; total time=  37.9s\n",
      "[CV] END lgbm__max_depth=8, lgbm__n_estimators=250, lgbm__reg_alpha=0.5, lgbm__reg_lambda=1, tfidf__max_features=1000, tfidf__ngram_range=(1, 1), tfidf__norm=l1; total time=  37.5s\n"
     ]
    },
    {
     "data": {
      "text/html": [
       "<style>#sk-container-id-1 {color: black;background-color: white;}#sk-container-id-1 pre{padding: 0;}#sk-container-id-1 div.sk-toggleable {background-color: white;}#sk-container-id-1 label.sk-toggleable__label {cursor: pointer;display: block;width: 100%;margin-bottom: 0;padding: 0.3em;box-sizing: border-box;text-align: center;}#sk-container-id-1 label.sk-toggleable__label-arrow:before {content: \"▸\";float: left;margin-right: 0.25em;color: #696969;}#sk-container-id-1 label.sk-toggleable__label-arrow:hover:before {color: black;}#sk-container-id-1 div.sk-estimator:hover label.sk-toggleable__label-arrow:before {color: black;}#sk-container-id-1 div.sk-toggleable__content {max-height: 0;max-width: 0;overflow: hidden;text-align: left;background-color: #f0f8ff;}#sk-container-id-1 div.sk-toggleable__content pre {margin: 0.2em;color: black;border-radius: 0.25em;background-color: #f0f8ff;}#sk-container-id-1 input.sk-toggleable__control:checked~div.sk-toggleable__content {max-height: 200px;max-width: 100%;overflow: auto;}#sk-container-id-1 input.sk-toggleable__control:checked~label.sk-toggleable__label-arrow:before {content: \"▾\";}#sk-container-id-1 div.sk-estimator input.sk-toggleable__control:checked~label.sk-toggleable__label {background-color: #d4ebff;}#sk-container-id-1 div.sk-label input.sk-toggleable__control:checked~label.sk-toggleable__label {background-color: #d4ebff;}#sk-container-id-1 input.sk-hidden--visually {border: 0;clip: rect(1px 1px 1px 1px);clip: rect(1px, 1px, 1px, 1px);height: 1px;margin: -1px;overflow: hidden;padding: 0;position: absolute;width: 1px;}#sk-container-id-1 div.sk-estimator {font-family: monospace;background-color: #f0f8ff;border: 1px dotted black;border-radius: 0.25em;box-sizing: border-box;margin-bottom: 0.5em;}#sk-container-id-1 div.sk-estimator:hover {background-color: #d4ebff;}#sk-container-id-1 div.sk-parallel-item::after {content: \"\";width: 100%;border-bottom: 1px solid gray;flex-grow: 1;}#sk-container-id-1 div.sk-label:hover label.sk-toggleable__label {background-color: #d4ebff;}#sk-container-id-1 div.sk-serial::before {content: \"\";position: absolute;border-left: 1px solid gray;box-sizing: border-box;top: 0;bottom: 0;left: 50%;z-index: 0;}#sk-container-id-1 div.sk-serial {display: flex;flex-direction: column;align-items: center;background-color: white;padding-right: 0.2em;padding-left: 0.2em;position: relative;}#sk-container-id-1 div.sk-item {position: relative;z-index: 1;}#sk-container-id-1 div.sk-parallel {display: flex;align-items: stretch;justify-content: center;background-color: white;position: relative;}#sk-container-id-1 div.sk-item::before, #sk-container-id-1 div.sk-parallel-item::before {content: \"\";position: absolute;border-left: 1px solid gray;box-sizing: border-box;top: 0;bottom: 0;left: 50%;z-index: -1;}#sk-container-id-1 div.sk-parallel-item {display: flex;flex-direction: column;z-index: 1;position: relative;background-color: white;}#sk-container-id-1 div.sk-parallel-item:first-child::after {align-self: flex-end;width: 50%;}#sk-container-id-1 div.sk-parallel-item:last-child::after {align-self: flex-start;width: 50%;}#sk-container-id-1 div.sk-parallel-item:only-child::after {width: 0;}#sk-container-id-1 div.sk-dashed-wrapped {border: 1px dashed gray;margin: 0 0.4em 0.5em 0.4em;box-sizing: border-box;padding-bottom: 0.4em;background-color: white;}#sk-container-id-1 div.sk-label label {font-family: monospace;font-weight: bold;display: inline-block;line-height: 1.2em;}#sk-container-id-1 div.sk-label-container {text-align: center;}#sk-container-id-1 div.sk-container {/* jupyter's `normalize.less` sets `[hidden] { display: none; }` but bootstrap.min.css set `[hidden] { display: none !important; }` so we also need the `!important` here to be able to override the default hidden behavior on the sphinx rendered scikit-learn.org. See: https://github.com/scikit-learn/scikit-learn/issues/21755 */display: inline-block !important;position: relative;}#sk-container-id-1 div.sk-text-repr-fallback {display: none;}</style><div id=\"sk-container-id-1\" class=\"sk-top-container\"><div class=\"sk-text-repr-fallback\"><pre>RandomizedSearchCV(cv=KFold(n_splits=5, random_state=None, shuffle=False),\n",
       "                   estimator=Pipeline(steps=[(&#x27;tfidf&#x27;, TfidfVectorizer()),\n",
       "                                             (&#x27;lgbm&#x27;,\n",
       "                                              LGBMClassifier(boosting_type=&#x27;goss&#x27;,\n",
       "                                                             objective=&#x27;multiclass&#x27;,\n",
       "                                                             random_state=RandomState(MT19937) at 0x18F03C7CE40))]),\n",
       "                   param_distributions={&#x27;lgbm__max_depth&#x27;: [6, 8, 10],\n",
       "                                        &#x27;lgbm__n_estimators&#x27;: [250, 500, 750],\n",
       "                                        &#x27;lgbm__reg_alpha&#x27;: [0, 0.5, 1],\n",
       "                                        &#x27;lgbm__reg_lambda&#x27;: [0, 0.5, 1],\n",
       "                                        &#x27;tfidf__max_features&#x27;: [None, 1000,\n",
       "                                                                1500],\n",
       "                                        &#x27;tfidf__ngram_range&#x27;: [(1, 1), (1, 2)],\n",
       "                                        &#x27;tfidf__norm&#x27;: [&#x27;l1&#x27;, &#x27;l2&#x27;]},\n",
       "                   verbose=2)</pre><b>In a Jupyter environment, please rerun this cell to show the HTML representation or trust the notebook. <br />On GitHub, the HTML representation is unable to render, please try loading this page with nbviewer.org.</b></div><div class=\"sk-container\" hidden><div class=\"sk-item sk-dashed-wrapped\"><div class=\"sk-label-container\"><div class=\"sk-label sk-toggleable\"><input class=\"sk-toggleable__control sk-hidden--visually\" id=\"sk-estimator-id-1\" type=\"checkbox\" ><label for=\"sk-estimator-id-1\" class=\"sk-toggleable__label sk-toggleable__label-arrow\">RandomizedSearchCV</label><div class=\"sk-toggleable__content\"><pre>RandomizedSearchCV(cv=KFold(n_splits=5, random_state=None, shuffle=False),\n",
       "                   estimator=Pipeline(steps=[(&#x27;tfidf&#x27;, TfidfVectorizer()),\n",
       "                                             (&#x27;lgbm&#x27;,\n",
       "                                              LGBMClassifier(boosting_type=&#x27;goss&#x27;,\n",
       "                                                             objective=&#x27;multiclass&#x27;,\n",
       "                                                             random_state=RandomState(MT19937) at 0x18F03C7CE40))]),\n",
       "                   param_distributions={&#x27;lgbm__max_depth&#x27;: [6, 8, 10],\n",
       "                                        &#x27;lgbm__n_estimators&#x27;: [250, 500, 750],\n",
       "                                        &#x27;lgbm__reg_alpha&#x27;: [0, 0.5, 1],\n",
       "                                        &#x27;lgbm__reg_lambda&#x27;: [0, 0.5, 1],\n",
       "                                        &#x27;tfidf__max_features&#x27;: [None, 1000,\n",
       "                                                                1500],\n",
       "                                        &#x27;tfidf__ngram_range&#x27;: [(1, 1), (1, 2)],\n",
       "                                        &#x27;tfidf__norm&#x27;: [&#x27;l1&#x27;, &#x27;l2&#x27;]},\n",
       "                   verbose=2)</pre></div></div></div><div class=\"sk-parallel\"><div class=\"sk-parallel-item\"><div class=\"sk-item\"><div class=\"sk-label-container\"><div class=\"sk-label sk-toggleable\"><input class=\"sk-toggleable__control sk-hidden--visually\" id=\"sk-estimator-id-2\" type=\"checkbox\" ><label for=\"sk-estimator-id-2\" class=\"sk-toggleable__label sk-toggleable__label-arrow\">estimator: Pipeline</label><div class=\"sk-toggleable__content\"><pre>Pipeline(steps=[(&#x27;tfidf&#x27;, TfidfVectorizer()),\n",
       "                (&#x27;lgbm&#x27;,\n",
       "                 LGBMClassifier(boosting_type=&#x27;goss&#x27;, objective=&#x27;multiclass&#x27;,\n",
       "                                random_state=RandomState(MT19937) at 0x18F03C7CE40))])</pre></div></div></div><div class=\"sk-serial\"><div class=\"sk-item\"><div class=\"sk-serial\"><div class=\"sk-item\"><div class=\"sk-estimator sk-toggleable\"><input class=\"sk-toggleable__control sk-hidden--visually\" id=\"sk-estimator-id-3\" type=\"checkbox\" ><label for=\"sk-estimator-id-3\" class=\"sk-toggleable__label sk-toggleable__label-arrow\">TfidfVectorizer</label><div class=\"sk-toggleable__content\"><pre>TfidfVectorizer()</pre></div></div></div><div class=\"sk-item\"><div class=\"sk-estimator sk-toggleable\"><input class=\"sk-toggleable__control sk-hidden--visually\" id=\"sk-estimator-id-4\" type=\"checkbox\" ><label for=\"sk-estimator-id-4\" class=\"sk-toggleable__label sk-toggleable__label-arrow\">LGBMClassifier</label><div class=\"sk-toggleable__content\"><pre>LGBMClassifier(boosting_type=&#x27;goss&#x27;, objective=&#x27;multiclass&#x27;,\n",
       "               random_state=RandomState(MT19937) at 0x18F03C7CE40)</pre></div></div></div></div></div></div></div></div></div></div></div></div>"
      ],
      "text/plain": [
       "RandomizedSearchCV(cv=KFold(n_splits=5, random_state=None, shuffle=False),\n",
       "                   estimator=Pipeline(steps=[('tfidf', TfidfVectorizer()),\n",
       "                                             ('lgbm',\n",
       "                                              LGBMClassifier(boosting_type='goss',\n",
       "                                                             objective='multiclass',\n",
       "                                                             random_state=RandomState(MT19937) at 0x18F03C7CE40))]),\n",
       "                   param_distributions={'lgbm__max_depth': [6, 8, 10],\n",
       "                                        'lgbm__n_estimators': [250, 500, 750],\n",
       "                                        'lgbm__reg_alpha': [0, 0.5, 1],\n",
       "                                        'lgbm__reg_lambda': [0, 0.5, 1],\n",
       "                                        'tfidf__max_features': [None, 1000,\n",
       "                                                                1500],\n",
       "                                        'tfidf__ngram_range': [(1, 1), (1, 2)],\n",
       "                                        'tfidf__norm': ['l1', 'l2']},\n",
       "                   verbose=2)"
      ]
     },
     "execution_count": 67,
     "metadata": {},
     "output_type": "execute_result"
    }
   ],
   "source": [
    "### Perform search\n",
    "lgbm_grid = RandomizedSearchCV(lgbm_pipeline, lgbm_parameters, n_iter = 10, cv = cv, verbose = 2)\n",
    "lgbm_grid.fit(X_train, Y_train)"
   ]
  },
  {
   "cell_type": "code",
   "execution_count": 68,
   "metadata": {},
   "outputs": [
    {
     "data": {
      "text/html": [
       "<style>#sk-container-id-2 {color: black;background-color: white;}#sk-container-id-2 pre{padding: 0;}#sk-container-id-2 div.sk-toggleable {background-color: white;}#sk-container-id-2 label.sk-toggleable__label {cursor: pointer;display: block;width: 100%;margin-bottom: 0;padding: 0.3em;box-sizing: border-box;text-align: center;}#sk-container-id-2 label.sk-toggleable__label-arrow:before {content: \"▸\";float: left;margin-right: 0.25em;color: #696969;}#sk-container-id-2 label.sk-toggleable__label-arrow:hover:before {color: black;}#sk-container-id-2 div.sk-estimator:hover label.sk-toggleable__label-arrow:before {color: black;}#sk-container-id-2 div.sk-toggleable__content {max-height: 0;max-width: 0;overflow: hidden;text-align: left;background-color: #f0f8ff;}#sk-container-id-2 div.sk-toggleable__content pre {margin: 0.2em;color: black;border-radius: 0.25em;background-color: #f0f8ff;}#sk-container-id-2 input.sk-toggleable__control:checked~div.sk-toggleable__content {max-height: 200px;max-width: 100%;overflow: auto;}#sk-container-id-2 input.sk-toggleable__control:checked~label.sk-toggleable__label-arrow:before {content: \"▾\";}#sk-container-id-2 div.sk-estimator input.sk-toggleable__control:checked~label.sk-toggleable__label {background-color: #d4ebff;}#sk-container-id-2 div.sk-label input.sk-toggleable__control:checked~label.sk-toggleable__label {background-color: #d4ebff;}#sk-container-id-2 input.sk-hidden--visually {border: 0;clip: rect(1px 1px 1px 1px);clip: rect(1px, 1px, 1px, 1px);height: 1px;margin: -1px;overflow: hidden;padding: 0;position: absolute;width: 1px;}#sk-container-id-2 div.sk-estimator {font-family: monospace;background-color: #f0f8ff;border: 1px dotted black;border-radius: 0.25em;box-sizing: border-box;margin-bottom: 0.5em;}#sk-container-id-2 div.sk-estimator:hover {background-color: #d4ebff;}#sk-container-id-2 div.sk-parallel-item::after {content: \"\";width: 100%;border-bottom: 1px solid gray;flex-grow: 1;}#sk-container-id-2 div.sk-label:hover label.sk-toggleable__label {background-color: #d4ebff;}#sk-container-id-2 div.sk-serial::before {content: \"\";position: absolute;border-left: 1px solid gray;box-sizing: border-box;top: 0;bottom: 0;left: 50%;z-index: 0;}#sk-container-id-2 div.sk-serial {display: flex;flex-direction: column;align-items: center;background-color: white;padding-right: 0.2em;padding-left: 0.2em;position: relative;}#sk-container-id-2 div.sk-item {position: relative;z-index: 1;}#sk-container-id-2 div.sk-parallel {display: flex;align-items: stretch;justify-content: center;background-color: white;position: relative;}#sk-container-id-2 div.sk-item::before, #sk-container-id-2 div.sk-parallel-item::before {content: \"\";position: absolute;border-left: 1px solid gray;box-sizing: border-box;top: 0;bottom: 0;left: 50%;z-index: -1;}#sk-container-id-2 div.sk-parallel-item {display: flex;flex-direction: column;z-index: 1;position: relative;background-color: white;}#sk-container-id-2 div.sk-parallel-item:first-child::after {align-self: flex-end;width: 50%;}#sk-container-id-2 div.sk-parallel-item:last-child::after {align-self: flex-start;width: 50%;}#sk-container-id-2 div.sk-parallel-item:only-child::after {width: 0;}#sk-container-id-2 div.sk-dashed-wrapped {border: 1px dashed gray;margin: 0 0.4em 0.5em 0.4em;box-sizing: border-box;padding-bottom: 0.4em;background-color: white;}#sk-container-id-2 div.sk-label label {font-family: monospace;font-weight: bold;display: inline-block;line-height: 1.2em;}#sk-container-id-2 div.sk-label-container {text-align: center;}#sk-container-id-2 div.sk-container {/* jupyter's `normalize.less` sets `[hidden] { display: none; }` but bootstrap.min.css set `[hidden] { display: none !important; }` so we also need the `!important` here to be able to override the default hidden behavior on the sphinx rendered scikit-learn.org. See: https://github.com/scikit-learn/scikit-learn/issues/21755 */display: inline-block !important;position: relative;}#sk-container-id-2 div.sk-text-repr-fallback {display: none;}</style><div id=\"sk-container-id-2\" class=\"sk-top-container\"><div class=\"sk-text-repr-fallback\"><pre>Pipeline(steps=[(&#x27;tfidf&#x27;,\n",
       "                 TfidfVectorizer(max_features=1500, ngram_range=(1, 2))),\n",
       "                (&#x27;lgbm&#x27;,\n",
       "                 LGBMClassifier(boosting_type=&#x27;goss&#x27;, max_depth=8,\n",
       "                                n_estimators=250, objective=&#x27;multiclass&#x27;,\n",
       "                                random_state=RandomState(MT19937) at 0x18F018E9140,\n",
       "                                reg_alpha=0.5, reg_lambda=0.5))])</pre><b>In a Jupyter environment, please rerun this cell to show the HTML representation or trust the notebook. <br />On GitHub, the HTML representation is unable to render, please try loading this page with nbviewer.org.</b></div><div class=\"sk-container\" hidden><div class=\"sk-item sk-dashed-wrapped\"><div class=\"sk-label-container\"><div class=\"sk-label sk-toggleable\"><input class=\"sk-toggleable__control sk-hidden--visually\" id=\"sk-estimator-id-5\" type=\"checkbox\" ><label for=\"sk-estimator-id-5\" class=\"sk-toggleable__label sk-toggleable__label-arrow\">Pipeline</label><div class=\"sk-toggleable__content\"><pre>Pipeline(steps=[(&#x27;tfidf&#x27;,\n",
       "                 TfidfVectorizer(max_features=1500, ngram_range=(1, 2))),\n",
       "                (&#x27;lgbm&#x27;,\n",
       "                 LGBMClassifier(boosting_type=&#x27;goss&#x27;, max_depth=8,\n",
       "                                n_estimators=250, objective=&#x27;multiclass&#x27;,\n",
       "                                random_state=RandomState(MT19937) at 0x18F018E9140,\n",
       "                                reg_alpha=0.5, reg_lambda=0.5))])</pre></div></div></div><div class=\"sk-serial\"><div class=\"sk-item\"><div class=\"sk-estimator sk-toggleable\"><input class=\"sk-toggleable__control sk-hidden--visually\" id=\"sk-estimator-id-6\" type=\"checkbox\" ><label for=\"sk-estimator-id-6\" class=\"sk-toggleable__label sk-toggleable__label-arrow\">TfidfVectorizer</label><div class=\"sk-toggleable__content\"><pre>TfidfVectorizer(max_features=1500, ngram_range=(1, 2))</pre></div></div></div><div class=\"sk-item\"><div class=\"sk-estimator sk-toggleable\"><input class=\"sk-toggleable__control sk-hidden--visually\" id=\"sk-estimator-id-7\" type=\"checkbox\" ><label for=\"sk-estimator-id-7\" class=\"sk-toggleable__label sk-toggleable__label-arrow\">LGBMClassifier</label><div class=\"sk-toggleable__content\"><pre>LGBMClassifier(boosting_type=&#x27;goss&#x27;, max_depth=8, n_estimators=250,\n",
       "               objective=&#x27;multiclass&#x27;,\n",
       "               random_state=RandomState(MT19937) at 0x18F018E9140,\n",
       "               reg_alpha=0.5, reg_lambda=0.5)</pre></div></div></div></div></div></div></div>"
      ],
      "text/plain": [
       "Pipeline(steps=[('tfidf',\n",
       "                 TfidfVectorizer(max_features=1500, ngram_range=(1, 2))),\n",
       "                ('lgbm',\n",
       "                 LGBMClassifier(boosting_type='goss', max_depth=8,\n",
       "                                n_estimators=250, objective='multiclass',\n",
       "                                random_state=RandomState(MT19937) at 0x18F018E9140,\n",
       "                                reg_alpha=0.5, reg_lambda=0.5))])"
      ]
     },
     "execution_count": 68,
     "metadata": {},
     "output_type": "execute_result"
    }
   ],
   "source": [
    "### View best model\n",
    "lgbm_grid.best_estimator_"
   ]
  },
  {
   "cell_type": "code",
   "execution_count": 69,
   "metadata": {},
   "outputs": [
    {
     "data": {
      "text/plain": [
       "{'tfidf__norm': 'l2',\n",
       " 'tfidf__ngram_range': (1, 2),\n",
       " 'tfidf__max_features': 1500,\n",
       " 'lgbm__reg_lambda': 0.5,\n",
       " 'lgbm__reg_alpha': 0.5,\n",
       " 'lgbm__n_estimators': 250,\n",
       " 'lgbm__max_depth': 8}"
      ]
     },
     "execution_count": 69,
     "metadata": {},
     "output_type": "execute_result"
    }
   ],
   "source": [
    "### View best model's parameters\n",
    "lgbm_grid.best_params_"
   ]
  },
  {
   "cell_type": "code",
   "execution_count": 70,
   "metadata": {},
   "outputs": [],
   "source": [
    "### Predict\n",
    "yhat = lgbm_grid.predict(X_test)"
   ]
  },
  {
   "cell_type": "code",
   "execution_count": 72,
   "metadata": {},
   "outputs": [
    {
     "name": "stdout",
     "output_type": "stream",
     "text": [
      "              precision    recall  f1-score   support\n",
      "\n",
      "    Negative       0.73      0.86      0.79      5585\n",
      "     Neutral       0.32      0.08      0.12      1649\n",
      "    Positive       0.86      0.89      0.88      8826\n",
      "\n",
      "    accuracy                           0.80     16060\n",
      "   macro avg       0.64      0.61      0.60     16060\n",
      "weighted avg       0.76      0.80      0.77     16060\n",
      "\n"
     ]
    }
   ],
   "source": [
    "### Evaluate model\n",
    "print(classification_report(Y_test, yhat))"
   ]
  },
  {
   "cell_type": "code",
   "execution_count": 73,
   "metadata": {},
   "outputs": [
    {
     "data": {
      "text/plain": [
       "['./Models/lgbm.joblib']"
      ]
     },
     "execution_count": 73,
     "metadata": {},
     "output_type": "execute_result"
    }
   ],
   "source": [
    "### Save model\n",
    "dump(lgbm_grid.best_estimator_, \"./Models/lgbm-multi.joblib\")"
   ]
  },
  {
   "attachments": {},
   "cell_type": "markdown",
   "metadata": {},
   "source": [
    "Kaggle users reported accuracies in the 70s, so Naive Bayes and LightGBM's accuracy of 79% and 80% respectively, checks out. However, as suspected, the algorithms struggle to predict neutral reviews. Lets push this further and see if the performance metrics significantly differ when this problem is approached with a binary classification task"
   ]
  },
  {
   "attachments": {},
   "cell_type": "markdown",
   "metadata": {},
   "source": [
    "# BINARY CLASSIFICATION"
   ]
  },
  {
   "cell_type": "code",
   "execution_count": 44,
   "metadata": {},
   "outputs": [],
   "source": [
    "### Set up modeling parameters\n",
    "cv = KFold(5)\n",
    "rng = np.random.RandomState(123)"
   ]
  },
  {
   "attachments": {},
   "cell_type": "markdown",
   "metadata": {},
   "source": [
    "### TRAIN/TEST SETS"
   ]
  },
  {
   "cell_type": "code",
   "execution_count": 47,
   "metadata": {},
   "outputs": [
    {
     "name": "stdout",
     "output_type": "stream",
     "text": [
      "(45287,) (45287,)\n",
      "Negative    24358\n",
      "Positive    20929\n",
      "Name: Binary_Sentiment, dtype: int64\n"
     ]
    }
   ],
   "source": [
    "### Create train set\n",
    "X_train = df[df[\"Review_Date\"] < \"06-01-2022\"][\"Review_Cleaned\"]\n",
    "Y_train = df[df[\"Review_Date\"] < \"06-01-2022\"][\"Binary_Sentiment\"]\n",
    "print(X_train.shape, Y_train.shape)\n",
    "print(Y_train.value_counts())"
   ]
  },
  {
   "cell_type": "code",
   "execution_count": 51,
   "metadata": {},
   "outputs": [
    {
     "name": "stdout",
     "output_type": "stream",
     "text": [
      "(16059,) (16059,)\n",
      "Positive    8825\n",
      "Negative    7234\n",
      "Name: Binary_Sentiment, dtype: int64\n"
     ]
    }
   ],
   "source": [
    "### Create test set\n",
    "X_test = df[(df[\"Review_Date\"] >= \"06-01-2022\")][\"Review_Cleaned\"]\n",
    "Y_test = df[(df[\"Review_Date\"] >= \"06-01-2022\")][\"Binary_Sentiment\"]\n",
    "print(X_test.shape, Y_test.shape)\n",
    "print(Y_test.value_counts())"
   ]
  },
  {
   "attachments": {},
   "cell_type": "markdown",
   "metadata": {},
   "source": [
    "### LOGISTIC REGRESSION"
   ]
  },
  {
   "cell_type": "code",
   "execution_count": 67,
   "metadata": {},
   "outputs": [],
   "source": [
    "### Create pipeline\n",
    "log_pipeline = Pipeline([(\"tfidf\", TfidfVectorizer()), (\"log\", LogisticRegressionCV(max_iter = 750))])"
   ]
  },
  {
   "cell_type": "code",
   "execution_count": 68,
   "metadata": {},
   "outputs": [],
   "source": [
    "### Create search space\n",
    "log_parameters = {\"tfidf__max_features\": [None, 1000, 1500],\n",
    "                    \"tfidf__ngram_range\": [(1, 1), (1, 2)],\n",
    "                    \"tfidf__norm\": [\"l1\", \"l2\"],\n",
    "                    \"log__penalty\": [\"l1\", \"l2\", \"elasticnet\"],\n",
    "                    \"log__Cs\": [1e5, 10]}"
   ]
  },
  {
   "cell_type": "code",
   "execution_count": 69,
   "metadata": {},
   "outputs": [
    {
     "name": "stdout",
     "output_type": "stream",
     "text": [
      "Fitting 5 folds for each of 10 candidates, totalling 50 fits\n",
      "[CV] END log__Cs=100000.0, log__penalty=l2, tfidf__max_features=None, tfidf__ngram_range=(1, 2), tfidf__norm=l2; total time=  10.2s\n",
      "[CV] END log__Cs=100000.0, log__penalty=l2, tfidf__max_features=None, tfidf__ngram_range=(1, 2), tfidf__norm=l2; total time=   6.1s\n",
      "[CV] END log__Cs=100000.0, log__penalty=l2, tfidf__max_features=None, tfidf__ngram_range=(1, 2), tfidf__norm=l2; total time=   6.0s\n",
      "[CV] END log__Cs=100000.0, log__penalty=l2, tfidf__max_features=None, tfidf__ngram_range=(1, 2), tfidf__norm=l2; total time=   6.5s\n",
      "[CV] END log__Cs=100000.0, log__penalty=l2, tfidf__max_features=None, tfidf__ngram_range=(1, 2), tfidf__norm=l2; total time=   7.0s\n",
      "[CV] END log__Cs=100000.0, log__penalty=l2, tfidf__max_features=None, tfidf__ngram_range=(1, 1), tfidf__norm=l1; total time=   2.8s\n",
      "[CV] END log__Cs=100000.0, log__penalty=l2, tfidf__max_features=None, tfidf__ngram_range=(1, 1), tfidf__norm=l1; total time=   2.1s\n",
      "[CV] END log__Cs=100000.0, log__penalty=l2, tfidf__max_features=None, tfidf__ngram_range=(1, 1), tfidf__norm=l1; total time=   2.1s\n",
      "[CV] END log__Cs=100000.0, log__penalty=l2, tfidf__max_features=None, tfidf__ngram_range=(1, 1), tfidf__norm=l1; total time=   2.0s\n",
      "[CV] END log__Cs=100000.0, log__penalty=l2, tfidf__max_features=None, tfidf__ngram_range=(1, 1), tfidf__norm=l1; total time=   2.7s\n",
      "[CV] END log__Cs=10, log__penalty=l2, tfidf__max_features=1000, tfidf__ngram_range=(1, 1), tfidf__norm=l2; total time=  34.5s\n",
      "[CV] END log__Cs=10, log__penalty=l2, tfidf__max_features=1000, tfidf__ngram_range=(1, 1), tfidf__norm=l2; total time=  29.5s\n",
      "[CV] END log__Cs=10, log__penalty=l2, tfidf__max_features=1000, tfidf__ngram_range=(1, 1), tfidf__norm=l2; total time=  26.7s\n",
      "[CV] END log__Cs=10, log__penalty=l2, tfidf__max_features=1000, tfidf__ngram_range=(1, 1), tfidf__norm=l2; total time=  24.9s\n",
      "[CV] END log__Cs=10, log__penalty=l2, tfidf__max_features=1000, tfidf__ngram_range=(1, 1), tfidf__norm=l2; total time=  33.0s\n",
      "[CV] END log__Cs=10, log__penalty=l1, tfidf__max_features=None, tfidf__ngram_range=(1, 2), tfidf__norm=l2; total time=   5.7s\n",
      "[CV] END log__Cs=10, log__penalty=l1, tfidf__max_features=None, tfidf__ngram_range=(1, 2), tfidf__norm=l2; total time=   5.5s\n",
      "[CV] END log__Cs=10, log__penalty=l1, tfidf__max_features=None, tfidf__ngram_range=(1, 2), tfidf__norm=l2; total time=   5.7s\n",
      "[CV] END log__Cs=10, log__penalty=l1, tfidf__max_features=None, tfidf__ngram_range=(1, 2), tfidf__norm=l2; total time=   5.2s\n",
      "[CV] END log__Cs=10, log__penalty=l1, tfidf__max_features=None, tfidf__ngram_range=(1, 2), tfidf__norm=l2; total time=   5.1s\n",
      "[CV] END log__Cs=10, log__penalty=l2, tfidf__max_features=1000, tfidf__ngram_range=(1, 2), tfidf__norm=l2; total time=  55.6s\n",
      "[CV] END log__Cs=10, log__penalty=l2, tfidf__max_features=1000, tfidf__ngram_range=(1, 2), tfidf__norm=l2; total time=  46.5s\n",
      "[CV] END log__Cs=10, log__penalty=l2, tfidf__max_features=1000, tfidf__ngram_range=(1, 2), tfidf__norm=l2; total time=  48.6s\n",
      "[CV] END log__Cs=10, log__penalty=l2, tfidf__max_features=1000, tfidf__ngram_range=(1, 2), tfidf__norm=l2; total time= 1.1min\n",
      "[CV] END log__Cs=10, log__penalty=l2, tfidf__max_features=1000, tfidf__ngram_range=(1, 2), tfidf__norm=l2; total time=  54.9s\n",
      "[CV] END log__Cs=100000.0, log__penalty=l1, tfidf__max_features=None, tfidf__ngram_range=(1, 1), tfidf__norm=l2; total time=   1.9s\n",
      "[CV] END log__Cs=100000.0, log__penalty=l1, tfidf__max_features=None, tfidf__ngram_range=(1, 1), tfidf__norm=l2; total time=   1.8s\n",
      "[CV] END log__Cs=100000.0, log__penalty=l1, tfidf__max_features=None, tfidf__ngram_range=(1, 1), tfidf__norm=l2; total time=   1.7s\n",
      "[CV] END log__Cs=100000.0, log__penalty=l1, tfidf__max_features=None, tfidf__ngram_range=(1, 1), tfidf__norm=l2; total time=   1.8s\n",
      "[CV] END log__Cs=100000.0, log__penalty=l1, tfidf__max_features=None, tfidf__ngram_range=(1, 1), tfidf__norm=l2; total time=   2.8s\n",
      "[CV] END log__Cs=100000.0, log__penalty=l1, tfidf__max_features=None, tfidf__ngram_range=(1, 2), tfidf__norm=l1; total time=   5.2s\n",
      "[CV] END log__Cs=100000.0, log__penalty=l1, tfidf__max_features=None, tfidf__ngram_range=(1, 2), tfidf__norm=l1; total time=   5.9s\n",
      "[CV] END log__Cs=100000.0, log__penalty=l1, tfidf__max_features=None, tfidf__ngram_range=(1, 2), tfidf__norm=l1; total time=   4.6s\n",
      "[CV] END log__Cs=100000.0, log__penalty=l1, tfidf__max_features=None, tfidf__ngram_range=(1, 2), tfidf__norm=l1; total time=   7.1s\n",
      "[CV] END log__Cs=100000.0, log__penalty=l1, tfidf__max_features=None, tfidf__ngram_range=(1, 2), tfidf__norm=l1; total time=   4.3s\n",
      "[CV] END log__Cs=10, log__penalty=l1, tfidf__max_features=None, tfidf__ngram_range=(1, 1), tfidf__norm=l2; total time=   1.6s\n",
      "[CV] END log__Cs=10, log__penalty=l1, tfidf__max_features=None, tfidf__ngram_range=(1, 1), tfidf__norm=l2; total time=   2.6s\n",
      "[CV] END log__Cs=10, log__penalty=l1, tfidf__max_features=None, tfidf__ngram_range=(1, 1), tfidf__norm=l2; total time=   2.1s\n",
      "[CV] END log__Cs=10, log__penalty=l1, tfidf__max_features=None, tfidf__ngram_range=(1, 1), tfidf__norm=l2; total time=   2.0s\n",
      "[CV] END log__Cs=10, log__penalty=l1, tfidf__max_features=None, tfidf__ngram_range=(1, 1), tfidf__norm=l2; total time=   2.1s\n",
      "[CV] END log__Cs=10, log__penalty=l1, tfidf__max_features=1000, tfidf__ngram_range=(1, 1), tfidf__norm=l2; total time=   2.3s\n",
      "[CV] END log__Cs=10, log__penalty=l1, tfidf__max_features=1000, tfidf__ngram_range=(1, 1), tfidf__norm=l2; total time=   2.0s\n",
      "[CV] END log__Cs=10, log__penalty=l1, tfidf__max_features=1000, tfidf__ngram_range=(1, 1), tfidf__norm=l2; total time=   2.1s\n",
      "[CV] END log__Cs=10, log__penalty=l1, tfidf__max_features=1000, tfidf__ngram_range=(1, 1), tfidf__norm=l2; total time=   2.8s\n",
      "[CV] END log__Cs=10, log__penalty=l1, tfidf__max_features=1000, tfidf__ngram_range=(1, 1), tfidf__norm=l2; total time=   3.0s\n",
      "[CV] END log__Cs=100000.0, log__penalty=l1, tfidf__max_features=1500, tfidf__ngram_range=(1, 2), tfidf__norm=l2; total time=   9.6s\n",
      "[CV] END log__Cs=100000.0, log__penalty=l1, tfidf__max_features=1500, tfidf__ngram_range=(1, 2), tfidf__norm=l2; total time=   7.4s\n",
      "[CV] END log__Cs=100000.0, log__penalty=l1, tfidf__max_features=1500, tfidf__ngram_range=(1, 2), tfidf__norm=l2; total time=  12.6s\n",
      "[CV] END log__Cs=100000.0, log__penalty=l1, tfidf__max_features=1500, tfidf__ngram_range=(1, 2), tfidf__norm=l2; total time=   8.4s\n",
      "[CV] END log__Cs=100000.0, log__penalty=l1, tfidf__max_features=1500, tfidf__ngram_range=(1, 2), tfidf__norm=l2; total time=   8.7s\n"
     ]
    },
    {
     "name": "stderr",
     "output_type": "stream",
     "text": [
      "c:\\Users\\Judy\\anaconda3\\envs\\nlp_env\\lib\\site-packages\\sklearn\\model_selection\\_validation.py:378: FitFailedWarning: \n",
      "40 fits failed out of a total of 50.\n",
      "The score on these train-test partitions for these parameters will be set to nan.\n",
      "If these failures are not expected, you can try to debug them by setting error_score='raise'.\n",
      "\n",
      "Below are more details about the failures:\n",
      "--------------------------------------------------------------------------------\n",
      "10 fits failed with the following error:\n",
      "Traceback (most recent call last):\n",
      "  File \"c:\\Users\\Judy\\anaconda3\\envs\\nlp_env\\lib\\site-packages\\sklearn\\model_selection\\_validation.py\", line 686, in _fit_and_score\n",
      "    estimator.fit(X_train, y_train, **fit_params)\n",
      "  File \"c:\\Users\\Judy\\anaconda3\\envs\\nlp_env\\lib\\site-packages\\sklearn\\pipeline.py\", line 382, in fit\n",
      "    self._final_estimator.fit(Xt, y, **fit_params_last_step)\n",
      "  File \"c:\\Users\\Judy\\anaconda3\\envs\\nlp_env\\lib\\site-packages\\sklearn\\linear_model\\_logistic.py\", line 1795, in fit\n",
      "    fold_coefs_ = Parallel(n_jobs=self.n_jobs, verbose=self.verbose, prefer=prefer)(\n",
      "  File \"c:\\Users\\Judy\\anaconda3\\envs\\nlp_env\\lib\\site-packages\\joblib\\parallel.py\", line 1043, in __call__\n",
      "    if self.dispatch_one_batch(iterator):\n",
      "  File \"c:\\Users\\Judy\\anaconda3\\envs\\nlp_env\\lib\\site-packages\\joblib\\parallel.py\", line 861, in dispatch_one_batch\n",
      "    self._dispatch(tasks)\n",
      "  File \"c:\\Users\\Judy\\anaconda3\\envs\\nlp_env\\lib\\site-packages\\joblib\\parallel.py\", line 779, in _dispatch\n",
      "    job = self._backend.apply_async(batch, callback=cb)\n",
      "  File \"c:\\Users\\Judy\\anaconda3\\envs\\nlp_env\\lib\\site-packages\\joblib\\_parallel_backends.py\", line 208, in apply_async\n",
      "    result = ImmediateResult(func)\n",
      "  File \"c:\\Users\\Judy\\anaconda3\\envs\\nlp_env\\lib\\site-packages\\joblib\\_parallel_backends.py\", line 572, in __init__\n",
      "    self.results = batch()\n",
      "  File \"c:\\Users\\Judy\\anaconda3\\envs\\nlp_env\\lib\\site-packages\\joblib\\parallel.py\", line 262, in __call__\n",
      "    return [func(*args, **kwargs)\n",
      "  File \"c:\\Users\\Judy\\anaconda3\\envs\\nlp_env\\lib\\site-packages\\joblib\\parallel.py\", line 262, in <listcomp>\n",
      "    return [func(*args, **kwargs)\n",
      "  File \"c:\\Users\\Judy\\anaconda3\\envs\\nlp_env\\lib\\site-packages\\sklearn\\utils\\fixes.py\", line 117, in __call__\n",
      "    return self.function(*args, **kwargs)\n",
      "  File \"c:\\Users\\Judy\\anaconda3\\envs\\nlp_env\\lib\\site-packages\\sklearn\\linear_model\\_logistic.py\", line 694, in _log_reg_scoring_path\n",
      "    coefs, Cs, n_iter = _logistic_regression_path(\n",
      "  File \"c:\\Users\\Judy\\anaconda3\\envs\\nlp_env\\lib\\site-packages\\sklearn\\linear_model\\_logistic.py\", line 429, in _logistic_regression_path\n",
      "    n_iter = np.zeros(len(Cs), dtype=np.int32)\n",
      "TypeError: object of type 'float' has no len()\n",
      "\n",
      "--------------------------------------------------------------------------------\n",
      "30 fits failed with the following error:\n",
      "Traceback (most recent call last):\n",
      "  File \"c:\\Users\\Judy\\anaconda3\\envs\\nlp_env\\lib\\site-packages\\sklearn\\model_selection\\_validation.py\", line 686, in _fit_and_score\n",
      "    estimator.fit(X_train, y_train, **fit_params)\n",
      "  File \"c:\\Users\\Judy\\anaconda3\\envs\\nlp_env\\lib\\site-packages\\sklearn\\pipeline.py\", line 382, in fit\n",
      "    self._final_estimator.fit(Xt, y, **fit_params_last_step)\n",
      "  File \"c:\\Users\\Judy\\anaconda3\\envs\\nlp_env\\lib\\site-packages\\sklearn\\linear_model\\_logistic.py\", line 1672, in fit\n",
      "    solver = _check_solver(self.solver, self.penalty, self.dual)\n",
      "  File \"c:\\Users\\Judy\\anaconda3\\envs\\nlp_env\\lib\\site-packages\\sklearn\\linear_model\\_logistic.py\", line 61, in _check_solver\n",
      "    raise ValueError(\n",
      "ValueError: Solver lbfgs supports only 'l2' or 'none' penalties, got l1 penalty.\n",
      "\n",
      "  warnings.warn(some_fits_failed_message, FitFailedWarning)\n",
      "c:\\Users\\Judy\\anaconda3\\envs\\nlp_env\\lib\\site-packages\\sklearn\\model_selection\\_search.py:953: UserWarning: One or more of the test scores are non-finite: [       nan        nan 0.8647954         nan 0.86355885        nan\n",
      "        nan        nan        nan        nan]\n",
      "  warnings.warn(\n"
     ]
    },
    {
     "data": {
      "text/html": [
       "<style>#sk-container-id-1 {color: black;background-color: white;}#sk-container-id-1 pre{padding: 0;}#sk-container-id-1 div.sk-toggleable {background-color: white;}#sk-container-id-1 label.sk-toggleable__label {cursor: pointer;display: block;width: 100%;margin-bottom: 0;padding: 0.3em;box-sizing: border-box;text-align: center;}#sk-container-id-1 label.sk-toggleable__label-arrow:before {content: \"▸\";float: left;margin-right: 0.25em;color: #696969;}#sk-container-id-1 label.sk-toggleable__label-arrow:hover:before {color: black;}#sk-container-id-1 div.sk-estimator:hover label.sk-toggleable__label-arrow:before {color: black;}#sk-container-id-1 div.sk-toggleable__content {max-height: 0;max-width: 0;overflow: hidden;text-align: left;background-color: #f0f8ff;}#sk-container-id-1 div.sk-toggleable__content pre {margin: 0.2em;color: black;border-radius: 0.25em;background-color: #f0f8ff;}#sk-container-id-1 input.sk-toggleable__control:checked~div.sk-toggleable__content {max-height: 200px;max-width: 100%;overflow: auto;}#sk-container-id-1 input.sk-toggleable__control:checked~label.sk-toggleable__label-arrow:before {content: \"▾\";}#sk-container-id-1 div.sk-estimator input.sk-toggleable__control:checked~label.sk-toggleable__label {background-color: #d4ebff;}#sk-container-id-1 div.sk-label input.sk-toggleable__control:checked~label.sk-toggleable__label {background-color: #d4ebff;}#sk-container-id-1 input.sk-hidden--visually {border: 0;clip: rect(1px 1px 1px 1px);clip: rect(1px, 1px, 1px, 1px);height: 1px;margin: -1px;overflow: hidden;padding: 0;position: absolute;width: 1px;}#sk-container-id-1 div.sk-estimator {font-family: monospace;background-color: #f0f8ff;border: 1px dotted black;border-radius: 0.25em;box-sizing: border-box;margin-bottom: 0.5em;}#sk-container-id-1 div.sk-estimator:hover {background-color: #d4ebff;}#sk-container-id-1 div.sk-parallel-item::after {content: \"\";width: 100%;border-bottom: 1px solid gray;flex-grow: 1;}#sk-container-id-1 div.sk-label:hover label.sk-toggleable__label {background-color: #d4ebff;}#sk-container-id-1 div.sk-serial::before {content: \"\";position: absolute;border-left: 1px solid gray;box-sizing: border-box;top: 0;bottom: 0;left: 50%;z-index: 0;}#sk-container-id-1 div.sk-serial {display: flex;flex-direction: column;align-items: center;background-color: white;padding-right: 0.2em;padding-left: 0.2em;position: relative;}#sk-container-id-1 div.sk-item {position: relative;z-index: 1;}#sk-container-id-1 div.sk-parallel {display: flex;align-items: stretch;justify-content: center;background-color: white;position: relative;}#sk-container-id-1 div.sk-item::before, #sk-container-id-1 div.sk-parallel-item::before {content: \"\";position: absolute;border-left: 1px solid gray;box-sizing: border-box;top: 0;bottom: 0;left: 50%;z-index: -1;}#sk-container-id-1 div.sk-parallel-item {display: flex;flex-direction: column;z-index: 1;position: relative;background-color: white;}#sk-container-id-1 div.sk-parallel-item:first-child::after {align-self: flex-end;width: 50%;}#sk-container-id-1 div.sk-parallel-item:last-child::after {align-self: flex-start;width: 50%;}#sk-container-id-1 div.sk-parallel-item:only-child::after {width: 0;}#sk-container-id-1 div.sk-dashed-wrapped {border: 1px dashed gray;margin: 0 0.4em 0.5em 0.4em;box-sizing: border-box;padding-bottom: 0.4em;background-color: white;}#sk-container-id-1 div.sk-label label {font-family: monospace;font-weight: bold;display: inline-block;line-height: 1.2em;}#sk-container-id-1 div.sk-label-container {text-align: center;}#sk-container-id-1 div.sk-container {/* jupyter's `normalize.less` sets `[hidden] { display: none; }` but bootstrap.min.css set `[hidden] { display: none !important; }` so we also need the `!important` here to be able to override the default hidden behavior on the sphinx rendered scikit-learn.org. See: https://github.com/scikit-learn/scikit-learn/issues/21755 */display: inline-block !important;position: relative;}#sk-container-id-1 div.sk-text-repr-fallback {display: none;}</style><div id=\"sk-container-id-1\" class=\"sk-top-container\"><div class=\"sk-text-repr-fallback\"><pre>RandomizedSearchCV(cv=KFold(n_splits=5, random_state=None, shuffle=False),\n",
       "                   estimator=Pipeline(steps=[(&#x27;tfidf&#x27;, TfidfVectorizer()),\n",
       "                                             (&#x27;log&#x27;,\n",
       "                                              LogisticRegressionCV(max_iter=750))]),\n",
       "                   param_distributions={&#x27;log__Cs&#x27;: [100000.0, 10],\n",
       "                                        &#x27;log__penalty&#x27;: [&#x27;l1&#x27;, &#x27;l2&#x27;,\n",
       "                                                         &#x27;elasticnet&#x27;],\n",
       "                                        &#x27;tfidf__max_features&#x27;: [None, 1000,\n",
       "                                                                1500],\n",
       "                                        &#x27;tfidf__ngram_range&#x27;: [(1, 1), (1, 2)],\n",
       "                                        &#x27;tfidf__norm&#x27;: [&#x27;l1&#x27;, &#x27;l2&#x27;]},\n",
       "                   verbose=2)</pre><b>In a Jupyter environment, please rerun this cell to show the HTML representation or trust the notebook. <br />On GitHub, the HTML representation is unable to render, please try loading this page with nbviewer.org.</b></div><div class=\"sk-container\" hidden><div class=\"sk-item sk-dashed-wrapped\"><div class=\"sk-label-container\"><div class=\"sk-label sk-toggleable\"><input class=\"sk-toggleable__control sk-hidden--visually\" id=\"sk-estimator-id-1\" type=\"checkbox\" ><label for=\"sk-estimator-id-1\" class=\"sk-toggleable__label sk-toggleable__label-arrow\">RandomizedSearchCV</label><div class=\"sk-toggleable__content\"><pre>RandomizedSearchCV(cv=KFold(n_splits=5, random_state=None, shuffle=False),\n",
       "                   estimator=Pipeline(steps=[(&#x27;tfidf&#x27;, TfidfVectorizer()),\n",
       "                                             (&#x27;log&#x27;,\n",
       "                                              LogisticRegressionCV(max_iter=750))]),\n",
       "                   param_distributions={&#x27;log__Cs&#x27;: [100000.0, 10],\n",
       "                                        &#x27;log__penalty&#x27;: [&#x27;l1&#x27;, &#x27;l2&#x27;,\n",
       "                                                         &#x27;elasticnet&#x27;],\n",
       "                                        &#x27;tfidf__max_features&#x27;: [None, 1000,\n",
       "                                                                1500],\n",
       "                                        &#x27;tfidf__ngram_range&#x27;: [(1, 1), (1, 2)],\n",
       "                                        &#x27;tfidf__norm&#x27;: [&#x27;l1&#x27;, &#x27;l2&#x27;]},\n",
       "                   verbose=2)</pre></div></div></div><div class=\"sk-parallel\"><div class=\"sk-parallel-item\"><div class=\"sk-item\"><div class=\"sk-label-container\"><div class=\"sk-label sk-toggleable\"><input class=\"sk-toggleable__control sk-hidden--visually\" id=\"sk-estimator-id-2\" type=\"checkbox\" ><label for=\"sk-estimator-id-2\" class=\"sk-toggleable__label sk-toggleable__label-arrow\">estimator: Pipeline</label><div class=\"sk-toggleable__content\"><pre>Pipeline(steps=[(&#x27;tfidf&#x27;, TfidfVectorizer()),\n",
       "                (&#x27;log&#x27;, LogisticRegressionCV(max_iter=750))])</pre></div></div></div><div class=\"sk-serial\"><div class=\"sk-item\"><div class=\"sk-serial\"><div class=\"sk-item\"><div class=\"sk-estimator sk-toggleable\"><input class=\"sk-toggleable__control sk-hidden--visually\" id=\"sk-estimator-id-3\" type=\"checkbox\" ><label for=\"sk-estimator-id-3\" class=\"sk-toggleable__label sk-toggleable__label-arrow\">TfidfVectorizer</label><div class=\"sk-toggleable__content\"><pre>TfidfVectorizer()</pre></div></div></div><div class=\"sk-item\"><div class=\"sk-estimator sk-toggleable\"><input class=\"sk-toggleable__control sk-hidden--visually\" id=\"sk-estimator-id-4\" type=\"checkbox\" ><label for=\"sk-estimator-id-4\" class=\"sk-toggleable__label sk-toggleable__label-arrow\">LogisticRegressionCV</label><div class=\"sk-toggleable__content\"><pre>LogisticRegressionCV(max_iter=750)</pre></div></div></div></div></div></div></div></div></div></div></div></div>"
      ],
      "text/plain": [
       "RandomizedSearchCV(cv=KFold(n_splits=5, random_state=None, shuffle=False),\n",
       "                   estimator=Pipeline(steps=[('tfidf', TfidfVectorizer()),\n",
       "                                             ('log',\n",
       "                                              LogisticRegressionCV(max_iter=750))]),\n",
       "                   param_distributions={'log__Cs': [100000.0, 10],\n",
       "                                        'log__penalty': ['l1', 'l2',\n",
       "                                                         'elasticnet'],\n",
       "                                        'tfidf__max_features': [None, 1000,\n",
       "                                                                1500],\n",
       "                                        'tfidf__ngram_range': [(1, 1), (1, 2)],\n",
       "                                        'tfidf__norm': ['l1', 'l2']},\n",
       "                   verbose=2)"
      ]
     },
     "execution_count": 69,
     "metadata": {},
     "output_type": "execute_result"
    }
   ],
   "source": [
    "### Perform search\n",
    "log_grid = RandomizedSearchCV(log_pipeline, log_parameters, n_iter = 10, cv = cv, verbose = 2)\n",
    "log_grid.fit(X_train, Y_train)"
   ]
  },
  {
   "cell_type": "code",
   "execution_count": 70,
   "metadata": {},
   "outputs": [
    {
     "data": {
      "text/html": [
       "<style>#sk-container-id-2 {color: black;background-color: white;}#sk-container-id-2 pre{padding: 0;}#sk-container-id-2 div.sk-toggleable {background-color: white;}#sk-container-id-2 label.sk-toggleable__label {cursor: pointer;display: block;width: 100%;margin-bottom: 0;padding: 0.3em;box-sizing: border-box;text-align: center;}#sk-container-id-2 label.sk-toggleable__label-arrow:before {content: \"▸\";float: left;margin-right: 0.25em;color: #696969;}#sk-container-id-2 label.sk-toggleable__label-arrow:hover:before {color: black;}#sk-container-id-2 div.sk-estimator:hover label.sk-toggleable__label-arrow:before {color: black;}#sk-container-id-2 div.sk-toggleable__content {max-height: 0;max-width: 0;overflow: hidden;text-align: left;background-color: #f0f8ff;}#sk-container-id-2 div.sk-toggleable__content pre {margin: 0.2em;color: black;border-radius: 0.25em;background-color: #f0f8ff;}#sk-container-id-2 input.sk-toggleable__control:checked~div.sk-toggleable__content {max-height: 200px;max-width: 100%;overflow: auto;}#sk-container-id-2 input.sk-toggleable__control:checked~label.sk-toggleable__label-arrow:before {content: \"▾\";}#sk-container-id-2 div.sk-estimator input.sk-toggleable__control:checked~label.sk-toggleable__label {background-color: #d4ebff;}#sk-container-id-2 div.sk-label input.sk-toggleable__control:checked~label.sk-toggleable__label {background-color: #d4ebff;}#sk-container-id-2 input.sk-hidden--visually {border: 0;clip: rect(1px 1px 1px 1px);clip: rect(1px, 1px, 1px, 1px);height: 1px;margin: -1px;overflow: hidden;padding: 0;position: absolute;width: 1px;}#sk-container-id-2 div.sk-estimator {font-family: monospace;background-color: #f0f8ff;border: 1px dotted black;border-radius: 0.25em;box-sizing: border-box;margin-bottom: 0.5em;}#sk-container-id-2 div.sk-estimator:hover {background-color: #d4ebff;}#sk-container-id-2 div.sk-parallel-item::after {content: \"\";width: 100%;border-bottom: 1px solid gray;flex-grow: 1;}#sk-container-id-2 div.sk-label:hover label.sk-toggleable__label {background-color: #d4ebff;}#sk-container-id-2 div.sk-serial::before {content: \"\";position: absolute;border-left: 1px solid gray;box-sizing: border-box;top: 0;bottom: 0;left: 50%;z-index: 0;}#sk-container-id-2 div.sk-serial {display: flex;flex-direction: column;align-items: center;background-color: white;padding-right: 0.2em;padding-left: 0.2em;position: relative;}#sk-container-id-2 div.sk-item {position: relative;z-index: 1;}#sk-container-id-2 div.sk-parallel {display: flex;align-items: stretch;justify-content: center;background-color: white;position: relative;}#sk-container-id-2 div.sk-item::before, #sk-container-id-2 div.sk-parallel-item::before {content: \"\";position: absolute;border-left: 1px solid gray;box-sizing: border-box;top: 0;bottom: 0;left: 50%;z-index: -1;}#sk-container-id-2 div.sk-parallel-item {display: flex;flex-direction: column;z-index: 1;position: relative;background-color: white;}#sk-container-id-2 div.sk-parallel-item:first-child::after {align-self: flex-end;width: 50%;}#sk-container-id-2 div.sk-parallel-item:last-child::after {align-self: flex-start;width: 50%;}#sk-container-id-2 div.sk-parallel-item:only-child::after {width: 0;}#sk-container-id-2 div.sk-dashed-wrapped {border: 1px dashed gray;margin: 0 0.4em 0.5em 0.4em;box-sizing: border-box;padding-bottom: 0.4em;background-color: white;}#sk-container-id-2 div.sk-label label {font-family: monospace;font-weight: bold;display: inline-block;line-height: 1.2em;}#sk-container-id-2 div.sk-label-container {text-align: center;}#sk-container-id-2 div.sk-container {/* jupyter's `normalize.less` sets `[hidden] { display: none; }` but bootstrap.min.css set `[hidden] { display: none !important; }` so we also need the `!important` here to be able to override the default hidden behavior on the sphinx rendered scikit-learn.org. See: https://github.com/scikit-learn/scikit-learn/issues/21755 */display: inline-block !important;position: relative;}#sk-container-id-2 div.sk-text-repr-fallback {display: none;}</style><div id=\"sk-container-id-2\" class=\"sk-top-container\"><div class=\"sk-text-repr-fallback\"><pre>Pipeline(steps=[(&#x27;tfidf&#x27;, TfidfVectorizer(max_features=1000)),\n",
       "                (&#x27;log&#x27;, LogisticRegressionCV(max_iter=750))])</pre><b>In a Jupyter environment, please rerun this cell to show the HTML representation or trust the notebook. <br />On GitHub, the HTML representation is unable to render, please try loading this page with nbviewer.org.</b></div><div class=\"sk-container\" hidden><div class=\"sk-item sk-dashed-wrapped\"><div class=\"sk-label-container\"><div class=\"sk-label sk-toggleable\"><input class=\"sk-toggleable__control sk-hidden--visually\" id=\"sk-estimator-id-5\" type=\"checkbox\" ><label for=\"sk-estimator-id-5\" class=\"sk-toggleable__label sk-toggleable__label-arrow\">Pipeline</label><div class=\"sk-toggleable__content\"><pre>Pipeline(steps=[(&#x27;tfidf&#x27;, TfidfVectorizer(max_features=1000)),\n",
       "                (&#x27;log&#x27;, LogisticRegressionCV(max_iter=750))])</pre></div></div></div><div class=\"sk-serial\"><div class=\"sk-item\"><div class=\"sk-estimator sk-toggleable\"><input class=\"sk-toggleable__control sk-hidden--visually\" id=\"sk-estimator-id-6\" type=\"checkbox\" ><label for=\"sk-estimator-id-6\" class=\"sk-toggleable__label sk-toggleable__label-arrow\">TfidfVectorizer</label><div class=\"sk-toggleable__content\"><pre>TfidfVectorizer(max_features=1000)</pre></div></div></div><div class=\"sk-item\"><div class=\"sk-estimator sk-toggleable\"><input class=\"sk-toggleable__control sk-hidden--visually\" id=\"sk-estimator-id-7\" type=\"checkbox\" ><label for=\"sk-estimator-id-7\" class=\"sk-toggleable__label sk-toggleable__label-arrow\">LogisticRegressionCV</label><div class=\"sk-toggleable__content\"><pre>LogisticRegressionCV(max_iter=750)</pre></div></div></div></div></div></div></div>"
      ],
      "text/plain": [
       "Pipeline(steps=[('tfidf', TfidfVectorizer(max_features=1000)),\n",
       "                ('log', LogisticRegressionCV(max_iter=750))])"
      ]
     },
     "execution_count": 70,
     "metadata": {},
     "output_type": "execute_result"
    }
   ],
   "source": [
    "### View best model\n",
    "log_grid.best_estimator_"
   ]
  },
  {
   "cell_type": "code",
   "execution_count": 71,
   "metadata": {},
   "outputs": [
    {
     "data": {
      "text/plain": [
       "{'tfidf__norm': 'l2',\n",
       " 'tfidf__ngram_range': (1, 1),\n",
       " 'tfidf__max_features': 1000,\n",
       " 'log__penalty': 'l2',\n",
       " 'log__Cs': 10}"
      ]
     },
     "execution_count": 71,
     "metadata": {},
     "output_type": "execute_result"
    }
   ],
   "source": [
    "### View best model's parameters\n",
    "log_grid.best_params_"
   ]
  },
  {
   "cell_type": "code",
   "execution_count": 72,
   "metadata": {},
   "outputs": [],
   "source": [
    "### Predict\n",
    "yhat = log_grid.predict(X_test)"
   ]
  },
  {
   "cell_type": "code",
   "execution_count": 74,
   "metadata": {},
   "outputs": [
    {
     "name": "stdout",
     "output_type": "stream",
     "text": [
      "              precision    recall  f1-score   support\n",
      "\n",
      "    Negative       0.84      0.87      0.85      7234\n",
      "    Positive       0.89      0.86      0.88      8825\n",
      "\n",
      "    accuracy                           0.87     16059\n",
      "   macro avg       0.86      0.87      0.87     16059\n",
      "weighted avg       0.87      0.87      0.87     16059\n",
      "\n"
     ]
    }
   ],
   "source": [
    "### Evaluate model\n",
    "print(classification_report(Y_test, yhat))"
   ]
  },
  {
   "cell_type": "code",
   "execution_count": 76,
   "metadata": {},
   "outputs": [
    {
     "data": {
      "text/plain": [
       "['./Models/log.joblib']"
      ]
     },
     "execution_count": 76,
     "metadata": {},
     "output_type": "execute_result"
    }
   ],
   "source": [
    "### Save model\n",
    "dump(log_grid.best_estimator_, \"./Models/log-binary.joblib\")"
   ]
  },
  {
   "attachments": {},
   "cell_type": "markdown",
   "metadata": {},
   "source": [
    "### NAIVE BAYES"
   ]
  },
  {
   "cell_type": "code",
   "execution_count": 77,
   "metadata": {},
   "outputs": [],
   "source": [
    "### Create pipeline\n",
    "mnb_pipeline = Pipeline([(\"tfidf\", TfidfVectorizer()), (\"mnb\", MultinomialNB())])"
   ]
  },
  {
   "cell_type": "code",
   "execution_count": 78,
   "metadata": {},
   "outputs": [],
   "source": [
    "### Create search space\n",
    "mnb_parameters = {\"tfidf__max_features\": [None, 1000, 1500],\n",
    "                    \"tfidf__ngram_range\": [(1, 1), (1, 2)],\n",
    "                    \"tfidf__norm\": [\"l1\", \"l2\"]}"
   ]
  },
  {
   "cell_type": "code",
   "execution_count": 79,
   "metadata": {},
   "outputs": [
    {
     "name": "stdout",
     "output_type": "stream",
     "text": [
      "Fitting 5 folds for each of 10 candidates, totalling 50 fits\n",
      "[CV] END tfidf__max_features=1000, tfidf__ngram_range=(1, 2), tfidf__norm=l1; total time=   6.0s\n",
      "[CV] END tfidf__max_features=1000, tfidf__ngram_range=(1, 2), tfidf__norm=l1; total time=   9.6s\n",
      "[CV] END tfidf__max_features=1000, tfidf__ngram_range=(1, 2), tfidf__norm=l1; total time=   8.0s\n",
      "[CV] END tfidf__max_features=1000, tfidf__ngram_range=(1, 2), tfidf__norm=l1; total time=   7.2s\n",
      "[CV] END tfidf__max_features=1000, tfidf__ngram_range=(1, 2), tfidf__norm=l1; total time=  12.8s\n",
      "[CV] END tfidf__max_features=1000, tfidf__ngram_range=(1, 1), tfidf__norm=l1; total time=  11.2s\n",
      "[CV] END tfidf__max_features=1000, tfidf__ngram_range=(1, 1), tfidf__norm=l1; total time=   3.4s\n",
      "[CV] END tfidf__max_features=1000, tfidf__ngram_range=(1, 1), tfidf__norm=l1; total time=   3.4s\n",
      "[CV] END tfidf__max_features=1000, tfidf__ngram_range=(1, 1), tfidf__norm=l1; total time=   3.3s\n",
      "[CV] END tfidf__max_features=1000, tfidf__ngram_range=(1, 1), tfidf__norm=l1; total time=   3.3s\n",
      "[CV] END tfidf__max_features=None, tfidf__ngram_range=(1, 2), tfidf__norm=l1; total time=  12.3s\n",
      "[CV] END tfidf__max_features=None, tfidf__ngram_range=(1, 2), tfidf__norm=l1; total time=  12.2s\n",
      "[CV] END tfidf__max_features=None, tfidf__ngram_range=(1, 2), tfidf__norm=l1; total time=  12.9s\n",
      "[CV] END tfidf__max_features=None, tfidf__ngram_range=(1, 2), tfidf__norm=l1; total time=   9.2s\n",
      "[CV] END tfidf__max_features=None, tfidf__ngram_range=(1, 2), tfidf__norm=l1; total time=   7.8s\n",
      "[CV] END tfidf__max_features=1500, tfidf__ngram_range=(1, 2), tfidf__norm=l1; total time=   6.0s\n",
      "[CV] END tfidf__max_features=1500, tfidf__ngram_range=(1, 2), tfidf__norm=l1; total time=  11.0s\n",
      "[CV] END tfidf__max_features=1500, tfidf__ngram_range=(1, 2), tfidf__norm=l1; total time=  11.3s\n",
      "[CV] END tfidf__max_features=1500, tfidf__ngram_range=(1, 2), tfidf__norm=l1; total time=   8.2s\n",
      "[CV] END tfidf__max_features=1500, tfidf__ngram_range=(1, 2), tfidf__norm=l1; total time=  10.6s\n",
      "[CV] END tfidf__max_features=1500, tfidf__ngram_range=(1, 1), tfidf__norm=l1; total time=   4.5s\n",
      "[CV] END tfidf__max_features=1500, tfidf__ngram_range=(1, 1), tfidf__norm=l1; total time=   4.4s\n",
      "[CV] END tfidf__max_features=1500, tfidf__ngram_range=(1, 1), tfidf__norm=l1; total time=   6.0s\n",
      "[CV] END tfidf__max_features=1500, tfidf__ngram_range=(1, 1), tfidf__norm=l1; total time=   2.5s\n",
      "[CV] END tfidf__max_features=1500, tfidf__ngram_range=(1, 1), tfidf__norm=l1; total time=   4.9s\n",
      "[CV] END tfidf__max_features=None, tfidf__ngram_range=(1, 2), tfidf__norm=l2; total time=   7.4s\n",
      "[CV] END tfidf__max_features=None, tfidf__ngram_range=(1, 2), tfidf__norm=l2; total time=   8.2s\n",
      "[CV] END tfidf__max_features=None, tfidf__ngram_range=(1, 2), tfidf__norm=l2; total time=  10.3s\n",
      "[CV] END tfidf__max_features=None, tfidf__ngram_range=(1, 2), tfidf__norm=l2; total time=   7.0s\n",
      "[CV] END tfidf__max_features=None, tfidf__ngram_range=(1, 2), tfidf__norm=l2; total time=   9.7s\n",
      "[CV] END tfidf__max_features=1500, tfidf__ngram_range=(1, 1), tfidf__norm=l2; total time=   2.2s\n",
      "[CV] END tfidf__max_features=1500, tfidf__ngram_range=(1, 1), tfidf__norm=l2; total time=   2.9s\n",
      "[CV] END tfidf__max_features=1500, tfidf__ngram_range=(1, 1), tfidf__norm=l2; total time=   3.2s\n",
      "[CV] END tfidf__max_features=1500, tfidf__ngram_range=(1, 1), tfidf__norm=l2; total time=   3.5s\n",
      "[CV] END tfidf__max_features=1500, tfidf__ngram_range=(1, 1), tfidf__norm=l2; total time=   4.4s\n",
      "[CV] END tfidf__max_features=1500, tfidf__ngram_range=(1, 2), tfidf__norm=l2; total time=   7.7s\n",
      "[CV] END tfidf__max_features=1500, tfidf__ngram_range=(1, 2), tfidf__norm=l2; total time=   7.1s\n",
      "[CV] END tfidf__max_features=1500, tfidf__ngram_range=(1, 2), tfidf__norm=l2; total time=   8.3s\n",
      "[CV] END tfidf__max_features=1500, tfidf__ngram_range=(1, 2), tfidf__norm=l2; total time=   7.4s\n",
      "[CV] END tfidf__max_features=1500, tfidf__ngram_range=(1, 2), tfidf__norm=l2; total time=   8.1s\n",
      "[CV] END tfidf__max_features=None, tfidf__ngram_range=(1, 1), tfidf__norm=l2; total time=   3.8s\n",
      "[CV] END tfidf__max_features=None, tfidf__ngram_range=(1, 1), tfidf__norm=l2; total time=   3.2s\n",
      "[CV] END tfidf__max_features=None, tfidf__ngram_range=(1, 1), tfidf__norm=l2; total time=   3.3s\n",
      "[CV] END tfidf__max_features=None, tfidf__ngram_range=(1, 1), tfidf__norm=l2; total time=   3.1s\n",
      "[CV] END tfidf__max_features=None, tfidf__ngram_range=(1, 1), tfidf__norm=l2; total time=   3.1s\n",
      "[CV] END tfidf__max_features=1000, tfidf__ngram_range=(1, 1), tfidf__norm=l2; total time=   2.9s\n",
      "[CV] END tfidf__max_features=1000, tfidf__ngram_range=(1, 1), tfidf__norm=l2; total time=   3.0s\n",
      "[CV] END tfidf__max_features=1000, tfidf__ngram_range=(1, 1), tfidf__norm=l2; total time=   2.9s\n",
      "[CV] END tfidf__max_features=1000, tfidf__ngram_range=(1, 1), tfidf__norm=l2; total time=   3.6s\n",
      "[CV] END tfidf__max_features=1000, tfidf__ngram_range=(1, 1), tfidf__norm=l2; total time=   3.2s\n"
     ]
    },
    {
     "data": {
      "text/html": [
       "<style>#sk-container-id-3 {color: black;background-color: white;}#sk-container-id-3 pre{padding: 0;}#sk-container-id-3 div.sk-toggleable {background-color: white;}#sk-container-id-3 label.sk-toggleable__label {cursor: pointer;display: block;width: 100%;margin-bottom: 0;padding: 0.3em;box-sizing: border-box;text-align: center;}#sk-container-id-3 label.sk-toggleable__label-arrow:before {content: \"▸\";float: left;margin-right: 0.25em;color: #696969;}#sk-container-id-3 label.sk-toggleable__label-arrow:hover:before {color: black;}#sk-container-id-3 div.sk-estimator:hover label.sk-toggleable__label-arrow:before {color: black;}#sk-container-id-3 div.sk-toggleable__content {max-height: 0;max-width: 0;overflow: hidden;text-align: left;background-color: #f0f8ff;}#sk-container-id-3 div.sk-toggleable__content pre {margin: 0.2em;color: black;border-radius: 0.25em;background-color: #f0f8ff;}#sk-container-id-3 input.sk-toggleable__control:checked~div.sk-toggleable__content {max-height: 200px;max-width: 100%;overflow: auto;}#sk-container-id-3 input.sk-toggleable__control:checked~label.sk-toggleable__label-arrow:before {content: \"▾\";}#sk-container-id-3 div.sk-estimator input.sk-toggleable__control:checked~label.sk-toggleable__label {background-color: #d4ebff;}#sk-container-id-3 div.sk-label input.sk-toggleable__control:checked~label.sk-toggleable__label {background-color: #d4ebff;}#sk-container-id-3 input.sk-hidden--visually {border: 0;clip: rect(1px 1px 1px 1px);clip: rect(1px, 1px, 1px, 1px);height: 1px;margin: -1px;overflow: hidden;padding: 0;position: absolute;width: 1px;}#sk-container-id-3 div.sk-estimator {font-family: monospace;background-color: #f0f8ff;border: 1px dotted black;border-radius: 0.25em;box-sizing: border-box;margin-bottom: 0.5em;}#sk-container-id-3 div.sk-estimator:hover {background-color: #d4ebff;}#sk-container-id-3 div.sk-parallel-item::after {content: \"\";width: 100%;border-bottom: 1px solid gray;flex-grow: 1;}#sk-container-id-3 div.sk-label:hover label.sk-toggleable__label {background-color: #d4ebff;}#sk-container-id-3 div.sk-serial::before {content: \"\";position: absolute;border-left: 1px solid gray;box-sizing: border-box;top: 0;bottom: 0;left: 50%;z-index: 0;}#sk-container-id-3 div.sk-serial {display: flex;flex-direction: column;align-items: center;background-color: white;padding-right: 0.2em;padding-left: 0.2em;position: relative;}#sk-container-id-3 div.sk-item {position: relative;z-index: 1;}#sk-container-id-3 div.sk-parallel {display: flex;align-items: stretch;justify-content: center;background-color: white;position: relative;}#sk-container-id-3 div.sk-item::before, #sk-container-id-3 div.sk-parallel-item::before {content: \"\";position: absolute;border-left: 1px solid gray;box-sizing: border-box;top: 0;bottom: 0;left: 50%;z-index: -1;}#sk-container-id-3 div.sk-parallel-item {display: flex;flex-direction: column;z-index: 1;position: relative;background-color: white;}#sk-container-id-3 div.sk-parallel-item:first-child::after {align-self: flex-end;width: 50%;}#sk-container-id-3 div.sk-parallel-item:last-child::after {align-self: flex-start;width: 50%;}#sk-container-id-3 div.sk-parallel-item:only-child::after {width: 0;}#sk-container-id-3 div.sk-dashed-wrapped {border: 1px dashed gray;margin: 0 0.4em 0.5em 0.4em;box-sizing: border-box;padding-bottom: 0.4em;background-color: white;}#sk-container-id-3 div.sk-label label {font-family: monospace;font-weight: bold;display: inline-block;line-height: 1.2em;}#sk-container-id-3 div.sk-label-container {text-align: center;}#sk-container-id-3 div.sk-container {/* jupyter's `normalize.less` sets `[hidden] { display: none; }` but bootstrap.min.css set `[hidden] { display: none !important; }` so we also need the `!important` here to be able to override the default hidden behavior on the sphinx rendered scikit-learn.org. See: https://github.com/scikit-learn/scikit-learn/issues/21755 */display: inline-block !important;position: relative;}#sk-container-id-3 div.sk-text-repr-fallback {display: none;}</style><div id=\"sk-container-id-3\" class=\"sk-top-container\"><div class=\"sk-text-repr-fallback\"><pre>RandomizedSearchCV(cv=KFold(n_splits=5, random_state=None, shuffle=False),\n",
       "                   estimator=Pipeline(steps=[(&#x27;tfidf&#x27;, TfidfVectorizer()),\n",
       "                                             (&#x27;mnb&#x27;, MultinomialNB())]),\n",
       "                   param_distributions={&#x27;tfidf__max_features&#x27;: [None, 1000,\n",
       "                                                                1500],\n",
       "                                        &#x27;tfidf__ngram_range&#x27;: [(1, 1), (1, 2)],\n",
       "                                        &#x27;tfidf__norm&#x27;: [&#x27;l1&#x27;, &#x27;l2&#x27;]},\n",
       "                   verbose=2)</pre><b>In a Jupyter environment, please rerun this cell to show the HTML representation or trust the notebook. <br />On GitHub, the HTML representation is unable to render, please try loading this page with nbviewer.org.</b></div><div class=\"sk-container\" hidden><div class=\"sk-item sk-dashed-wrapped\"><div class=\"sk-label-container\"><div class=\"sk-label sk-toggleable\"><input class=\"sk-toggleable__control sk-hidden--visually\" id=\"sk-estimator-id-8\" type=\"checkbox\" ><label for=\"sk-estimator-id-8\" class=\"sk-toggleable__label sk-toggleable__label-arrow\">RandomizedSearchCV</label><div class=\"sk-toggleable__content\"><pre>RandomizedSearchCV(cv=KFold(n_splits=5, random_state=None, shuffle=False),\n",
       "                   estimator=Pipeline(steps=[(&#x27;tfidf&#x27;, TfidfVectorizer()),\n",
       "                                             (&#x27;mnb&#x27;, MultinomialNB())]),\n",
       "                   param_distributions={&#x27;tfidf__max_features&#x27;: [None, 1000,\n",
       "                                                                1500],\n",
       "                                        &#x27;tfidf__ngram_range&#x27;: [(1, 1), (1, 2)],\n",
       "                                        &#x27;tfidf__norm&#x27;: [&#x27;l1&#x27;, &#x27;l2&#x27;]},\n",
       "                   verbose=2)</pre></div></div></div><div class=\"sk-parallel\"><div class=\"sk-parallel-item\"><div class=\"sk-item\"><div class=\"sk-label-container\"><div class=\"sk-label sk-toggleable\"><input class=\"sk-toggleable__control sk-hidden--visually\" id=\"sk-estimator-id-9\" type=\"checkbox\" ><label for=\"sk-estimator-id-9\" class=\"sk-toggleable__label sk-toggleable__label-arrow\">estimator: Pipeline</label><div class=\"sk-toggleable__content\"><pre>Pipeline(steps=[(&#x27;tfidf&#x27;, TfidfVectorizer()), (&#x27;mnb&#x27;, MultinomialNB())])</pre></div></div></div><div class=\"sk-serial\"><div class=\"sk-item\"><div class=\"sk-serial\"><div class=\"sk-item\"><div class=\"sk-estimator sk-toggleable\"><input class=\"sk-toggleable__control sk-hidden--visually\" id=\"sk-estimator-id-10\" type=\"checkbox\" ><label for=\"sk-estimator-id-10\" class=\"sk-toggleable__label sk-toggleable__label-arrow\">TfidfVectorizer</label><div class=\"sk-toggleable__content\"><pre>TfidfVectorizer()</pre></div></div></div><div class=\"sk-item\"><div class=\"sk-estimator sk-toggleable\"><input class=\"sk-toggleable__control sk-hidden--visually\" id=\"sk-estimator-id-11\" type=\"checkbox\" ><label for=\"sk-estimator-id-11\" class=\"sk-toggleable__label sk-toggleable__label-arrow\">MultinomialNB</label><div class=\"sk-toggleable__content\"><pre>MultinomialNB()</pre></div></div></div></div></div></div></div></div></div></div></div></div>"
      ],
      "text/plain": [
       "RandomizedSearchCV(cv=KFold(n_splits=5, random_state=None, shuffle=False),\n",
       "                   estimator=Pipeline(steps=[('tfidf', TfidfVectorizer()),\n",
       "                                             ('mnb', MultinomialNB())]),\n",
       "                   param_distributions={'tfidf__max_features': [None, 1000,\n",
       "                                                                1500],\n",
       "                                        'tfidf__ngram_range': [(1, 1), (1, 2)],\n",
       "                                        'tfidf__norm': ['l1', 'l2']},\n",
       "                   verbose=2)"
      ]
     },
     "execution_count": 79,
     "metadata": {},
     "output_type": "execute_result"
    }
   ],
   "source": [
    "### Perform search\n",
    "mnb_grid = RandomizedSearchCV(mnb_pipeline, mnb_parameters, n_iter = 10, cv = cv, verbose = 2)\n",
    "mnb_grid.fit(X_train, Y_train)"
   ]
  },
  {
   "cell_type": "code",
   "execution_count": 80,
   "metadata": {},
   "outputs": [
    {
     "data": {
      "text/html": [
       "<style>#sk-container-id-4 {color: black;background-color: white;}#sk-container-id-4 pre{padding: 0;}#sk-container-id-4 div.sk-toggleable {background-color: white;}#sk-container-id-4 label.sk-toggleable__label {cursor: pointer;display: block;width: 100%;margin-bottom: 0;padding: 0.3em;box-sizing: border-box;text-align: center;}#sk-container-id-4 label.sk-toggleable__label-arrow:before {content: \"▸\";float: left;margin-right: 0.25em;color: #696969;}#sk-container-id-4 label.sk-toggleable__label-arrow:hover:before {color: black;}#sk-container-id-4 div.sk-estimator:hover label.sk-toggleable__label-arrow:before {color: black;}#sk-container-id-4 div.sk-toggleable__content {max-height: 0;max-width: 0;overflow: hidden;text-align: left;background-color: #f0f8ff;}#sk-container-id-4 div.sk-toggleable__content pre {margin: 0.2em;color: black;border-radius: 0.25em;background-color: #f0f8ff;}#sk-container-id-4 input.sk-toggleable__control:checked~div.sk-toggleable__content {max-height: 200px;max-width: 100%;overflow: auto;}#sk-container-id-4 input.sk-toggleable__control:checked~label.sk-toggleable__label-arrow:before {content: \"▾\";}#sk-container-id-4 div.sk-estimator input.sk-toggleable__control:checked~label.sk-toggleable__label {background-color: #d4ebff;}#sk-container-id-4 div.sk-label input.sk-toggleable__control:checked~label.sk-toggleable__label {background-color: #d4ebff;}#sk-container-id-4 input.sk-hidden--visually {border: 0;clip: rect(1px 1px 1px 1px);clip: rect(1px, 1px, 1px, 1px);height: 1px;margin: -1px;overflow: hidden;padding: 0;position: absolute;width: 1px;}#sk-container-id-4 div.sk-estimator {font-family: monospace;background-color: #f0f8ff;border: 1px dotted black;border-radius: 0.25em;box-sizing: border-box;margin-bottom: 0.5em;}#sk-container-id-4 div.sk-estimator:hover {background-color: #d4ebff;}#sk-container-id-4 div.sk-parallel-item::after {content: \"\";width: 100%;border-bottom: 1px solid gray;flex-grow: 1;}#sk-container-id-4 div.sk-label:hover label.sk-toggleable__label {background-color: #d4ebff;}#sk-container-id-4 div.sk-serial::before {content: \"\";position: absolute;border-left: 1px solid gray;box-sizing: border-box;top: 0;bottom: 0;left: 50%;z-index: 0;}#sk-container-id-4 div.sk-serial {display: flex;flex-direction: column;align-items: center;background-color: white;padding-right: 0.2em;padding-left: 0.2em;position: relative;}#sk-container-id-4 div.sk-item {position: relative;z-index: 1;}#sk-container-id-4 div.sk-parallel {display: flex;align-items: stretch;justify-content: center;background-color: white;position: relative;}#sk-container-id-4 div.sk-item::before, #sk-container-id-4 div.sk-parallel-item::before {content: \"\";position: absolute;border-left: 1px solid gray;box-sizing: border-box;top: 0;bottom: 0;left: 50%;z-index: -1;}#sk-container-id-4 div.sk-parallel-item {display: flex;flex-direction: column;z-index: 1;position: relative;background-color: white;}#sk-container-id-4 div.sk-parallel-item:first-child::after {align-self: flex-end;width: 50%;}#sk-container-id-4 div.sk-parallel-item:last-child::after {align-self: flex-start;width: 50%;}#sk-container-id-4 div.sk-parallel-item:only-child::after {width: 0;}#sk-container-id-4 div.sk-dashed-wrapped {border: 1px dashed gray;margin: 0 0.4em 0.5em 0.4em;box-sizing: border-box;padding-bottom: 0.4em;background-color: white;}#sk-container-id-4 div.sk-label label {font-family: monospace;font-weight: bold;display: inline-block;line-height: 1.2em;}#sk-container-id-4 div.sk-label-container {text-align: center;}#sk-container-id-4 div.sk-container {/* jupyter's `normalize.less` sets `[hidden] { display: none; }` but bootstrap.min.css set `[hidden] { display: none !important; }` so we also need the `!important` here to be able to override the default hidden behavior on the sphinx rendered scikit-learn.org. See: https://github.com/scikit-learn/scikit-learn/issues/21755 */display: inline-block !important;position: relative;}#sk-container-id-4 div.sk-text-repr-fallback {display: none;}</style><div id=\"sk-container-id-4\" class=\"sk-top-container\"><div class=\"sk-text-repr-fallback\"><pre>Pipeline(steps=[(&#x27;tfidf&#x27;, TfidfVectorizer(ngram_range=(1, 2))),\n",
       "                (&#x27;mnb&#x27;, MultinomialNB())])</pre><b>In a Jupyter environment, please rerun this cell to show the HTML representation or trust the notebook. <br />On GitHub, the HTML representation is unable to render, please try loading this page with nbviewer.org.</b></div><div class=\"sk-container\" hidden><div class=\"sk-item sk-dashed-wrapped\"><div class=\"sk-label-container\"><div class=\"sk-label sk-toggleable\"><input class=\"sk-toggleable__control sk-hidden--visually\" id=\"sk-estimator-id-12\" type=\"checkbox\" ><label for=\"sk-estimator-id-12\" class=\"sk-toggleable__label sk-toggleable__label-arrow\">Pipeline</label><div class=\"sk-toggleable__content\"><pre>Pipeline(steps=[(&#x27;tfidf&#x27;, TfidfVectorizer(ngram_range=(1, 2))),\n",
       "                (&#x27;mnb&#x27;, MultinomialNB())])</pre></div></div></div><div class=\"sk-serial\"><div class=\"sk-item\"><div class=\"sk-estimator sk-toggleable\"><input class=\"sk-toggleable__control sk-hidden--visually\" id=\"sk-estimator-id-13\" type=\"checkbox\" ><label for=\"sk-estimator-id-13\" class=\"sk-toggleable__label sk-toggleable__label-arrow\">TfidfVectorizer</label><div class=\"sk-toggleable__content\"><pre>TfidfVectorizer(ngram_range=(1, 2))</pre></div></div></div><div class=\"sk-item\"><div class=\"sk-estimator sk-toggleable\"><input class=\"sk-toggleable__control sk-hidden--visually\" id=\"sk-estimator-id-14\" type=\"checkbox\" ><label for=\"sk-estimator-id-14\" class=\"sk-toggleable__label sk-toggleable__label-arrow\">MultinomialNB</label><div class=\"sk-toggleable__content\"><pre>MultinomialNB()</pre></div></div></div></div></div></div></div>"
      ],
      "text/plain": [
       "Pipeline(steps=[('tfidf', TfidfVectorizer(ngram_range=(1, 2))),\n",
       "                ('mnb', MultinomialNB())])"
      ]
     },
     "execution_count": 80,
     "metadata": {},
     "output_type": "execute_result"
    }
   ],
   "source": [
    "### View best model\n",
    "mnb_grid.best_estimator_"
   ]
  },
  {
   "cell_type": "code",
   "execution_count": 81,
   "metadata": {},
   "outputs": [
    {
     "data": {
      "text/plain": [
       "{'tfidf__norm': 'l2',\n",
       " 'tfidf__ngram_range': (1, 2),\n",
       " 'tfidf__max_features': None}"
      ]
     },
     "execution_count": 81,
     "metadata": {},
     "output_type": "execute_result"
    }
   ],
   "source": [
    "### View best model's parameters\n",
    "mnb_grid.best_params_"
   ]
  },
  {
   "cell_type": "code",
   "execution_count": 82,
   "metadata": {},
   "outputs": [],
   "source": [
    "### Predict\n",
    "yhat = mnb_grid.predict(X_test)"
   ]
  },
  {
   "cell_type": "code",
   "execution_count": 84,
   "metadata": {},
   "outputs": [
    {
     "name": "stdout",
     "output_type": "stream",
     "text": [
      "              precision    recall  f1-score   support\n",
      "\n",
      "    Negative       0.77      0.94      0.85      7234\n",
      "    Positive       0.94      0.77      0.85      8825\n",
      "\n",
      "    accuracy                           0.85     16059\n",
      "   macro avg       0.86      0.86      0.85     16059\n",
      "weighted avg       0.87      0.85      0.85     16059\n",
      "\n"
     ]
    }
   ],
   "source": [
    "### Evaluate model\n",
    "print(classification_report(Y_test, yhat))"
   ]
  },
  {
   "cell_type": "code",
   "execution_count": 85,
   "metadata": {},
   "outputs": [
    {
     "data": {
      "text/plain": [
       "['./Models/mnb-binary.joblib']"
      ]
     },
     "execution_count": 85,
     "metadata": {},
     "output_type": "execute_result"
    }
   ],
   "source": [
    "### Save model\n",
    "dump(mnb_grid.best_estimator_, \"./Models/mnb-binary.joblib\")"
   ]
  },
  {
   "attachments": {},
   "cell_type": "markdown",
   "metadata": {},
   "source": [
    "### LIGHTGBM"
   ]
  },
  {
   "cell_type": "code",
   "execution_count": 86,
   "metadata": {},
   "outputs": [],
   "source": [
    "### Create pipeline\n",
    "lgbm_pipeline = Pipeline([(\"tfidf\", TfidfVectorizer()), (\"lgbm\", LGBMClassifier(objective = \"binary\", boosting_type = \"goss\", random_state = rng))])"
   ]
  },
  {
   "cell_type": "code",
   "execution_count": 87,
   "metadata": {},
   "outputs": [],
   "source": [
    "### Create search space\n",
    "lgbm_parameters = {\"tfidf__max_features\": [None, 1000, 1500],\n",
    "                    \"tfidf__ngram_range\": [(1, 1), (1, 2)],\n",
    "                    \"tfidf__norm\": [\"l1\", \"l2\"],\n",
    "                    \"lgbm__n_estimators\": [250, 500, 750],\n",
    "                    \"lgbm__max_depth\": [6, 8, 10],\n",
    "                    \"lgbm__reg_alpha\": [0, 0.5, 1],\n",
    "                    \"lgbm__reg_lambda\": [0, 0.5, 1]}"
   ]
  },
  {
   "cell_type": "code",
   "execution_count": 88,
   "metadata": {},
   "outputs": [
    {
     "name": "stdout",
     "output_type": "stream",
     "text": [
      "Fitting 5 folds for each of 10 candidates, totalling 50 fits\n",
      "[CV] END lgbm__max_depth=6, lgbm__n_estimators=750, lgbm__reg_alpha=0.5, lgbm__reg_lambda=0, tfidf__max_features=1500, tfidf__ngram_range=(1, 1), tfidf__norm=l1; total time= 1.4min\n",
      "[CV] END lgbm__max_depth=6, lgbm__n_estimators=750, lgbm__reg_alpha=0.5, lgbm__reg_lambda=0, tfidf__max_features=1500, tfidf__ngram_range=(1, 1), tfidf__norm=l1; total time= 1.3min\n",
      "[CV] END lgbm__max_depth=6, lgbm__n_estimators=750, lgbm__reg_alpha=0.5, lgbm__reg_lambda=0, tfidf__max_features=1500, tfidf__ngram_range=(1, 1), tfidf__norm=l1; total time= 1.3min\n",
      "[CV] END lgbm__max_depth=6, lgbm__n_estimators=750, lgbm__reg_alpha=0.5, lgbm__reg_lambda=0, tfidf__max_features=1500, tfidf__ngram_range=(1, 1), tfidf__norm=l1; total time= 1.3min\n",
      "[CV] END lgbm__max_depth=6, lgbm__n_estimators=750, lgbm__reg_alpha=0.5, lgbm__reg_lambda=0, tfidf__max_features=1500, tfidf__ngram_range=(1, 1), tfidf__norm=l1; total time= 1.3min\n",
      "[CV] END lgbm__max_depth=8, lgbm__n_estimators=250, lgbm__reg_alpha=0, lgbm__reg_lambda=0, tfidf__max_features=None, tfidf__ngram_range=(1, 2), tfidf__norm=l1; total time= 2.0min\n",
      "[CV] END lgbm__max_depth=8, lgbm__n_estimators=250, lgbm__reg_alpha=0, lgbm__reg_lambda=0, tfidf__max_features=None, tfidf__ngram_range=(1, 2), tfidf__norm=l1; total time= 1.9min\n",
      "[CV] END lgbm__max_depth=8, lgbm__n_estimators=250, lgbm__reg_alpha=0, lgbm__reg_lambda=0, tfidf__max_features=None, tfidf__ngram_range=(1, 2), tfidf__norm=l1; total time= 1.6min\n",
      "[CV] END lgbm__max_depth=8, lgbm__n_estimators=250, lgbm__reg_alpha=0, lgbm__reg_lambda=0, tfidf__max_features=None, tfidf__ngram_range=(1, 2), tfidf__norm=l1; total time= 1.1min\n",
      "[CV] END lgbm__max_depth=8, lgbm__n_estimators=250, lgbm__reg_alpha=0, lgbm__reg_lambda=0, tfidf__max_features=None, tfidf__ngram_range=(1, 2), tfidf__norm=l1; total time= 1.1min\n",
      "[CV] END lgbm__max_depth=10, lgbm__n_estimators=750, lgbm__reg_alpha=1, lgbm__reg_lambda=0.5, tfidf__max_features=1500, tfidf__ngram_range=(1, 1), tfidf__norm=l2; total time=  58.7s\n",
      "[CV] END lgbm__max_depth=10, lgbm__n_estimators=750, lgbm__reg_alpha=1, lgbm__reg_lambda=0.5, tfidf__max_features=1500, tfidf__ngram_range=(1, 1), tfidf__norm=l2; total time=  57.0s\n",
      "[CV] END lgbm__max_depth=10, lgbm__n_estimators=750, lgbm__reg_alpha=1, lgbm__reg_lambda=0.5, tfidf__max_features=1500, tfidf__ngram_range=(1, 1), tfidf__norm=l2; total time=  56.3s\n",
      "[CV] END lgbm__max_depth=10, lgbm__n_estimators=750, lgbm__reg_alpha=1, lgbm__reg_lambda=0.5, tfidf__max_features=1500, tfidf__ngram_range=(1, 1), tfidf__norm=l2; total time=  58.1s\n",
      "[CV] END lgbm__max_depth=10, lgbm__n_estimators=750, lgbm__reg_alpha=1, lgbm__reg_lambda=0.5, tfidf__max_features=1500, tfidf__ngram_range=(1, 1), tfidf__norm=l2; total time= 1.6min\n",
      "[CV] END lgbm__max_depth=6, lgbm__n_estimators=500, lgbm__reg_alpha=1, lgbm__reg_lambda=0.5, tfidf__max_features=None, tfidf__ngram_range=(1, 1), tfidf__norm=l1; total time=  42.0s\n",
      "[CV] END lgbm__max_depth=6, lgbm__n_estimators=500, lgbm__reg_alpha=1, lgbm__reg_lambda=0.5, tfidf__max_features=None, tfidf__ngram_range=(1, 1), tfidf__norm=l1; total time=  39.7s\n",
      "[CV] END lgbm__max_depth=6, lgbm__n_estimators=500, lgbm__reg_alpha=1, lgbm__reg_lambda=0.5, tfidf__max_features=None, tfidf__ngram_range=(1, 1), tfidf__norm=l1; total time=  38.4s\n",
      "[CV] END lgbm__max_depth=6, lgbm__n_estimators=500, lgbm__reg_alpha=1, lgbm__reg_lambda=0.5, tfidf__max_features=None, tfidf__ngram_range=(1, 1), tfidf__norm=l1; total time=  39.1s\n",
      "[CV] END lgbm__max_depth=6, lgbm__n_estimators=500, lgbm__reg_alpha=1, lgbm__reg_lambda=0.5, tfidf__max_features=None, tfidf__ngram_range=(1, 1), tfidf__norm=l1; total time=  37.4s\n",
      "[CV] END lgbm__max_depth=10, lgbm__n_estimators=250, lgbm__reg_alpha=0, lgbm__reg_lambda=0, tfidf__max_features=1500, tfidf__ngram_range=(1, 2), tfidf__norm=l1; total time=  24.1s\n",
      "[CV] END lgbm__max_depth=10, lgbm__n_estimators=250, lgbm__reg_alpha=0, lgbm__reg_lambda=0, tfidf__max_features=1500, tfidf__ngram_range=(1, 2), tfidf__norm=l1; total time=  27.6s\n",
      "[CV] END lgbm__max_depth=10, lgbm__n_estimators=250, lgbm__reg_alpha=0, lgbm__reg_lambda=0, tfidf__max_features=1500, tfidf__ngram_range=(1, 2), tfidf__norm=l1; total time=  24.9s\n",
      "[CV] END lgbm__max_depth=10, lgbm__n_estimators=250, lgbm__reg_alpha=0, lgbm__reg_lambda=0, tfidf__max_features=1500, tfidf__ngram_range=(1, 2), tfidf__norm=l1; total time=  25.4s\n",
      "[CV] END lgbm__max_depth=10, lgbm__n_estimators=250, lgbm__reg_alpha=0, lgbm__reg_lambda=0, tfidf__max_features=1500, tfidf__ngram_range=(1, 2), tfidf__norm=l1; total time=  24.9s\n",
      "[CV] END lgbm__max_depth=8, lgbm__n_estimators=250, lgbm__reg_alpha=0.5, lgbm__reg_lambda=0, tfidf__max_features=1500, tfidf__ngram_range=(1, 2), tfidf__norm=l1; total time=  26.1s\n",
      "[CV] END lgbm__max_depth=8, lgbm__n_estimators=250, lgbm__reg_alpha=0.5, lgbm__reg_lambda=0, tfidf__max_features=1500, tfidf__ngram_range=(1, 2), tfidf__norm=l1; total time=  31.6s\n",
      "[CV] END lgbm__max_depth=8, lgbm__n_estimators=250, lgbm__reg_alpha=0.5, lgbm__reg_lambda=0, tfidf__max_features=1500, tfidf__ngram_range=(1, 2), tfidf__norm=l1; total time=  25.8s\n",
      "[CV] END lgbm__max_depth=8, lgbm__n_estimators=250, lgbm__reg_alpha=0.5, lgbm__reg_lambda=0, tfidf__max_features=1500, tfidf__ngram_range=(1, 2), tfidf__norm=l1; total time=  25.8s\n",
      "[CV] END lgbm__max_depth=8, lgbm__n_estimators=250, lgbm__reg_alpha=0.5, lgbm__reg_lambda=0, tfidf__max_features=1500, tfidf__ngram_range=(1, 2), tfidf__norm=l1; total time=  26.3s\n",
      "[CV] END lgbm__max_depth=6, lgbm__n_estimators=500, lgbm__reg_alpha=1, lgbm__reg_lambda=0.5, tfidf__max_features=1500, tfidf__ngram_range=(1, 2), tfidf__norm=l1; total time=  39.2s\n",
      "[CV] END lgbm__max_depth=6, lgbm__n_estimators=500, lgbm__reg_alpha=1, lgbm__reg_lambda=0.5, tfidf__max_features=1500, tfidf__ngram_range=(1, 2), tfidf__norm=l1; total time=  41.7s\n",
      "[CV] END lgbm__max_depth=6, lgbm__n_estimators=500, lgbm__reg_alpha=1, lgbm__reg_lambda=0.5, tfidf__max_features=1500, tfidf__ngram_range=(1, 2), tfidf__norm=l1; total time=  39.2s\n",
      "[CV] END lgbm__max_depth=6, lgbm__n_estimators=500, lgbm__reg_alpha=1, lgbm__reg_lambda=0.5, tfidf__max_features=1500, tfidf__ngram_range=(1, 2), tfidf__norm=l1; total time=  39.1s\n",
      "[CV] END lgbm__max_depth=6, lgbm__n_estimators=500, lgbm__reg_alpha=1, lgbm__reg_lambda=0.5, tfidf__max_features=1500, tfidf__ngram_range=(1, 2), tfidf__norm=l1; total time=  39.5s\n",
      "[CV] END lgbm__max_depth=10, lgbm__n_estimators=500, lgbm__reg_alpha=0, lgbm__reg_lambda=0, tfidf__max_features=None, tfidf__ngram_range=(1, 1), tfidf__norm=l1; total time=  39.3s\n",
      "[CV] END lgbm__max_depth=10, lgbm__n_estimators=500, lgbm__reg_alpha=0, lgbm__reg_lambda=0, tfidf__max_features=None, tfidf__ngram_range=(1, 1), tfidf__norm=l1; total time=  39.9s\n",
      "[CV] END lgbm__max_depth=10, lgbm__n_estimators=500, lgbm__reg_alpha=0, lgbm__reg_lambda=0, tfidf__max_features=None, tfidf__ngram_range=(1, 1), tfidf__norm=l1; total time=  39.5s\n",
      "[CV] END lgbm__max_depth=10, lgbm__n_estimators=500, lgbm__reg_alpha=0, lgbm__reg_lambda=0, tfidf__max_features=None, tfidf__ngram_range=(1, 1), tfidf__norm=l1; total time=  38.9s\n",
      "[CV] END lgbm__max_depth=10, lgbm__n_estimators=500, lgbm__reg_alpha=0, lgbm__reg_lambda=0, tfidf__max_features=None, tfidf__ngram_range=(1, 1), tfidf__norm=l1; total time=  38.4s\n",
      "[CV] END lgbm__max_depth=10, lgbm__n_estimators=500, lgbm__reg_alpha=0, lgbm__reg_lambda=1, tfidf__max_features=1000, tfidf__ngram_range=(1, 2), tfidf__norm=l2; total time=  35.2s\n",
      "[CV] END lgbm__max_depth=10, lgbm__n_estimators=500, lgbm__reg_alpha=0, lgbm__reg_lambda=1, tfidf__max_features=1000, tfidf__ngram_range=(1, 2), tfidf__norm=l2; total time=  34.8s\n",
      "[CV] END lgbm__max_depth=10, lgbm__n_estimators=500, lgbm__reg_alpha=0, lgbm__reg_lambda=1, tfidf__max_features=1000, tfidf__ngram_range=(1, 2), tfidf__norm=l2; total time=  33.9s\n",
      "[CV] END lgbm__max_depth=10, lgbm__n_estimators=500, lgbm__reg_alpha=0, lgbm__reg_lambda=1, tfidf__max_features=1000, tfidf__ngram_range=(1, 2), tfidf__norm=l2; total time=  35.8s\n",
      "[CV] END lgbm__max_depth=10, lgbm__n_estimators=500, lgbm__reg_alpha=0, lgbm__reg_lambda=1, tfidf__max_features=1000, tfidf__ngram_range=(1, 2), tfidf__norm=l2; total time=  35.7s\n",
      "[CV] END lgbm__max_depth=10, lgbm__n_estimators=750, lgbm__reg_alpha=0.5, lgbm__reg_lambda=0.5, tfidf__max_features=1500, tfidf__ngram_range=(1, 1), tfidf__norm=l1; total time= 1.3min\n",
      "[CV] END lgbm__max_depth=10, lgbm__n_estimators=750, lgbm__reg_alpha=0.5, lgbm__reg_lambda=0.5, tfidf__max_features=1500, tfidf__ngram_range=(1, 1), tfidf__norm=l1; total time= 2.0min\n",
      "[CV] END lgbm__max_depth=10, lgbm__n_estimators=750, lgbm__reg_alpha=0.5, lgbm__reg_lambda=0.5, tfidf__max_features=1500, tfidf__ngram_range=(1, 1), tfidf__norm=l1; total time= 3.0min\n",
      "[CV] END lgbm__max_depth=10, lgbm__n_estimators=750, lgbm__reg_alpha=0.5, lgbm__reg_lambda=0.5, tfidf__max_features=1500, tfidf__ngram_range=(1, 1), tfidf__norm=l1; total time= 2.1min\n",
      "[CV] END lgbm__max_depth=10, lgbm__n_estimators=750, lgbm__reg_alpha=0.5, lgbm__reg_lambda=0.5, tfidf__max_features=1500, tfidf__ngram_range=(1, 1), tfidf__norm=l1; total time= 2.0min\n"
     ]
    },
    {
     "data": {
      "text/html": [
       "<style>#sk-container-id-5 {color: black;background-color: white;}#sk-container-id-5 pre{padding: 0;}#sk-container-id-5 div.sk-toggleable {background-color: white;}#sk-container-id-5 label.sk-toggleable__label {cursor: pointer;display: block;width: 100%;margin-bottom: 0;padding: 0.3em;box-sizing: border-box;text-align: center;}#sk-container-id-5 label.sk-toggleable__label-arrow:before {content: \"▸\";float: left;margin-right: 0.25em;color: #696969;}#sk-container-id-5 label.sk-toggleable__label-arrow:hover:before {color: black;}#sk-container-id-5 div.sk-estimator:hover label.sk-toggleable__label-arrow:before {color: black;}#sk-container-id-5 div.sk-toggleable__content {max-height: 0;max-width: 0;overflow: hidden;text-align: left;background-color: #f0f8ff;}#sk-container-id-5 div.sk-toggleable__content pre {margin: 0.2em;color: black;border-radius: 0.25em;background-color: #f0f8ff;}#sk-container-id-5 input.sk-toggleable__control:checked~div.sk-toggleable__content {max-height: 200px;max-width: 100%;overflow: auto;}#sk-container-id-5 input.sk-toggleable__control:checked~label.sk-toggleable__label-arrow:before {content: \"▾\";}#sk-container-id-5 div.sk-estimator input.sk-toggleable__control:checked~label.sk-toggleable__label {background-color: #d4ebff;}#sk-container-id-5 div.sk-label input.sk-toggleable__control:checked~label.sk-toggleable__label {background-color: #d4ebff;}#sk-container-id-5 input.sk-hidden--visually {border: 0;clip: rect(1px 1px 1px 1px);clip: rect(1px, 1px, 1px, 1px);height: 1px;margin: -1px;overflow: hidden;padding: 0;position: absolute;width: 1px;}#sk-container-id-5 div.sk-estimator {font-family: monospace;background-color: #f0f8ff;border: 1px dotted black;border-radius: 0.25em;box-sizing: border-box;margin-bottom: 0.5em;}#sk-container-id-5 div.sk-estimator:hover {background-color: #d4ebff;}#sk-container-id-5 div.sk-parallel-item::after {content: \"\";width: 100%;border-bottom: 1px solid gray;flex-grow: 1;}#sk-container-id-5 div.sk-label:hover label.sk-toggleable__label {background-color: #d4ebff;}#sk-container-id-5 div.sk-serial::before {content: \"\";position: absolute;border-left: 1px solid gray;box-sizing: border-box;top: 0;bottom: 0;left: 50%;z-index: 0;}#sk-container-id-5 div.sk-serial {display: flex;flex-direction: column;align-items: center;background-color: white;padding-right: 0.2em;padding-left: 0.2em;position: relative;}#sk-container-id-5 div.sk-item {position: relative;z-index: 1;}#sk-container-id-5 div.sk-parallel {display: flex;align-items: stretch;justify-content: center;background-color: white;position: relative;}#sk-container-id-5 div.sk-item::before, #sk-container-id-5 div.sk-parallel-item::before {content: \"\";position: absolute;border-left: 1px solid gray;box-sizing: border-box;top: 0;bottom: 0;left: 50%;z-index: -1;}#sk-container-id-5 div.sk-parallel-item {display: flex;flex-direction: column;z-index: 1;position: relative;background-color: white;}#sk-container-id-5 div.sk-parallel-item:first-child::after {align-self: flex-end;width: 50%;}#sk-container-id-5 div.sk-parallel-item:last-child::after {align-self: flex-start;width: 50%;}#sk-container-id-5 div.sk-parallel-item:only-child::after {width: 0;}#sk-container-id-5 div.sk-dashed-wrapped {border: 1px dashed gray;margin: 0 0.4em 0.5em 0.4em;box-sizing: border-box;padding-bottom: 0.4em;background-color: white;}#sk-container-id-5 div.sk-label label {font-family: monospace;font-weight: bold;display: inline-block;line-height: 1.2em;}#sk-container-id-5 div.sk-label-container {text-align: center;}#sk-container-id-5 div.sk-container {/* jupyter's `normalize.less` sets `[hidden] { display: none; }` but bootstrap.min.css set `[hidden] { display: none !important; }` so we also need the `!important` here to be able to override the default hidden behavior on the sphinx rendered scikit-learn.org. See: https://github.com/scikit-learn/scikit-learn/issues/21755 */display: inline-block !important;position: relative;}#sk-container-id-5 div.sk-text-repr-fallback {display: none;}</style><div id=\"sk-container-id-5\" class=\"sk-top-container\"><div class=\"sk-text-repr-fallback\"><pre>RandomizedSearchCV(cv=KFold(n_splits=5, random_state=None, shuffle=False),\n",
       "                   estimator=Pipeline(steps=[(&#x27;tfidf&#x27;, TfidfVectorizer()),\n",
       "                                             (&#x27;lgbm&#x27;,\n",
       "                                              LGBMClassifier(boosting_type=&#x27;goss&#x27;,\n",
       "                                                             objective=&#x27;binary&#x27;,\n",
       "                                                             random_state=RandomState(MT19937) at 0x14934502B40))]),\n",
       "                   param_distributions={&#x27;lgbm__max_depth&#x27;: [6, 8, 10],\n",
       "                                        &#x27;lgbm__n_estimators&#x27;: [250, 500, 750],\n",
       "                                        &#x27;lgbm__reg_alpha&#x27;: [0, 0.5, 1],\n",
       "                                        &#x27;lgbm__reg_lambda&#x27;: [0, 0.5, 1],\n",
       "                                        &#x27;tfidf__max_features&#x27;: [None, 1000,\n",
       "                                                                1500],\n",
       "                                        &#x27;tfidf__ngram_range&#x27;: [(1, 1), (1, 2)],\n",
       "                                        &#x27;tfidf__norm&#x27;: [&#x27;l1&#x27;, &#x27;l2&#x27;]},\n",
       "                   verbose=2)</pre><b>In a Jupyter environment, please rerun this cell to show the HTML representation or trust the notebook. <br />On GitHub, the HTML representation is unable to render, please try loading this page with nbviewer.org.</b></div><div class=\"sk-container\" hidden><div class=\"sk-item sk-dashed-wrapped\"><div class=\"sk-label-container\"><div class=\"sk-label sk-toggleable\"><input class=\"sk-toggleable__control sk-hidden--visually\" id=\"sk-estimator-id-15\" type=\"checkbox\" ><label for=\"sk-estimator-id-15\" class=\"sk-toggleable__label sk-toggleable__label-arrow\">RandomizedSearchCV</label><div class=\"sk-toggleable__content\"><pre>RandomizedSearchCV(cv=KFold(n_splits=5, random_state=None, shuffle=False),\n",
       "                   estimator=Pipeline(steps=[(&#x27;tfidf&#x27;, TfidfVectorizer()),\n",
       "                                             (&#x27;lgbm&#x27;,\n",
       "                                              LGBMClassifier(boosting_type=&#x27;goss&#x27;,\n",
       "                                                             objective=&#x27;binary&#x27;,\n",
       "                                                             random_state=RandomState(MT19937) at 0x14934502B40))]),\n",
       "                   param_distributions={&#x27;lgbm__max_depth&#x27;: [6, 8, 10],\n",
       "                                        &#x27;lgbm__n_estimators&#x27;: [250, 500, 750],\n",
       "                                        &#x27;lgbm__reg_alpha&#x27;: [0, 0.5, 1],\n",
       "                                        &#x27;lgbm__reg_lambda&#x27;: [0, 0.5, 1],\n",
       "                                        &#x27;tfidf__max_features&#x27;: [None, 1000,\n",
       "                                                                1500],\n",
       "                                        &#x27;tfidf__ngram_range&#x27;: [(1, 1), (1, 2)],\n",
       "                                        &#x27;tfidf__norm&#x27;: [&#x27;l1&#x27;, &#x27;l2&#x27;]},\n",
       "                   verbose=2)</pre></div></div></div><div class=\"sk-parallel\"><div class=\"sk-parallel-item\"><div class=\"sk-item\"><div class=\"sk-label-container\"><div class=\"sk-label sk-toggleable\"><input class=\"sk-toggleable__control sk-hidden--visually\" id=\"sk-estimator-id-16\" type=\"checkbox\" ><label for=\"sk-estimator-id-16\" class=\"sk-toggleable__label sk-toggleable__label-arrow\">estimator: Pipeline</label><div class=\"sk-toggleable__content\"><pre>Pipeline(steps=[(&#x27;tfidf&#x27;, TfidfVectorizer()),\n",
       "                (&#x27;lgbm&#x27;,\n",
       "                 LGBMClassifier(boosting_type=&#x27;goss&#x27;, objective=&#x27;binary&#x27;,\n",
       "                                random_state=RandomState(MT19937) at 0x14934502B40))])</pre></div></div></div><div class=\"sk-serial\"><div class=\"sk-item\"><div class=\"sk-serial\"><div class=\"sk-item\"><div class=\"sk-estimator sk-toggleable\"><input class=\"sk-toggleable__control sk-hidden--visually\" id=\"sk-estimator-id-17\" type=\"checkbox\" ><label for=\"sk-estimator-id-17\" class=\"sk-toggleable__label sk-toggleable__label-arrow\">TfidfVectorizer</label><div class=\"sk-toggleable__content\"><pre>TfidfVectorizer()</pre></div></div></div><div class=\"sk-item\"><div class=\"sk-estimator sk-toggleable\"><input class=\"sk-toggleable__control sk-hidden--visually\" id=\"sk-estimator-id-18\" type=\"checkbox\" ><label for=\"sk-estimator-id-18\" class=\"sk-toggleable__label sk-toggleable__label-arrow\">LGBMClassifier</label><div class=\"sk-toggleable__content\"><pre>LGBMClassifier(boosting_type=&#x27;goss&#x27;, objective=&#x27;binary&#x27;,\n",
       "               random_state=RandomState(MT19937) at 0x14934502B40)</pre></div></div></div></div></div></div></div></div></div></div></div></div>"
      ],
      "text/plain": [
       "RandomizedSearchCV(cv=KFold(n_splits=5, random_state=None, shuffle=False),\n",
       "                   estimator=Pipeline(steps=[('tfidf', TfidfVectorizer()),\n",
       "                                             ('lgbm',\n",
       "                                              LGBMClassifier(boosting_type='goss',\n",
       "                                                             objective='binary',\n",
       "                                                             random_state=RandomState(MT19937) at 0x14934502B40))]),\n",
       "                   param_distributions={'lgbm__max_depth': [6, 8, 10],\n",
       "                                        'lgbm__n_estimators': [250, 500, 750],\n",
       "                                        'lgbm__reg_alpha': [0, 0.5, 1],\n",
       "                                        'lgbm__reg_lambda': [0, 0.5, 1],\n",
       "                                        'tfidf__max_features': [None, 1000,\n",
       "                                                                1500],\n",
       "                                        'tfidf__ngram_range': [(1, 1), (1, 2)],\n",
       "                                        'tfidf__norm': ['l1', 'l2']},\n",
       "                   verbose=2)"
      ]
     },
     "execution_count": 88,
     "metadata": {},
     "output_type": "execute_result"
    }
   ],
   "source": [
    "### Perform search\n",
    "lgbm_grid = RandomizedSearchCV(lgbm_pipeline, lgbm_parameters, n_iter = 10, cv = cv, verbose = 2)\n",
    "lgbm_grid.fit(X_train, Y_train)"
   ]
  },
  {
   "cell_type": "code",
   "execution_count": 89,
   "metadata": {},
   "outputs": [
    {
     "data": {
      "text/html": [
       "<style>#sk-container-id-6 {color: black;background-color: white;}#sk-container-id-6 pre{padding: 0;}#sk-container-id-6 div.sk-toggleable {background-color: white;}#sk-container-id-6 label.sk-toggleable__label {cursor: pointer;display: block;width: 100%;margin-bottom: 0;padding: 0.3em;box-sizing: border-box;text-align: center;}#sk-container-id-6 label.sk-toggleable__label-arrow:before {content: \"▸\";float: left;margin-right: 0.25em;color: #696969;}#sk-container-id-6 label.sk-toggleable__label-arrow:hover:before {color: black;}#sk-container-id-6 div.sk-estimator:hover label.sk-toggleable__label-arrow:before {color: black;}#sk-container-id-6 div.sk-toggleable__content {max-height: 0;max-width: 0;overflow: hidden;text-align: left;background-color: #f0f8ff;}#sk-container-id-6 div.sk-toggleable__content pre {margin: 0.2em;color: black;border-radius: 0.25em;background-color: #f0f8ff;}#sk-container-id-6 input.sk-toggleable__control:checked~div.sk-toggleable__content {max-height: 200px;max-width: 100%;overflow: auto;}#sk-container-id-6 input.sk-toggleable__control:checked~label.sk-toggleable__label-arrow:before {content: \"▾\";}#sk-container-id-6 div.sk-estimator input.sk-toggleable__control:checked~label.sk-toggleable__label {background-color: #d4ebff;}#sk-container-id-6 div.sk-label input.sk-toggleable__control:checked~label.sk-toggleable__label {background-color: #d4ebff;}#sk-container-id-6 input.sk-hidden--visually {border: 0;clip: rect(1px 1px 1px 1px);clip: rect(1px, 1px, 1px, 1px);height: 1px;margin: -1px;overflow: hidden;padding: 0;position: absolute;width: 1px;}#sk-container-id-6 div.sk-estimator {font-family: monospace;background-color: #f0f8ff;border: 1px dotted black;border-radius: 0.25em;box-sizing: border-box;margin-bottom: 0.5em;}#sk-container-id-6 div.sk-estimator:hover {background-color: #d4ebff;}#sk-container-id-6 div.sk-parallel-item::after {content: \"\";width: 100%;border-bottom: 1px solid gray;flex-grow: 1;}#sk-container-id-6 div.sk-label:hover label.sk-toggleable__label {background-color: #d4ebff;}#sk-container-id-6 div.sk-serial::before {content: \"\";position: absolute;border-left: 1px solid gray;box-sizing: border-box;top: 0;bottom: 0;left: 50%;z-index: 0;}#sk-container-id-6 div.sk-serial {display: flex;flex-direction: column;align-items: center;background-color: white;padding-right: 0.2em;padding-left: 0.2em;position: relative;}#sk-container-id-6 div.sk-item {position: relative;z-index: 1;}#sk-container-id-6 div.sk-parallel {display: flex;align-items: stretch;justify-content: center;background-color: white;position: relative;}#sk-container-id-6 div.sk-item::before, #sk-container-id-6 div.sk-parallel-item::before {content: \"\";position: absolute;border-left: 1px solid gray;box-sizing: border-box;top: 0;bottom: 0;left: 50%;z-index: -1;}#sk-container-id-6 div.sk-parallel-item {display: flex;flex-direction: column;z-index: 1;position: relative;background-color: white;}#sk-container-id-6 div.sk-parallel-item:first-child::after {align-self: flex-end;width: 50%;}#sk-container-id-6 div.sk-parallel-item:last-child::after {align-self: flex-start;width: 50%;}#sk-container-id-6 div.sk-parallel-item:only-child::after {width: 0;}#sk-container-id-6 div.sk-dashed-wrapped {border: 1px dashed gray;margin: 0 0.4em 0.5em 0.4em;box-sizing: border-box;padding-bottom: 0.4em;background-color: white;}#sk-container-id-6 div.sk-label label {font-family: monospace;font-weight: bold;display: inline-block;line-height: 1.2em;}#sk-container-id-6 div.sk-label-container {text-align: center;}#sk-container-id-6 div.sk-container {/* jupyter's `normalize.less` sets `[hidden] { display: none; }` but bootstrap.min.css set `[hidden] { display: none !important; }` so we also need the `!important` here to be able to override the default hidden behavior on the sphinx rendered scikit-learn.org. See: https://github.com/scikit-learn/scikit-learn/issues/21755 */display: inline-block !important;position: relative;}#sk-container-id-6 div.sk-text-repr-fallback {display: none;}</style><div id=\"sk-container-id-6\" class=\"sk-top-container\"><div class=\"sk-text-repr-fallback\"><pre>Pipeline(steps=[(&#x27;tfidf&#x27;, TfidfVectorizer(max_features=1500)),\n",
       "                (&#x27;lgbm&#x27;,\n",
       "                 LGBMClassifier(boosting_type=&#x27;goss&#x27;, max_depth=10,\n",
       "                                n_estimators=750, objective=&#x27;binary&#x27;,\n",
       "                                random_state=RandomState(MT19937) at 0x1493B6ED940,\n",
       "                                reg_alpha=1, reg_lambda=0.5))])</pre><b>In a Jupyter environment, please rerun this cell to show the HTML representation or trust the notebook. <br />On GitHub, the HTML representation is unable to render, please try loading this page with nbviewer.org.</b></div><div class=\"sk-container\" hidden><div class=\"sk-item sk-dashed-wrapped\"><div class=\"sk-label-container\"><div class=\"sk-label sk-toggleable\"><input class=\"sk-toggleable__control sk-hidden--visually\" id=\"sk-estimator-id-19\" type=\"checkbox\" ><label for=\"sk-estimator-id-19\" class=\"sk-toggleable__label sk-toggleable__label-arrow\">Pipeline</label><div class=\"sk-toggleable__content\"><pre>Pipeline(steps=[(&#x27;tfidf&#x27;, TfidfVectorizer(max_features=1500)),\n",
       "                (&#x27;lgbm&#x27;,\n",
       "                 LGBMClassifier(boosting_type=&#x27;goss&#x27;, max_depth=10,\n",
       "                                n_estimators=750, objective=&#x27;binary&#x27;,\n",
       "                                random_state=RandomState(MT19937) at 0x1493B6ED940,\n",
       "                                reg_alpha=1, reg_lambda=0.5))])</pre></div></div></div><div class=\"sk-serial\"><div class=\"sk-item\"><div class=\"sk-estimator sk-toggleable\"><input class=\"sk-toggleable__control sk-hidden--visually\" id=\"sk-estimator-id-20\" type=\"checkbox\" ><label for=\"sk-estimator-id-20\" class=\"sk-toggleable__label sk-toggleable__label-arrow\">TfidfVectorizer</label><div class=\"sk-toggleable__content\"><pre>TfidfVectorizer(max_features=1500)</pre></div></div></div><div class=\"sk-item\"><div class=\"sk-estimator sk-toggleable\"><input class=\"sk-toggleable__control sk-hidden--visually\" id=\"sk-estimator-id-21\" type=\"checkbox\" ><label for=\"sk-estimator-id-21\" class=\"sk-toggleable__label sk-toggleable__label-arrow\">LGBMClassifier</label><div class=\"sk-toggleable__content\"><pre>LGBMClassifier(boosting_type=&#x27;goss&#x27;, max_depth=10, n_estimators=750,\n",
       "               objective=&#x27;binary&#x27;,\n",
       "               random_state=RandomState(MT19937) at 0x1493B6ED940, reg_alpha=1,\n",
       "               reg_lambda=0.5)</pre></div></div></div></div></div></div></div>"
      ],
      "text/plain": [
       "Pipeline(steps=[('tfidf', TfidfVectorizer(max_features=1500)),\n",
       "                ('lgbm',\n",
       "                 LGBMClassifier(boosting_type='goss', max_depth=10,\n",
       "                                n_estimators=750, objective='binary',\n",
       "                                random_state=RandomState(MT19937) at 0x1493B6ED940,\n",
       "                                reg_alpha=1, reg_lambda=0.5))])"
      ]
     },
     "execution_count": 89,
     "metadata": {},
     "output_type": "execute_result"
    }
   ],
   "source": [
    "### View best model\n",
    "lgbm_grid.best_estimator_"
   ]
  },
  {
   "cell_type": "code",
   "execution_count": 90,
   "metadata": {},
   "outputs": [
    {
     "data": {
      "text/plain": [
       "{'tfidf__norm': 'l2',\n",
       " 'tfidf__ngram_range': (1, 1),\n",
       " 'tfidf__max_features': 1500,\n",
       " 'lgbm__reg_lambda': 0.5,\n",
       " 'lgbm__reg_alpha': 1,\n",
       " 'lgbm__n_estimators': 750,\n",
       " 'lgbm__max_depth': 10}"
      ]
     },
     "execution_count": 90,
     "metadata": {},
     "output_type": "execute_result"
    }
   ],
   "source": [
    "### View best model's parameters\n",
    "lgbm_grid.best_params_"
   ]
  },
  {
   "cell_type": "code",
   "execution_count": 91,
   "metadata": {},
   "outputs": [],
   "source": [
    "### Predict\n",
    "yhat = lgbm_grid.predict(X_test)"
   ]
  },
  {
   "cell_type": "code",
   "execution_count": 93,
   "metadata": {},
   "outputs": [
    {
     "name": "stdout",
     "output_type": "stream",
     "text": [
      "              precision    recall  f1-score   support\n",
      "\n",
      "    Negative       0.84      0.86      0.85      7234\n",
      "    Positive       0.88      0.86      0.87      8825\n",
      "\n",
      "    accuracy                           0.86     16059\n",
      "   macro avg       0.86      0.86      0.86     16059\n",
      "weighted avg       0.86      0.86      0.86     16059\n",
      "\n"
     ]
    }
   ],
   "source": [
    "### Evaluate model\n",
    "print(classification_report(Y_test, yhat))"
   ]
  },
  {
   "cell_type": "code",
   "execution_count": 94,
   "metadata": {},
   "outputs": [
    {
     "data": {
      "text/plain": [
       "['./Models/lgbm-binary.joblib']"
      ]
     },
     "execution_count": 94,
     "metadata": {},
     "output_type": "execute_result"
    }
   ],
   "source": [
    "### Save model\n",
    "dump(lgbm_grid.best_estimator_, \"./Models/lgbm-binary.joblib\")"
   ]
  },
  {
   "attachments": {},
   "cell_type": "markdown",
   "metadata": {},
   "source": [
    "Logistic regression, LightGBM, and Naive Bayes reached an accuracy of 87%, 86%, and 85% respectively. Naive Bayes and LightGBM experienced a 6% increase in accuracy. All algorithms predicted the positive and negative class well. It is evident that approaching this problem with a binary classification mindset resulted in better model performance"
   ]
  }
 ],
 "metadata": {
  "kernelspec": {
   "display_name": "Python 3.9.12 ('nlp_env')",
   "language": "python",
   "name": "python3"
  },
  "language_info": {
   "codemirror_mode": {
    "name": "ipython",
    "version": 3
   },
   "file_extension": ".py",
   "mimetype": "text/x-python",
   "name": "python",
   "nbconvert_exporter": "python",
   "pygments_lexer": "ipython3",
   "version": "3.9.12 (main, Apr  4 2022, 05:22:27) [MSC v.1916 64 bit (AMD64)]"
  },
  "orig_nbformat": 4,
  "vscode": {
   "interpreter": {
    "hash": "a5370620875982b180f7f10e7cd1244568d633959af0215a045ed06468110db6"
   }
  }
 },
 "nbformat": 4,
 "nbformat_minor": 2
}
